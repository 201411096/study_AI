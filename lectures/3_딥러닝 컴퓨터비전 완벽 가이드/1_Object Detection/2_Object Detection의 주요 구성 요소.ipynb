{
 "cells": [
  {
   "cell_type": "markdown",
   "id": "70e4c13a",
   "metadata": {},
   "source": [
    "## Object Detection의 주요 구성 요소\n",
    "\n",
    "1. 영역 추정\n",
    "    * Region Proposal\n",
    "2. Detection을 위한 Deep Learning 네트웍 구성\n",
    "    * Feature Extraction\n",
    "    * FPN\n",
    "    * Network Prediction\n",
    "3. Detection을 구성하는 기타 요소\n",
    "    * IOU\n",
    "    * NMS\n",
    "    * mAP\n",
    "    * Anchor box"
   ]
  },
  {
   "cell_type": "markdown",
   "id": "570852ff",
   "metadata": {},
   "source": [
    "### 일반적인 Object Detection 모델\n",
    "\n",
    "* Backbone -> Neck -> Head\n",
    "    * Neck\n",
    "        * class+box subsets\n",
    "    * Head\n",
    "        * class subsets -> ... -> ... -> ...\n",
    "        * box subsets -> ... -> ... -> ...\n",
    "* ResNet -> Feature Pyramid Network -> classificaiton, bbox regression\n",
    "\n",
    "\n"
   ]
  },
  {
   "cell_type": "markdown",
   "id": "d04e3d8b",
   "metadata": {},
   "source": [
    "### Object Detection의 난제\n",
    "\n",
    "1. Classification + Regression을 동시에\n",
    "    * 이미지에서 여러 개의 물체를 classification함과 동시에 위치를 찾아야 함\n",
    "2. 다양한 크기와 유형의 오브젝트가 섞여 있음\n",
    "3. 중요한 Detect 시간\n",
    "    * Detect 시간이 중요한 실시간 영상 기반에서 Detect해야 하는 요구사항 증대\n",
    "4. 명확하지 않은 이미지\n",
    "    * 오브젝트 이미지가 명확하지 않은 경우가 많음\n",
    "    * 전체 이미지에서 Detect할 오브젝트가 차지하는 비중이 높지 않음(배경이 대부분을 차지하는 경우가 많음)\n",
    "5. 데이터 세트의 부족"
   ]
  },
  {
   "cell_type": "code",
   "execution_count": null,
   "id": "7f72b318",
   "metadata": {},
   "outputs": [],
   "source": []
  }
 ],
 "metadata": {
  "kernelspec": {
   "display_name": "Python 3 (ipykernel)",
   "language": "python",
   "name": "python3"
  },
  "language_info": {
   "codemirror_mode": {
    "name": "ipython",
    "version": 3
   },
   "file_extension": ".py",
   "mimetype": "text/x-python",
   "name": "python",
   "nbconvert_exporter": "python",
   "pygments_lexer": "ipython3",
   "version": "3.9.7"
  }
 },
 "nbformat": 4,
 "nbformat_minor": 5
}
