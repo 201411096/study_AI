{
 "cells": [
  {
   "cell_type": "markdown",
   "id": "bda3e7ac",
   "metadata": {},
   "source": [
    "### SGD(Stochastic Gradient Descent)와 Mini Batch GD\n",
    "\n",
    "* Gradient Descent 방식은 전체 학습 데이터를 기반으로 GD를 계산. 하지만 입력 데이터가 크고 레이어가 많을 수록 GD를 계산하는데 많은 Computing 자원이 소모(일반적으로 메모리 부족으로 연산 불가능할 수 있음)\n",
    "* 이를 극복하기 위해 Stochastic Gradient Descent와 Mini-Batch Gradient Descent 방식이 도입됨\n",
    "\n",
    "1. GD(Gradient Descent)\n",
    "    * 전체 학습 데이터를 기반으로 GD 계산\n",
    "2. SGD\n",
    "    * 전체 학습 데이터 중 한 건만 임의로 선택하여 GD 계산\n",
    "3. Mini - Batch GD\n",
    "    * 전체 학습 데이터 중 특정 크기만큼(Batch 크기) 임의로 선택해서 GD 계산\n",
    "    * 일반적으로 Mini-Batch GD가 대부분의 딥러닝 Framework에서 채택됨"
   ]
  },
  {
   "cell_type": "code",
   "execution_count": null,
   "id": "06582ebd",
   "metadata": {},
   "outputs": [],
   "source": []
  }
 ],
 "metadata": {
  "kernelspec": {
   "display_name": "Python 3 (ipykernel)",
   "language": "python",
   "name": "python3"
  },
  "language_info": {
   "codemirror_mode": {
    "name": "ipython",
    "version": 3
   },
   "file_extension": ".py",
   "mimetype": "text/x-python",
   "name": "python",
   "nbconvert_exporter": "python",
   "pygments_lexer": "ipython3",
   "version": "3.9.7"
  }
 },
 "nbformat": 4,
 "nbformat_minor": 5
}
