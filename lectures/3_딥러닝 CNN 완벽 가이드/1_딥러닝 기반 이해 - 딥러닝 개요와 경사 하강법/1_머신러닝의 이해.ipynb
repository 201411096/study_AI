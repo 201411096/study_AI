{
 "cells": [
  {
   "cell_type": "markdown",
   "id": "681a65f9",
   "metadata": {},
   "source": [
    "### 머신러닝 개요\n",
    "\n",
    "* 입력 데이터가 주어졌을 때 답을 유추해 줄 수 있는 최적의 함수를 찾는 것.\n",
    "* 서로 다른 유형의 머신러닝 기법은 최적의 함수를 찾는 기법이 서로 다름."
   ]
  },
  {
   "cell_type": "markdown",
   "id": "ac0f7842",
   "metadata": {},
   "source": [
    "### 머신러닝 종류\n",
    "\n",
    "* 기호주의\n",
    "    * 결정 트리 등\n",
    "* 연결주의\n",
    "    * 신경망/딥러닝\n",
    "* 확률주의\n",
    "    * 베이지안 통계\n",
    "* 유전 알고리즘\n",
    "* 유추주의"
   ]
  },
  {
   "cell_type": "markdown",
   "id": "820945d2",
   "metadata": {},
   "source": [
    "### 머신러닝과 기존 컴퓨터 사이언스 차이\n",
    "\n",
    "* 일반적인 컴퓨터 사이언스\n",
    "    * a b -> + -> a+b\n",
    "* 머신러닝\n",
    "    * a b -> ? -> c\n",
    "    * 머신러닝은 문제와 답을 주고 규칙을 찾음"
   ]
  },
  {
   "cell_type": "markdown",
   "id": "9a0e7033",
   "metadata": {},
   "source": [
    "### 복잡한 패턴 인식의 어려움\n",
    "\n",
    "* 동일한 숫자라 하더라도 여러 변형으로 인해 숫자 인식에 필요한 여러 특징(feature)들을 if else와 같은 조건으로 구분하여 숫자를 인식하기 어려움"
   ]
  },
  {
   "cell_type": "markdown",
   "id": "a3e90bf4",
   "metadata": {},
   "source": [
    "### 머신러닝을 통한 복잡한 패턴 인식의 해결\n",
    "\n",
    "* 머신러닝은 이러한 복잡한 문제를 데이터를 기반으로 숨겨진 패턴을 인지해 해결\n",
    "* 머신러닝 알고리즘은 데이터를 기반으로 통계적인 신뢰도를 강화하고 예측 오류를 최소화하기 위한 다양한 수학적 기법을 적용해 데이터 내의 패턴을 스스로 인지하고 신뢰도 있는 예측 결과를 도출해 냅니다."
   ]
  },
  {
   "cell_type": "markdown",
   "id": "834198bd",
   "metadata": {},
   "source": [
    "### 머신 러닝 정리\n",
    "\n",
    "* 머신 러닝이란 애플리케이션을 수정하지 않고도 데이터를 기반으로 패턴을 학습하고 결과를 추론하는 알고리즘 기법을 통칭\n",
    "* 영상인식, 음성인식, 자연어 처리, 데이터 마이닝에서 머신 러닝을 적용하면서 급속한 발전 가능"
   ]
  },
  {
   "cell_type": "code",
   "execution_count": null,
   "id": "e2c5e25f",
   "metadata": {},
   "outputs": [],
   "source": []
  }
 ],
 "metadata": {
  "kernelspec": {
   "display_name": "Python 3 (ipykernel)",
   "language": "python",
   "name": "python3"
  },
  "language_info": {
   "codemirror_mode": {
    "name": "ipython",
    "version": 3
   },
   "file_extension": ".py",
   "mimetype": "text/x-python",
   "name": "python",
   "nbconvert_exporter": "python",
   "pygments_lexer": "ipython3",
   "version": "3.9.7"
  }
 },
 "nbformat": 4,
 "nbformat_minor": 5
}
