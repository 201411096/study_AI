{
 "cells": [
  {
   "cell_type": "code",
   "execution_count": 2,
   "metadata": {
    "_cell_guid": "b1076dfc-b9ad-4769-8c92-a6c4dae69d19",
    "_uuid": "8f2839f25d086af736a60e9eeb907d3b93b6e0e5",
    "execution": {
     "iopub.execute_input": "2022-05-24T04:36:26.321736Z",
     "iopub.status.busy": "2022-05-24T04:36:26.321421Z",
     "iopub.status.idle": "2022-05-24T04:36:26.331652Z",
     "shell.execute_reply": "2022-05-24T04:36:26.330835Z",
     "shell.execute_reply.started": "2022-05-24T04:36:26.321699Z"
    }
   },
   "outputs": [],
   "source": [
    "import numpy as np # linear algebra\n",
    "import pandas as pd # data processing, CSV file I/O (e.g. pd.read_csv)\n",
    "\n",
    "import os\n",
    "for dirname, _, filenames in os.walk('/kaggle/input'):\n",
    "    for filename in filenames:\n",
    "        print(os.path.join(dirname, filename))"
   ]
  },
  {
   "cell_type": "markdown",
   "metadata": {},
   "source": [
    "### 보스턴 주택 가격 데이터 세트를 Peceptron 기반에서 학습 및 테스트하기 위한 데이터 로드\n",
    "* 사이킷런에서 보스턴 주택 가격 데이터 세트를 로드하고 이를 DataFrame으로 생성"
   ]
  },
  {
   "cell_type": "code",
   "execution_count": 3,
   "metadata": {
    "execution": {
     "iopub.execute_input": "2022-05-24T04:36:26.731699Z",
     "iopub.status.busy": "2022-05-24T04:36:26.731449Z",
     "iopub.status.idle": "2022-05-24T04:36:27.675945Z",
     "shell.execute_reply": "2022-05-24T04:36:27.675206Z",
     "shell.execute_reply.started": "2022-05-24T04:36:26.731672Z"
    }
   },
   "outputs": [],
   "source": [
    "from sklearn.datasets import load_boston\n",
    "\n",
    "boston = load_boston()\n",
    "bostonDF = pd.DataFrame(boston.data, columns=boston.feature_names)\n",
    "bostonDF['PRICE'] = boston.target\n",
    "print(bostonDF.shape)\n",
    "bostonDF.head()"
   ]
  },
  {
   "cell_type": "markdown",
   "metadata": {},
   "source": [
    "### Weight와 Bias의 Update 값을 계산하는 함수 생성.\n",
    "* w1은 RM(방의 계수) 피처의 Weight 값\n",
    "* w2는 LSTAT(하위계층 비율) 피처의 Weight 값\n",
    "* bias는 Bias\n",
    "* N은 입력 데이터 건수\n",
    "![](https://raw.githubusercontent.com/chulminkw/CNN_PG/main/utils/images/Weight_update.png)\n"
   ]
  },
  {
   "cell_type": "code",
   "execution_count": 4,
   "metadata": {
    "execution": {
     "iopub.execute_input": "2022-05-24T04:36:27.678457Z",
     "iopub.status.busy": "2022-05-24T04:36:27.677934Z",
     "iopub.status.idle": "2022-05-24T04:36:27.686849Z",
     "shell.execute_reply": "2022-05-24T04:36:27.685908Z",
     "shell.execute_reply.started": "2022-05-24T04:36:27.678421Z"
    }
   },
   "outputs": [],
   "source": [
    "# gradient_descent()함수에서 반복적으로 호출되면서 update될 weight/bias 값을 계산하는 함수. \n",
    "# rm은 RM(방 개수), lstat(하위계층 비율), target은 PRICE임. 전체 array가 다 입력됨. \n",
    "# 반환 값은 weight와 bias가 update되어야 할 값과 Mean Squared Error 값을 loss로 반환.\n",
    "def get_update_weights_value(bias, w1, w2, rm, lstat, target, learning_rate=0.01):\n",
    "    \n",
    "    # 데이터 건수\n",
    "    N = len(target)\n",
    "    # 예측 값. \n",
    "    predicted = w1 * rm + w2*lstat + bias\n",
    "    # 실제값과 예측값의 차이 \n",
    "    diff = target - predicted\n",
    "    # bias 를 array 기반으로 구하기 위해서 설정.(-> bias도 dot연산을 하기 위함)\n",
    "    bias_factors = np.ones((N,)) \n",
    "    \n",
    "    # weight와 bias를 얼마나 update할 것인지를 계산.\n",
    "    # dot(내적)연산을 하기 위해서 Transpose 함수를 사용.\n",
    "    w1_update = -(2/N)*learning_rate*(np.dot(rm.T, diff))             # w1_new = w1_old + w1_update\n",
    "    w2_update = -(2/N)*learning_rate*(np.dot(lstat.T, diff))          # w2_new = w2_old + w2_update\n",
    "    bias_update = -(2/N)*learning_rate*(np.dot(bias_factors.T, diff))\n",
    "    \n",
    "    # Mean Squared Error값을 계산. \n",
    "    mse_loss = np.mean(np.square(diff)) # 차이 제곱의 평균(mean : 평균, square : 제곱)\n",
    "    \n",
    "    # weight와 bias가 update되어야 할 값과 Mean Squared Error 값을 반환. \n",
    "    return bias_update, w1_update, w2_update, mse_loss"
   ]
  },
  {
   "cell_type": "markdown",
   "metadata": {},
   "source": [
    "### Gradient Descent 를 적용하는 함수 생성\n",
    "* iter_epochs 수만큼 반복적으로 get_update_weights_value()를 호출하여 update될 weight/bias값을 구한 뒤 Weight/Bias를 Update적용. "
   ]
  },
  {
   "cell_type": "code",
   "execution_count": 5,
   "metadata": {
    "execution": {
     "iopub.execute_input": "2022-05-24T04:36:27.688830Z",
     "iopub.status.busy": "2022-05-24T04:36:27.688293Z",
     "iopub.status.idle": "2022-05-24T04:36:27.697960Z",
     "shell.execute_reply": "2022-05-24T04:36:27.697167Z",
     "shell.execute_reply.started": "2022-05-24T04:36:27.688747Z"
    }
   },
   "outputs": [],
   "source": [
    "# RM, LSTAT feature array와 PRICE target array를 입력 받아서 iter_epochs수만큼 반복적으로 Weight와 Bias를 update적용. \n",
    "def gradient_descent(features, target, iter_epochs=1000, verbose=True):\n",
    "    # w1, w2는 numpy array 연산을 위해 1차원 array로 변환하되 초기 값은 0으로 설정\n",
    "    # bias도 1차원 array로 변환하되 초기 값은 1로 설정. \n",
    "    w1 = np.zeros((1,))\n",
    "    w2 = np.zeros((1,))\n",
    "    bias = np.zeros((1, ))\n",
    "    print('최초 w1, w2, bias:', w1, w2, bias)\n",
    "    \n",
    "    # learning_rate와 RM, LSTAT 피처 지정. 호출 시 numpy array형태로 RM과 LSTAT으로 된 2차원 feature가 입력됨.\n",
    "    learning_rate = 0.01\n",
    "    rm = features[:, 0]\n",
    "    lstat = features[:, 1]\n",
    "    \n",
    "    # iter_epochs 수만큼 반복하면서 weight와 bias update 수행. \n",
    "    for i in range(iter_epochs):\n",
    "        # weight/bias update 값 계산 \n",
    "        bias_update, w1_update, w2_update, loss = get_update_weights_value(bias, w1, w2, rm, lstat, target, learning_rate)\n",
    "        # weight/bias의 update 적용. \n",
    "        w1 = w1 - w1_update\n",
    "        w2 = w2 - w2_update\n",
    "        bias = bias - bias_update\n",
    "        if verbose:\n",
    "            print('Epoch:', i+1,'/', iter_epochs)\n",
    "            print('w1:', w1, 'w2:', w2, 'bias:', bias, 'loss:', loss)\n",
    "        \n",
    "    return w1, w2, bias"
   ]
  },
  {
   "cell_type": "markdown",
   "metadata": {},
   "source": [
    "### Gradient Descent 적용\n",
    "* 신경망은 데이터를 정규화/표준화 작업을 미리 선행해 주어야 함. \n",
    "* 이를 위해 사이킷런의 MinMaxScaler를 이용하여 개별 feature값은 0~1사이 값으로 변환후 학습 적용."
   ]
  },
  {
   "cell_type": "code",
   "execution_count": 6,
   "metadata": {
    "collapsed": true,
    "execution": {
     "iopub.execute_input": "2022-05-24T04:36:28.626089Z",
     "iopub.status.busy": "2022-05-24T04:36:28.625429Z",
     "iopub.status.idle": "2022-05-24T04:36:39.286402Z",
     "shell.execute_reply": "2022-05-24T04:36:39.285661Z",
     "shell.execute_reply.started": "2022-05-24T04:36:28.626048Z"
    },
    "jupyter": {
     "outputs_hidden": true
    }
   },
   "outputs": [],
   "source": [
    "from sklearn.preprocessing import MinMaxScaler\n",
    "\n",
    "scaler = MinMaxScaler()\n",
    "scaled_features = scaler.fit_transform(bostonDF[['RM', 'LSTAT']])\n",
    "\n",
    "w1, w2, bias = gradient_descent(scaled_features, bostonDF['PRICE'].values, iter_epochs=5000, verbose=True) # verbose : logging\n",
    "print('##### 최종 w1, w2, bias #######')\n",
    "print(w1, w2, bias)"
   ]
  },
  {
   "cell_type": "markdown",
   "metadata": {},
   "source": [
    "### 계산된 Weight와 Bias를 이용하여 Price 예측\n",
    "* 예측 feature 역시 0~1사이의 scaled값을 이용하고 Weight와 bias를 적용하여 예측값 계산. "
   ]
  },
  {
   "cell_type": "code",
   "execution_count": 7,
   "metadata": {
    "execution": {
     "iopub.execute_input": "2022-05-24T04:36:39.288324Z",
     "iopub.status.busy": "2022-05-24T04:36:39.288078Z",
     "iopub.status.idle": "2022-05-24T04:36:39.318098Z",
     "shell.execute_reply": "2022-05-24T04:36:39.317423Z",
     "shell.execute_reply.started": "2022-05-24T04:36:39.288290Z"
    }
   },
   "outputs": [],
   "source": [
    "# rm -> scaled_features[:, 0]\n",
    "# lstat -> scaled_features[:, 1]\n",
    "predicted = scaled_features[:, 0]*w1 + scaled_features[:, 1]*w2 + bias \n",
    "bostonDF['PREDICTED_PRICE'] = predicted\n",
    "bostonDF.head(10)"
   ]
  },
  {
   "cell_type": "markdown",
   "metadata": {},
   "source": [
    "### Keras를 이용하여 보스턴 주택가격 모델 학습 및 예측\n",
    "* Dense Layer를 이용하여 퍼셉트론 구현. units는 1로 설정. "
   ]
  },
  {
   "cell_type": "code",
   "execution_count": 8,
   "metadata": {
    "execution": {
     "iopub.execute_input": "2022-05-24T04:36:45.568293Z",
     "iopub.status.busy": "2022-05-24T04:36:45.567608Z",
     "iopub.status.idle": "2022-05-24T04:36:50.504693Z",
     "shell.execute_reply": "2022-05-24T04:36:50.503968Z",
     "shell.execute_reply.started": "2022-05-24T04:36:45.568253Z"
    }
   },
   "outputs": [],
   "source": [
    "from tensorflow.keras.layers import Dense\n",
    "from tensorflow.keras.models import Sequential\n",
    "from tensorflow.keras.optimizers import Adam"
   ]
  },
  {
   "cell_type": "markdown",
   "metadata": {},
   "source": [
    "shift-tab : 해당 메소드 확인 가능"
   ]
  },
  {
   "cell_type": "code",
   "execution_count": 9,
   "metadata": {
    "collapsed": true,
    "execution": {
     "iopub.execute_input": "2022-05-24T04:36:59.093157Z",
     "iopub.status.busy": "2022-05-24T04:36:59.092596Z",
     "iopub.status.idle": "2022-05-24T04:37:43.067421Z",
     "shell.execute_reply": "2022-05-24T04:37:43.066651Z",
     "shell.execute_reply.started": "2022-05-24T04:36:59.093123Z"
    },
    "jupyter": {
     "outputs_hidden": true
    }
   },
   "outputs": [],
   "source": [
    "model = Sequential([\n",
    "    # 단 하나의 units 설정. input_shape는 2차원, 회귀이므로 activation은 설정하지 않음. \n",
    "    # weight와 bias 초기화는 kernel_inbitializer와 bias_initializer를 이용.\n",
    "    Dense(1, input_shape=(2, ), activation=None, kernel_initializer='zeros', bias_initializer='ones')\n",
    "])\n",
    "# Adam optimizer를 이용하고 Loss 함수는 Mean Squared Error, 성능 측정 역시 MSE를 이용하여 학습 수행. \n",
    "model.compile(optimizer=Adam(learning_rate=0.01), loss='mse', metrics=['mse'])\n",
    "model.fit(scaled_features, bostonDF['PRICE'].values, epochs=1000)\n"
   ]
  },
  {
   "cell_type": "markdown",
   "metadata": {},
   "source": [
    "### Keras로 학습된 모델을 이용하여 주택 가격 예측 수행. "
   ]
  },
  {
   "cell_type": "code",
   "execution_count": 10,
   "metadata": {
    "execution": {
     "iopub.execute_input": "2022-05-24T04:37:43.069386Z",
     "iopub.status.busy": "2022-05-24T04:37:43.068979Z",
     "iopub.status.idle": "2022-05-24T04:37:43.255572Z",
     "shell.execute_reply": "2022-05-24T04:37:43.254830Z",
     "shell.execute_reply.started": "2022-05-24T04:37:43.069340Z"
    }
   },
   "outputs": [],
   "source": [
    "predicted = model.predict(scaled_features)\n",
    "bostonDF['KERAS_PREDICTED_PRICE'] = predicted\n",
    "bostonDF.head(10)\n"
   ]
  },
  {
   "cell_type": "code",
   "execution_count": null,
   "metadata": {},
   "outputs": [],
   "source": []
  }
 ],
 "metadata": {
  "kernelspec": {
   "display_name": "Python 3 (ipykernel)",
   "language": "python",
   "name": "python3"
  },
  "language_info": {
   "codemirror_mode": {
    "name": "ipython",
    "version": 3
   },
   "file_extension": ".py",
   "mimetype": "text/x-python",
   "name": "python",
   "nbconvert_exporter": "python",
   "pygments_lexer": "ipython3",
   "version": "3.9.7"
  }
 },
 "nbformat": 4,
 "nbformat_minor": 4
}
