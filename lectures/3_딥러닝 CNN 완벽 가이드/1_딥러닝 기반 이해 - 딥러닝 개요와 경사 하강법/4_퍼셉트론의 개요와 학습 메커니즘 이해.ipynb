{
 "cells": [
  {
   "cell_type": "markdown",
   "id": "336f09f3",
   "metadata": {},
   "source": [
    "### 퍼셉트론(Perceptron) 개요-1\n",
    "\n",
    "* 가장 단순한 형태의 신경망\n",
    "    * Hidden Layer가 없이 Single Layer로 구성됨. 입력 피처들과 가중치, Activation, 출력 값으로 구성"
   ]
  },
  {
   "cell_type": "markdown",
   "id": "7687e6a3",
   "metadata": {},
   "source": [
    "### 퍼셉트론 개요-2\n",
    "\n",
    "* Bias + Features -> WeightedSum -> Activation 함수 적용 -> 출력\n",
    "* Weighted Sum : 입력 feature들의 개별 값과 이 개별 feature에 얼마만큼의 가중치를 주어야 하는가를 결정하는 가중치 값(weight)를 각각 곱하고 최종으로 더해서 나온 값\n",
    "* Activation Function\n",
    "    * Step Function\n",
    "    * Sigmoid\n",
    "    * ReLU\n",
    "* 출력 값 : Weighted Sum 값에 Activation 함수를 적용한 값"
   ]
  },
  {
   "cell_type": "markdown",
   "id": "4ab76f0e",
   "metadata": {},
   "source": [
    "### 퍼셉트론의 학습\n",
    "\n",
    "* 값과 실제 값의 차이가 최소가 되는 weight 값을 찾는 과정이 퍼셉트론이 학습하는 과정\n",
    "* 퍼셉트론이 학습하는 것은 최적의 W벡터($w_0, w_1, ... w_n$)을 찾는 것임\n",
    "* 과정\n",
    "    1. 최초 Weight값 설정\n",
    "    2. 설정된 Weight값과 입력 feature X값으로 예측 값 계산\n",
    "    3. 예측 값과 실제 값의 차이 계산\n",
    "    4. 예측 값과 실제같의 차이를 줄일 수 있게 Weight값 변경\n",
    "    5. 차이의 최소값을 찾을 수 있도록 (2-4)과정을 반복"
   ]
  },
  {
   "cell_type": "code",
   "execution_count": null,
   "id": "ad65f1e5",
   "metadata": {},
   "outputs": [],
   "source": []
  }
 ],
 "metadata": {
  "kernelspec": {
   "display_name": "Python 3 (ipykernel)",
   "language": "python",
   "name": "python3"
  },
  "language_info": {
   "codemirror_mode": {
    "name": "ipython",
    "version": 3
   },
   "file_extension": ".py",
   "mimetype": "text/x-python",
   "name": "python",
   "nbconvert_exporter": "python",
   "pygments_lexer": "ipython3",
   "version": "3.9.7"
  }
 },
 "nbformat": 4,
 "nbformat_minor": 5
}
