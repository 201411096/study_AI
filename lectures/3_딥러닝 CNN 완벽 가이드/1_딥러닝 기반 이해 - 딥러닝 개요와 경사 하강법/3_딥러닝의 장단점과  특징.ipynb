{
 "cells": [
  {
   "cell_type": "markdown",
   "id": "c1a8d402",
   "metadata": {},
   "source": [
    "### 타 머신러닝 vs 딥러닝\n",
    "\n",
    "* 장점\n",
    "    * 매우 유연하고 확장성 있는 모델 구성\n",
    "        * CNN Feature Extractor, RNN, GAN, 강화 학습\n",
    "        * 과거에는 최적화 하기 어려운 문제들을 Deep learning 기반으로 모델링 수행\n",
    "    * 다양한 영역에서 확장되어 활용\n",
    "        * 영상, 음성, 자연어 뿐만 아니라 다양한 영역의 최적화 문제의 해결책 제시\n",
    "* 단점\n",
    "    * 매우 많은 컴퓨팅 연산 필요\n",
    "        * GPU 등의 고가 H/W 필요\n",
    "    * 지나치게 고차원의 최적화 유도\n",
    "        * 정형 데이터에서 큰 성능 향상이 어려움"
   ]
  },
  {
   "cell_type": "markdown",
   "id": "99b80057",
   "metadata": {},
   "source": [
    "### 스스로 Feature Extraction을 생성하는 딥러닝\n",
    "\n",
    "* Feature Engineering을 스스로 하는 것이 아님"
   ]
  },
  {
   "cell_type": "code",
   "execution_count": null,
   "id": "c3f988f8",
   "metadata": {},
   "outputs": [],
   "source": []
  }
 ],
 "metadata": {
  "kernelspec": {
   "display_name": "Python 3 (ipykernel)",
   "language": "python",
   "name": "python3"
  },
  "language_info": {
   "codemirror_mode": {
    "name": "ipython",
    "version": 3
   },
   "file_extension": ".py",
   "mimetype": "text/x-python",
   "name": "python",
   "nbconvert_exporter": "python",
   "pygments_lexer": "ipython3",
   "version": "3.9.7"
  }
 },
 "nbformat": 4,
 "nbformat_minor": 5
}
