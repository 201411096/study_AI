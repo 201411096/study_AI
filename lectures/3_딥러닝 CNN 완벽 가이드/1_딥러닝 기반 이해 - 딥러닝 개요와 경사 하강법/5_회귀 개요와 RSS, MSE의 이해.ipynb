{
 "cells": [
  {
   "cell_type": "markdown",
   "id": "3fe67321",
   "metadata": {},
   "source": [
    "### 회귀(Regression)의 개요\n",
    "\n",
    "* 회귀는 여러 개의 독립변수와 한 개의 종속변수 간의 상관관계를 모델링하는 기법을 통칭합니다.\n",
    "* 머신러닝 회귀 예측의 핵심은 주어진 피처와 결정 값 데이터 기반에서 학습을 통해 최적의 회귀 계수를 찾아내는 것입니다."
   ]
  },
  {
   "cell_type": "markdown",
   "id": "70eee5ec",
   "metadata": {},
   "source": [
    "### 단순 선형 회귀(Simple Regression)를 통한 회귀의 이해\n",
    "\n",
    "* 결과값이 독립변수 하나에만 영향을 받는다고 가정하면, 결과값은 선형(직선 형태)의 관계로 표현할 수 있습니다.\n",
    "* 최적의 회귀 모델을 만든다는 것은 바로 전체 데이터의 잔차(오류 값) 합이 최소가 되는 모델을 만든다는 의미입니다. 동시에 오류 값 합이 최소가 될 수 있는 최적의 회귀 계수를 찾는다는 의미도 됩니다."
   ]
  },
  {
   "cell_type": "markdown",
   "id": "3019844c",
   "metadata": {},
   "source": [
    "### RSS(Residual Sum of Square)기반의 회귀 오류 측정\n",
    "\n",
    "* 오류 값의 제곱을 구해서 더하는 방식입니다. 일반적으로 미분 등의 계산을 편리하게 하기 위해서 RSS 방식으로 오류 합을 구합니다. 즉, $ Error^2 = RSS $입니다."
   ]
  },
  {
   "cell_type": "markdown",
   "id": "fd8e9f15",
   "metadata": {},
   "source": [
    "### RSS와 MSE의 이해\n",
    "\n",
    "* RSS는 이제 변수가 $W_0, W_1$인 식으로 표현할 수 있으며, 이 RSS를 최소로 하는 $W_0, W_1$, 즉 회귀 계수를 학습을 통해서 찾는 것이 머신러닝 기반 회귀의 핵심 사항입니다.\n",
    "* RSS는 회귀식의 독립변수 X, 종속변수 Y가 중심 변수가 아니라 w 변수(회귀 계수)가 중심 변수임을 인지하는 것이 매우 중요합니다.\n",
    "    * 학습데이터로 입력되는 독립변수와 종속변수는 RSS에서 모두 상수로 간주합니다.\n",
    "* RSS를 학습 데이터의 건수로 나누어서 MSE(Mean Squared Error)로 표현할 수 있습니다.\n",
    "<br>\n",
    "\n",
    "* $ RSS(w_0, w_1) = \\sum^N_{i=1}{(y_i - (w_0+w_1*x_i))^2} $\n",
    "* $ MSE(w_0, w_1) = \\frac{1}{N}\\sum^N_{i=1}{(y_i - (w_0+w_1*x_i))^2} $"
   ]
  },
  {
   "cell_type": "markdown",
   "id": "2a5f6356",
   "metadata": {},
   "source": [
    "### MSE - 선형 회귀의 비용 함수\n",
    "\n",
    "* $ MSE(w_0, w_1) = \\frac{1}{N}\\sum^N_{i=1}{(y_i - (w_0+w_1*x_i))^2} $\n",
    "* 회귀에서 이 MSE는 비용(cost)이며, w변수(회귀 계수)로 구성되는 MSE를 비용 함수라고 합니다. 머신러닝 회귀 알고리즘은 데이터를 계속 학습하면서 이 비용 함수가 반환하는 값(즉 오류값)을 지속해서 감소시키고 최종적으로는 더 이상 감소하지 않는 최소의 오류 값을 구하는 것입니다. 비용 함수를 손실함수(loss funciton)라고도 합니다."
   ]
  },
  {
   "cell_type": "code",
   "execution_count": null,
   "id": "b432305c",
   "metadata": {},
   "outputs": [],
   "source": []
  }
 ],
 "metadata": {
  "kernelspec": {
   "display_name": "Python 3 (ipykernel)",
   "language": "python",
   "name": "python3"
  },
  "language_info": {
   "codemirror_mode": {
    "name": "ipython",
    "version": 3
   },
   "file_extension": ".py",
   "mimetype": "text/x-python",
   "name": "python",
   "nbconvert_exporter": "python",
   "pygments_lexer": "ipython3",
   "version": "3.9.7"
  }
 },
 "nbformat": 4,
 "nbformat_minor": 5
}
