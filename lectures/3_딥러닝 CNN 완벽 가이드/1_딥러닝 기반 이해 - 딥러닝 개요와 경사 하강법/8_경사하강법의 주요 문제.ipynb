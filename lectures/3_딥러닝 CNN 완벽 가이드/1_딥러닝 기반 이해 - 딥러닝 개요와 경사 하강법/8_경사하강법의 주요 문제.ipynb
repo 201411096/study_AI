{
 "cells": [
  {
   "cell_type": "markdown",
   "id": "12670be7",
   "metadata": {},
   "source": [
    "### Learning Rate 크기에 따른 이슈\n",
    "\n",
    "* Learning Rate가 작은 경우 : 최소점에 수렴하는데 너무 오랜 시간이 걸림\n",
    "* Learning Rate가 큰 경우 : 최소점을 찾지 못하거나 오히려 발산 될 수 있음"
   ]
  },
  {
   "cell_type": "markdown",
   "id": "9449efa5",
   "metadata": {},
   "source": [
    "### 전역 최소점(Global Minimum)과 국소 최소점(Local Minimum) 이슈\n",
    "\n",
    "* 파라미터가 많아질수록 전역최소점, 국소최소점 발생할 확률이 높아짐"
   ]
  },
  {
   "cell_type": "code",
   "execution_count": null,
   "id": "76a94fb6",
   "metadata": {},
   "outputs": [],
   "source": []
  }
 ],
 "metadata": {
  "kernelspec": {
   "display_name": "Python 3 (ipykernel)",
   "language": "python",
   "name": "python3"
  },
  "language_info": {
   "codemirror_mode": {
    "name": "ipython",
    "version": 3
   },
   "file_extension": ".py",
   "mimetype": "text/x-python",
   "name": "python",
   "nbconvert_exporter": "python",
   "pygments_lexer": "ipython3",
   "version": "3.9.7"
  }
 },
 "nbformat": 4,
 "nbformat_minor": 5
}
