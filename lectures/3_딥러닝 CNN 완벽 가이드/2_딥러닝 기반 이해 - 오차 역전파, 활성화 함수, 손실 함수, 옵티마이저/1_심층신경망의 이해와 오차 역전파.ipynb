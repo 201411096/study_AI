{
 "cells": [
  {
   "cell_type": "markdown",
   "id": "5f794166",
   "metadata": {},
   "source": [
    "### 심층 신경망(다중 퍼셉트론) 개요\n",
    "\n",
    "* Input(features) -> Hidden Layers(lots of layers ~ \"deep learning\") -> Output(prediction)"
   ]
  },
  {
   "cell_type": "markdown",
   "id": "a5af2db7",
   "metadata": {},
   "source": [
    "### 심층 신경망(다중 퍼셉트론) 이해\n",
    "\n",
    "* 기존 퍼셉트론은 간단한 문제만 해결이 가능\n",
    "* 보다 복잡한 문제의 해결을 위해서 은닉층(Hidden Layer)이 포함된 다중 퍼셉트론으로 심층 신경망을 구성\n",
    "* 가중합 -> Activaiton"
   ]
  },
  {
   "cell_type": "markdown",
   "id": "5ca72125",
   "metadata": {},
   "source": [
    "### 심층 신경망의 학습법 개요\n",
    "\n",
    "1. Feed Forward 수행\n",
    "    * Input부터 계산\n",
    "2. Backpropagation을 수행하면서 Weight Update\n",
    "    * Output부터 계산\n",
    "3. 1,2과정을 iteration 수행\n",
    "\n",
    "https://machinelearningknowledge.ai/animated-explanation-of-feed-forward-neural-network-architecture/"
   ]
  },
  {
   "cell_type": "code",
   "execution_count": null,
   "id": "29943be2",
   "metadata": {},
   "outputs": [],
   "source": []
  }
 ],
 "metadata": {
  "kernelspec": {
   "display_name": "Python 3 (ipykernel)",
   "language": "python",
   "name": "python3"
  },
  "language_info": {
   "codemirror_mode": {
    "name": "ipython",
    "version": 3
   },
   "file_extension": ".py",
   "mimetype": "text/x-python",
   "name": "python",
   "nbconvert_exporter": "python",
   "pygments_lexer": "ipython3",
   "version": "3.9.7"
  }
 },
 "nbformat": 4,
 "nbformat_minor": 5
}
