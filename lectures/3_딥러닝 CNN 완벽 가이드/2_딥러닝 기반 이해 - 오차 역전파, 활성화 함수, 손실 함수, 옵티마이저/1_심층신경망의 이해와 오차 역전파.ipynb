{
 "cells": [
  {
   "cell_type": "markdown",
   "id": "5f794166",
   "metadata": {},
   "source": [
    "### 심층 신경망(다중 퍼셉트론) 개요\n",
    "\n",
    "* Input(features) -> Hidden Layers(lots of layers ~ \"deep learning\") -> Output(prediction)"
   ]
  },
  {
   "cell_type": "markdown",
   "id": "a5af2db7",
   "metadata": {},
   "source": [
    "### 심층 신경망(다중 퍼셉트론) 이해\n",
    "\n",
    "* 기존 퍼셉트론은 간단한 문제만 해결이 가능\n",
    "* 보다 복잡한 문제의 해결을 위해서 은닉층(Hidden Layer)이 포함된 다중 퍼셉트론으로 심층 신경망을 구성\n",
    "* Weighted Sum(가중합) -> Activaiton"
   ]
  },
  {
   "cell_type": "markdown",
   "id": "5ca72125",
   "metadata": {},
   "source": [
    "### 심층 신경망의 학습법 개요\n",
    "\n",
    "1. Feed Forward 수행\n",
    "    * Input부터 계산\n",
    "2. Backpropagation을 수행하면서 Weight Update\n",
    "    * Output부터 계산\n",
    "3. 1,2과정을 iteration 수행\n",
    "\n",
    "https://machinelearningknowledge.ai/animated-explanation-of-feed-forward-neural-network-architecture/"
   ]
  },
  {
   "cell_type": "markdown",
   "id": "e1c2a80c",
   "metadata": {},
   "source": [
    "X ->$W^1$->   $F_1$  ->$W^2$->  $F_2$  ->$W^3$->  $F_3$\n",
    "\n",
    "$x_1$   $f_{11}$   $f_{21}$   $f_{31}$\n",
    "\n",
    "$x_2$   $f_{12}$   $f_{22}$\n",
    "\n",
    "$x_3$   $f_{13}$"
   ]
  },
  {
   "cell_type": "markdown",
   "id": "c202face",
   "metadata": {},
   "source": [
    "$\\begin{bmatrix}x_1&x_2&x_3\\\\\\end{bmatrix}$\n",
    "$\\begin{bmatrix}\n",
    "w^1_{11}&w^1_{12}&w^1_{13}\\\\\n",
    "w^1_{21}&w^1_{22}&w^1_{23}\\\\\n",
    "w^1_{31}&w^1_{32}&w^1_{33}\\\\\n",
    "\\end{bmatrix}$\n",
    "=$\\begin{bmatrix}\n",
    "f_{11}&f_{12}&f_{13}\\\\\n",
    "\\end{bmatrix}$\n",
    "\n",
    "$\\begin{bmatrix}o^1_1&o^1_2&o^1_3\\\\\\end{bmatrix}$\n",
    "$\\begin{bmatrix}\n",
    "w^2_{11}&w^2_{12}\\\\\n",
    "w^2_{21}&w^2_{22}\\\\\n",
    "w^2_{31}&w^2_{32}\\\\\n",
    "\\end{bmatrix}$\n",
    "=$\\begin{bmatrix}\n",
    "f_{21}&f_{22}\\\\\n",
    "\\end{bmatrix}$"
   ]
  },
  {
   "cell_type": "code",
   "execution_count": null,
   "id": "3b3b627c",
   "metadata": {},
   "outputs": [],
   "source": []
  }
 ],
 "metadata": {
  "kernelspec": {
   "display_name": "Python 3 (ipykernel)",
   "language": "python",
   "name": "python3"
  },
  "language_info": {
   "codemirror_mode": {
    "name": "ipython",
    "version": 3
   },
   "file_extension": ".py",
   "mimetype": "text/x-python",
   "name": "python",
   "nbconvert_exporter": "python",
   "pygments_lexer": "ipython3",
   "version": "3.9.7"
  }
 },
 "nbformat": 4,
 "nbformat_minor": 5
}
