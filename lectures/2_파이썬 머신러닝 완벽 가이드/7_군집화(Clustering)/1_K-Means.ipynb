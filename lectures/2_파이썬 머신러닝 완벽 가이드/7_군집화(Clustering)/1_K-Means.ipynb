{
 "cells": [
  {
   "cell_type": "markdown",
   "id": "61ec6955",
   "metadata": {},
   "source": [
    "## 군집화(Clustering)\n",
    "\n",
    "* 데이터 포인트들을 별개의 군집으로 그룹화 하는것을 의미합니다.\n",
    "* 유사성이 높은 데이터들을 동일한 그룹으로 분류하고 서로 다른 군집들이 상이성을 가지도록 그룹화합니다."
   ]
  },
  {
   "cell_type": "markdown",
   "id": "c4d53ef0",
   "metadata": {},
   "source": [
    "### 군집화 활용 분야\n",
    "\n",
    "* 고객, 마켓, 브랜드, 사회 경제 활동 세분화(Segmentation)\n",
    "* Image 검출, 세분화, 트랙킹\n",
    "* 이상 검출(Abnormal detection)\n",
    "\n",
    "* 어떻게 유사성을 정의할 것인지 ..."
   ]
  },
  {
   "cell_type": "markdown",
   "id": "39880c24",
   "metadata": {},
   "source": [
    "### 군집화 알고리즘\n",
    "\n",
    "* K-Means\n",
    "* Mean Shift\n",
    "* Gaussian Mixture Model\n",
    "* DBSCAN"
   ]
  },
  {
   "cell_type": "markdown",
   "id": "ab8ceaee",
   "metadata": {},
   "source": [
    "### K-Means Clustering\n",
    "\n",
    "* 군집 중심점(Centroid) 기반 클러스터링\n",
    "* 절차(예시)\n",
    "    1. 2개의 군집 중심점을 설정\n",
    "    2. 각 데이터들을 가까운 중심점에 소속\n",
    "    3. 중심점에 할당된 데이터들의 평균 중심으로 중심점 이동\n",
    "    4. 각 데이터들을 이동된 중심점 기준으로 가장 가까운 중심점에 소속\n",
    "    5. 다시 중심점에 할당된 데이터들의 평균 중심으로 중심점 이동\n",
    "    6. 중심점을 이동하였지만 **데이터들의 중심점 소속 변경이 없으면** 군집화 완료"
   ]
  },
  {
   "cell_type": "markdown",
   "id": "effd13f3",
   "metadata": {},
   "source": [
    "### K-Means의 장점과 단점\n",
    "\n",
    "* 장점\n",
    "    1. 일반적인 군집화에서 가장 많이 활용되는 알고리즘입니다.\n",
    "    2. 알고리즘이 쉽고 간결합니다.\n",
    "    3. 대용량 데이터에도 활용이 가능합니다.\n",
    "* 단점\n",
    "    1. 거리 기반 알고리즘으로 속성의 개수가 매우 많을 경우 군집화 정확도가 떨어집니다.(이를 위해 PCA로 차원 축소를 적용해야 할 수도 있습니다.)\n",
    "    2. 반복을 수행하는데, 반복 횟수가 많을 경우 수행 시간이 느려집니다.\n",
    "    3. 이상치(Outlier) 데이터에 취약합니다."
   ]
  },
  {
   "cell_type": "markdown",
   "id": "55b32fc6",
   "metadata": {},
   "source": [
    "### 사이킷런 KMeans 클래스\n",
    "\n",
    "* 사이킷런 패키지는 K-평균을 구현하기 위해 KMeans 클래스를 제공합니다. KMeans 클래스는 다음과 같은 초기화 파라미터를 가지고 있습니다.\n",
    "* class sklearn.cluster.KMeans(n_clusters=8, init='k-means++', n_init=10, max_iter=300, precompute_distances='auto', verbose=0, random_state=None, copy_x=True, n_jobs=1, algorithm='auto')\n",
    "* 주요 파라미터\n",
    "    * KMeans 초기화 파라미터 중 가장 중요한 파라미터는 n_clusters이며, 이는 군집화할 개수, 즉 군집 중심점의 개수를 의미합니다.\n",
    "    * init는 초기에 군집 중심점의 좌표를 설정할 방식을 말하며, 보통은 임의로 중심을 설정하지 않고 일반적으로 k-means++방식으로 최초 설정합니다.\n",
    "    * max_iter는 최대 반복 횟수이며, 이 횟수 이전에 모든 데이터의 중심점 이동이 없으면 종료합니다.\n",
    "* 주요 속성\n",
    "    * labels_ : 각 데이터 포인트가 속한 군집 중심점 레이블입니다.\n",
    "    * cluster_centers : 각 군집 중심점 좌표(Shape는 [군집 개수, 피처개수]). 이를 이용하면 군집 중심점 좌표가 어디인지 시각화할 수 있습니다."
   ]
  },
  {
   "cell_type": "code",
   "execution_count": null,
   "id": "b750c2de",
   "metadata": {},
   "outputs": [],
   "source": []
  }
 ],
 "metadata": {
  "kernelspec": {
   "display_name": "Python 3 (ipykernel)",
   "language": "python",
   "name": "python3"
  },
  "language_info": {
   "codemirror_mode": {
    "name": "ipython",
    "version": 3
   },
   "file_extension": ".py",
   "mimetype": "text/x-python",
   "name": "python",
   "nbconvert_exporter": "python",
   "pygments_lexer": "ipython3",
   "version": "3.9.7"
  }
 },
 "nbformat": 4,
 "nbformat_minor": 5
}
