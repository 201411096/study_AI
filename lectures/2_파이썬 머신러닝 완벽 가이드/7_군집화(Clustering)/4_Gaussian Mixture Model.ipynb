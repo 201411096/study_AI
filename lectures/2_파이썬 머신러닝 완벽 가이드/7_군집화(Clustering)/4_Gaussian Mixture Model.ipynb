{
 "cells": [
  {
   "cell_type": "markdown",
   "id": "eedd4c44",
   "metadata": {},
   "source": [
    "#### 거리기반 K-Means의 문제점\n",
    "\n",
    "* K-Means는 특정 중심점을 기반으로 거리적으로 퍼져있는 데이터 세트에 군집화를 적용하면 효율적 하지만 K-Means는 이러한 데이터 분포를 가지지 않는 데이터 세트에 대헤서는 효율적인 군집화가 어려움"
   ]
  },
  {
   "cell_type": "markdown",
   "id": "c0b0ffae",
   "metadata": {},
   "source": [
    "## GMM(Gaussian Mixture Model) 개요\n",
    "\n",
    "* GMM 군집화는 군집화를 적용하고자 하는 데이터가 여러 개의 다른 가우시안 분포(Gaussian Distribution)를 가지는 모델로 가정하고 군집화를 수행합니다.\n",
    "* 가령 1000개의 데이터 세트가 있다면, 이를 구성하는 여러 개의 정규 분포 곡선을 추출하고, 개별 데이터가 이 중 어떤 정규 분포에 속하는지 결정하는 방식입니다."
   ]
  },
  {
   "cell_type": "markdown",
   "id": "836421d1",
   "metadata": {},
   "source": [
    "### GMM 모수(Parameter) 추정\n",
    "\n",
    "* GMM 모수 추정은 개별 정규 분포들의 평균과 분산, 그리고 데이터가 특정 정규 분포에 해당될 확률을 추정하는 것입니다."
   ]
  },
  {
   "cell_type": "markdown",
   "id": "ddb2ed5a",
   "metadata": {},
   "source": [
    "### GMM 모수 추정을 위한 EM(Expectation and Maximization)\n",
    "\n",
    "* Expectation : 개별 데이터 각각에 대해서 특정 정규 분포에 소속될 확률을 구하고, 가장 높은 확률을 가진 정규 분포에 소속(최초시에는 데이터들을 임의로 특정 정규 분포로 소속)\n",
    "\n",
    "* Maximization : 데이터들이 특정 정규분포로 소속되면 다시 해당 정규분포의 평균과 분산을 구함. 해당 데이터가 발견될 수 있는 가능도를 최대화(Maximum likelihood) 할 수 있도록 평균과 분산(모수)를 구함\n",
    "\n",
    "\n",
    "* 개별 정규분포의 모수인 평균과 분산이 더 이상 변경되지 않고, 각 개별 데이터들이 이전 정규 분포 소속이 더 이상 변경되지 않으면 그것으로 최종 군집화를 결정하고 그렇지 않으면 계속 EM 반복을 수행\n",
    "    * EM : Expectation, Maximization"
   ]
  },
  {
   "cell_type": "markdown",
   "id": "20ce8336",
   "metadata": {},
   "source": [
    "### 사이킷런 GaussianMixture\n",
    "\n",
    "* 사이킷런은 GMM군집화를 위해 GaussianMixture 클래스를 제공\n",
    "* GaussianMixture 클래스의 주요 생성자 파라미터는 n_components이며 이는 Mixture Model의 개수, 즉 군집화 개수를 의미"
   ]
  },
  {
   "cell_type": "markdown",
   "id": "bbe4938b",
   "metadata": {},
   "source": [
    "---"
   ]
  },
  {
   "cell_type": "markdown",
   "id": "b38d0b50",
   "metadata": {},
   "source": [
    "## GMM을 이용한 붓꽃 데이터 셋 클러스터링"
   ]
  },
  {
   "cell_type": "code",
   "execution_count": 3,
   "id": "73f7c00d",
   "metadata": {},
   "outputs": [],
   "source": [
    "from sklearn.datasets import load_iris\n",
    "from sklearn.cluster import KMeans\n",
    "\n",
    "import matplotlib.pyplot as plt\n",
    "import numpy as np\n",
    "import pandas as pd\n",
    "%matplotlib inline\n",
    "\n",
    "iris = load_iris()\n",
    "feature_names = ['sepal_length', 'sepal_width', 'petal_length', 'petal_width']\n",
    "\n",
    "# 보다 편리한 데이터 Handling을 위해 DataFrame으로 변환\n",
    "irisDF = pd.DataFrame(data=iris.data, columns=feature_names)\n",
    "irisDF['target'] = iris.target"
   ]
  },
  {
   "cell_type": "markdown",
   "id": "d612b0fc",
   "metadata": {},
   "source": [
    "#### GaussianMixture를 이용하여 붓꽃 데이터 군집화"
   ]
  },
  {
   "cell_type": "code",
   "execution_count": 4,
   "id": "94738f88",
   "metadata": {},
   "outputs": [
    {
     "name": "stdout",
     "output_type": "stream",
     "text": [
      "target  gmm_cluster\n",
      "0       0              50\n",
      "1       2              45\n",
      "        1               5\n",
      "2       1              50\n",
      "Name: gmm_cluster, dtype: int64\n"
     ]
    }
   ],
   "source": [
    "from sklearn.mixture import GaussianMixture\n",
    "\n",
    "gmm = GaussianMixture(n_components=3, random_state=0).fit(iris.data)\n",
    "gmm_cluster_labels = gmm.predict(iris.data)\n",
    "\n",
    "# 클러스터링 결과를 irisDF의 'gmm_cluster' 컬럼명으로 저장\n",
    "irisDF['gmm_cluster'] = gmm_cluster_labels\n",
    "\n",
    "# target 값에 따라서 gmm_cluster 값이 어떻게 매핑되었는지 확인.\n",
    "iris_result = irisDF.groupby(['target'])['gmm_cluster'].value_counts() # target으로 먼저 그룹핑\n",
    "print(iris_result)"
   ]
  },
  {
   "cell_type": "markdown",
   "id": "3e10123d",
   "metadata": {},
   "source": [
    "#### 붓꽃 데이터 K-Means 군집화 결과"
   ]
  },
  {
   "cell_type": "code",
   "execution_count": 5,
   "id": "a1284911",
   "metadata": {},
   "outputs": [
    {
     "data": {
      "text/plain": [
       "array(['setosa', 'versicolor', 'virginica'], dtype='<U10')"
      ]
     },
     "execution_count": 5,
     "metadata": {},
     "output_type": "execute_result"
    }
   ],
   "source": [
    "iris.target_names"
   ]
  },
  {
   "cell_type": "code",
   "execution_count": 8,
   "id": "f813a0bf",
   "metadata": {},
   "outputs": [
    {
     "name": "stdout",
     "output_type": "stream",
     "text": [
      "target  kmeans_cluster\n",
      "0       1                 50\n",
      "1       0                 48\n",
      "        2                  2\n",
      "2       2                 36\n",
      "        0                 14\n",
      "Name: kmeans_cluster, dtype: int64\n"
     ]
    }
   ],
   "source": [
    "kmeans = KMeans(n_clusters=3, init='k-means++', max_iter=300, random_state=0).fit(iris.data)\n",
    "kmeans_cluster_labels = kmeans.predict(iris.data)\n",
    "irisDF['kmeans_cluster'] = kmeans_cluster_labels\n",
    "iris_result = irisDF.groupby(['target'])['kmeans_cluster'].value_counts()\n",
    "print(iris_result) #"
   ]
  },
  {
   "cell_type": "markdown",
   "id": "29cc87ee",
   "metadata": {},
   "source": [
    "#### 클러스터링 결과를 시각화하는 함수 생성"
   ]
  },
  {
   "cell_type": "code",
   "execution_count": 12,
   "id": "83fbe17d",
   "metadata": {},
   "outputs": [],
   "source": [
    "## 클러스터 결과를 담은 DataFrame과 사이킷런의 Cluster 객체들을 인자로 받아 클러스터링 결과를 시각화하는 함수\n",
    "def visualize_cluster_plot(clusterobj, dataframe, label_name, iscenter=True):\n",
    "    if iscenter:\n",
    "        centers = clusterobj.cluster_centers_\n",
    "        \n",
    "    unique_labels = np.unique(dataframe[label_name].values)\n",
    "    markers = ['o', 's', '^', 'x', '*']\n",
    "    isNoise = False\n",
    "    \n",
    "    for label in unique_labels:\n",
    "        label_cluster = dataframe[dataframe[label_name]==label]\n",
    "        if label == -1:\n",
    "            cluster_legend = 'Noise'\n",
    "            isNoise = True\n",
    "        else:\n",
    "            cluster_legend = 'Cluster' + str(label)\n",
    "            \n",
    "        plt.scatter(x=label_cluster['ftr1'], y=label_cluster['ftr2'], s=70,\n",
    "                   edgecolor='k', marker=markers[label], label=cluster_legend)\n",
    "        \n",
    "        if iscenter:\n",
    "            center_x_y = centers[label]\n",
    "            plt.scatter(x=center_x_y[0], y=center_x_y[1], s=250, color='white')\n",
    "            plt.scatter(x=center_x_y[0], y=center_x_y[1], s=70, color='k', \n",
    "                        edgecolor='k', marker='$%d$' % label)\n",
    "            \n",
    "    if isNoise:\n",
    "        legend_loc = 'upper center'\n",
    "    else:\n",
    "        legend_loc = 'upper right'\n",
    "    \n",
    "    plt.legend(loc=legend_loc)\n",
    "    plt.show()"
   ]
  },
  {
   "cell_type": "markdown",
   "id": "28978de0",
   "metadata": {},
   "source": [
    "#### GMM 군집화와 K-Means 군집화를 비교하기 위해 타원형으로 늘어선 임의의 데이터 세트를 생성"
   ]
  },
  {
   "cell_type": "code",
   "execution_count": 13,
   "id": "55768e5e",
   "metadata": {},
   "outputs": [
    {
     "data": {
      "image/png": "[encoded data removed]",
      "text/plain": [
       "<Figure size 432x288 with 1 Axes>"
      ]
     },
     "metadata": {
      "needs_background": "light"
     },
     "output_type": "display_data"
    }
   ],
   "source": [
    "from sklearn.datasets import make_blobs\n",
    "\n",
    "# make_blobs() 로 300개의 데이터 셋, 3개의 cluster 셋, cluster_std=0.5을 만듬\n",
    "X, y = make_blobs(n_samples=300, n_features=2, centers=3, cluster_std=0.5, random_state=0)\n",
    "\n",
    "# 길게 늘어난 타원형의 데이터 셋을 생성하기 위해 변환함.\n",
    "transformation = [ [0.60834549, -0.63667341], [-0.40887718, 0.85253229] ]\n",
    "X_aniso = np.dot(X, transformation) # numpy 내적\n",
    "\n",
    "# feature 데이터 셋과 make_blobs()의 y 결과 값을 DataFrame으로 저장\n",
    "clusterDF = pd.DataFrame(data=X_aniso, columns=['ftr1', 'ftr2'])\n",
    "clusterDF['target'] = y\n",
    "\n",
    "# 생성된 데이터 셋을 target별로 다른 marker로 표시하며 시각화 함.\n",
    "visualize_cluster_plot(None, clusterDF, 'target', iscenter=False)\n",
    "\n",
    "# 실제값 확인"
   ]
  },
  {
   "cell_type": "markdown",
   "id": "5dd1dc66",
   "metadata": {},
   "source": [
    "#### K-Means 군집화 수행"
   ]
  },
  {
   "cell_type": "code",
   "execution_count": 15,
   "id": "ed97cc2b",
   "metadata": {},
   "outputs": [
    {
     "data": {
      "image/png": "[encoded data removed]",
      "text/plain": [
       "<Figure size 432x288 with 1 Axes>"
      ]
     },
     "metadata": {
      "needs_background": "light"
     },
     "output_type": "display_data"
    }
   ],
   "source": [
    "# 3개의 Cluster 기반 KMeans를 X_aniso 데이터 셋에 적용\n",
    "kmeans = KMeans(3, random_state=0)\n",
    "kmeans_label = kmeans.fit_predict(X_aniso)\n",
    "clusterDF['kmeans_label'] = kmeans_label\n",
    "\n",
    "visualize_cluster_plot(kmeans, clusterDF, 'kmeans_label', iscenter=True)"
   ]
  },
  {
   "cell_type": "markdown",
   "id": "4cc26566",
   "metadata": {},
   "source": [
    "#### GMM 군집화 수행"
   ]
  },
  {
   "cell_type": "code",
   "execution_count": 16,
   "id": "15b659f1",
   "metadata": {},
   "outputs": [
    {
     "data": {
      "image/png": "[encoded data removed]",
      "text/plain": [
       "<Figure size 432x288 with 1 Axes>"
      ]
     },
     "metadata": {
      "needs_background": "light"
     },
     "output_type": "display_data"
    }
   ],
   "source": [
    "# 3개의 n_componenets 기반 GMM을 X_aniso 데이터 셋에 적용\n",
    "gmm = GaussianMixture(n_components=3, random_state=0)\n",
    "gmm_label = gmm.fit(X_aniso).predict(X_aniso)\n",
    "clusterDF['gmm_label'] = gmm_label\n",
    "\n",
    "# GaussianMixture는 cluster_centers_ 속성이 없으므로 iscenter를 False로 설정\n",
    "visualize_cluster_plot(gmm, clusterDF, 'gmm_label', iscenter=False)"
   ]
  },
  {
   "cell_type": "markdown",
   "id": "449911aa",
   "metadata": {},
   "source": [
    "#### GMM과 K-Means 군집화 비교"
   ]
  },
  {
   "cell_type": "code",
   "execution_count": 18,
   "id": "e9e04f42",
   "metadata": {},
   "outputs": [
    {
     "name": "stdout",
     "output_type": "stream",
     "text": [
      "### KMeans clustering ###\n",
      "target  kmeans_label\n",
      "0       2                73\n",
      "        0                27\n",
      "1       1               100\n",
      "2       0                86\n",
      "        2                14\n",
      "Name: kmeans_label, dtype: int64\n",
      "\n",
      "### Gaussian clustering ###\n",
      "target  gmm_label\n",
      "0       2            100\n",
      "1       1            100\n",
      "2       0            100\n",
      "Name: gmm_label, dtype: int64\n"
     ]
    }
   ],
   "source": [
    "print('### KMeans clustering ###')\n",
    "print(clusterDF.groupby('target')['kmeans_label'].value_counts())\n",
    "print('\\n### Gaussian clustering ###')\n",
    "print(clusterDF.groupby('target')['gmm_label'].value_counts())"
   ]
  },
  {
   "cell_type": "code",
   "execution_count": null,
   "id": "b074556a",
   "metadata": {},
   "outputs": [],
   "source": []
  }
 ],
 "metadata": {
  "kernelspec": {
   "display_name": "Python 3 (ipykernel)",
   "language": "python",
   "name": "python3"
  },
  "language_info": {
   "codemirror_mode": {
    "name": "ipython",
    "version": 3
   },
   "file_extension": ".py",
   "mimetype": "text/x-python",
   "name": "python",
   "nbconvert_exporter": "python",
   "pygments_lexer": "ipython3",
   "version": "3.9.7"
  }
 },
 "nbformat": 4,
 "nbformat_minor": 5
}
