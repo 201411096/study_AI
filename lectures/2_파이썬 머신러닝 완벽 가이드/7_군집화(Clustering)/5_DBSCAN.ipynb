{
 "cells": [
  {
   "cell_type": "markdown",
   "id": "e05553c3",
   "metadata": {},
   "source": [
    "## DBSCAN(Density Based Spatial Clustering of Applications with Noise)\n",
    "\n",
    "* DBSCAN은 특정 공간 내에 데이터 밀도 차이를 기반 알고리즘으로 하고 있어서 복잡한 기하학적 분포도를 가진 데이터 세트에 대해서도 군집화를 잘 수행합니다.\n",
    "\n",
    "\n",
    "* DBSCAN은 알고리즘이 데이터 밀도 차이를 자동으로 감지하여 군집을 생성하므로 사용자가 군집 개수를 지정할 수 없습니다.\n",
    "\n",
    "\n",
    "* DBSCAN은 데이터의 밀도가 자주 변하거나, 아예 모든 데이터의 밀도가 크게 변하지 않으면 군집화 성능이 떨어집니다.\n",
    "\n",
    "\n",
    "* 피처의 개수가 많으면 군집화 성능이 떨어집니다."
   ]
  },
  {
   "cell_type": "markdown",
   "id": "8604b892",
   "metadata": {},
   "source": [
    "### DBSCAN 구성 요소\n",
    "\n",
    "* DBSCAN을 구성하는 가장 중요한 두 가지 파라미터는 입실론(epsilon)으로 표기하는 주변 영역과 이 입실론 주변 영역에 포함되는 최소 데이터의 개수 min points입니다.\n",
    "    * 입실론 주변 영역(epsilon) : 개별 데이터를 중심으로 입실론 반경을 가지는 원형의 영역입니다.\n",
    "    * 최소 데이터 개수(min points) : 개별 데이터의 입실론 주변 영역에 포함되는 타 데이터의 개수입니다.\n",
    "* 입실론 주변 영역 내에 포함되는 최소 데이터 개수를 충족시키는가 아닌가에 따라 데이터 포인트를 다음과 같이 정의합니다.\n",
    "    * 핵심 포인트(Core Point) : 주변 영역 내에 최소 데이터 개수 이상의 타 데이터를 가지고 있을 경우 해당 데이터를 핵심 포인트라고 합니다.\n",
    "    * 이웃 포인트(Neighbor Point) : 주변 영역 내에 위치한 타 데이터를 이웃 포인트라고 합니다.\n",
    "    * 경계 포인트(Border Point) : 주변 영역 내에 최소 데이터 개수 이상의 아웃 포인트를 가지고 있지 않지만, 핵심 포인트를 이웃 포인트로 가지고 있는 데이터를 경계 포인트라고 합니다.\n",
    "    * 잡음 포인트(Noise Point) : 최소 데이터 개수 이상의 이웃 포인트를 가지고 있지 않으며, 핵심 포인트도 이웃 포인트로 가지고 있지 않는 데이터를 잡음 포인트라고 합니다."
   ]
  },
  {
   "cell_type": "markdown",
   "id": "e1cae6f2",
   "metadata": {},
   "source": [
    "### DBSCAN 절차 - 1\n",
    "\n",
    "* P1에서 P12까지 12개의 데이터 세트에 대해서 DBSCAN 군집화를 적용하고, 특정 입실론 반경 내에 포함될 최소 데이터 세트를 6개(자기 자신의 데이터를 포함)로 가정"
   ]
  },
  {
   "cell_type": "markdown",
   "id": "02a592f5",
   "metadata": {},
   "source": [
    "### DBSCAN 절차 - 2\n",
    "\n",
    "* P1 데이터를 기준으로 입실론 반경 내에 포함된 데이터가 최소 데이터 개수를 만족하는 데이터가 핵심 포인트(Core Point)입니다."
   ]
  },
  {
   "cell_type": "markdown",
   "id": "9a6c433b",
   "metadata": {},
   "source": [
    "### DBSCAN 절차 - 3\n",
    "* P2 데이터 포인트 또한 최소 데이터 개수를 만족하는 핵심 포인트를 찾는다."
   ]
  },
  {
   "cell_type": "markdown",
   "id": "96abc112",
   "metadata": {},
   "source": [
    "### DBSCAN 절차 - 4\n",
    "* 핵심 포인트 P1의 이웃 데이터 포인트 P2 역시 핵심 포인트일 경우 P1에서 P2로 연결해 직접 접근이 가능"
   ]
  },
  {
   "cell_type": "markdown",
   "id": "5d88c5b7",
   "metadata": {},
   "source": [
    "### DBSCAN 절차 - 5\n",
    "* 특정 핵심 포인트에서 직접 접근이 가능한 다른 핵심 포인트를 서로 연결하면서 군집화를 구성합니다. 이러한 방식으로 점차적으로 군집(Cluster)영역을 확장해 나가는 것이 DBSCAN 군집화 방식입니다."
   ]
  },
  {
   "cell_type": "markdown",
   "id": "e85ab377",
   "metadata": {},
   "source": [
    "### DBSCAN 절차 - 6\n",
    "* P3 데이터와 같이 핵심 포인트가 될 수 없지만, 핵심 포인트를 이웃 포인트로 가지고 있는 경우, 경계 포인트가 됩니다. 이러한 경계 포인트들은 군집의 외곽을 형성합니다."
   ]
  },
  {
   "cell_type": "markdown",
   "id": "67f254ba",
   "metadata": {},
   "source": [
    "### DBSCAN 절차 - 7\n",
    "* P5와 같이 반경 내에 최소 데이터를 가지고 있지도 않고, 핵심 포인트 또한 이웃 데이터로 가지고 있지 않는 데이터를 잡음 포인트(Noise Point)라고 합니다."
   ]
  },
  {
   "cell_type": "markdown",
   "id": "b7bc100d",
   "metadata": {},
   "source": [
    "### 사이킷런 - DBSCAN\n",
    "\n",
    "* 사이킷런은 DBSCAN 클래스를 통해 DBSCAN 알고리즘을 지원합니다. DBSCAN 클래스는 다음과 같은 주요한 초기화 파라미터를 가지고 있습니다.\n",
    "    * eps : 입실론 주변 영역의 반경을 의미합니다.\n",
    "    * min_samples : 핵심 포인트가 되기 위해 입실론 주변 영역 내에 포함돼야 할 데이터의 최소 개수를 의미합니다.(자신의 데이터를 포함, 위에서 설명한 min points+1)"
   ]
  },
  {
   "cell_type": "code",
   "execution_count": null,
   "id": "1559f19d",
   "metadata": {},
   "outputs": [],
   "source": []
  }
 ],
 "metadata": {
  "kernelspec": {
   "display_name": "Python 3 (ipykernel)",
   "language": "python",
   "name": "python3"
  },
  "language_info": {
   "codemirror_mode": {
    "name": "ipython",
    "version": 3
   },
   "file_extension": ".py",
   "mimetype": "text/x-python",
   "name": "python",
   "nbconvert_exporter": "python",
   "pygments_lexer": "ipython3",
   "version": "3.9.7"
  }
 },
 "nbformat": 4,
 "nbformat_minor": 5
}
