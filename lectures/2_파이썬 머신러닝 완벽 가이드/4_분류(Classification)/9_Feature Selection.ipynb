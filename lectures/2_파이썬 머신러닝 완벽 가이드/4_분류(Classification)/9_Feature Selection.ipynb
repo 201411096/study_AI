{
 "cells": [
  {
   "cell_type": "markdown",
   "id": "7fa673e9",
   "metadata": {},
   "source": [
    "## Feature Selection\n",
    "\n",
    "### 모델을 구성하는 주요 피처들을 선택\n",
    "\n",
    "* 불필요한 다수의 피처들로 인해 모델 성능을 떨어트릴 가능성 제거\n",
    "* 설명 가능한 모델이 될 수 있도록 피처들을 선별"
   ]
  },
  {
   "cell_type": "markdown",
   "id": "aa5ae621",
   "metadata": {},
   "source": [
    "### Feature Selection 유형\n",
    "\n",
    "* 피처값의 분포, Null, 피처간 높은 상관도, 결정값과의 독립성등을 고려\n",
    "* 모델의 피처 중요도(Feature importance) 기반"
   ]
  },
  {
   "cell_type": "markdown",
   "id": "187d3379",
   "metadata": {},
   "source": [
    "### 사이킷런의 Feature Selection 지원\n",
    "\n",
    "* RFE(Recursive Feature Elimination)\n",
    "    * 모델 최초 학습 후 Feature 중요도 선정\n",
    "    * feature 중요도가 낮은 속성들을 차례로 제거해 가면서 반복적으로 학습/평가를 수행하여 최적 feature 추출\n",
    "    * 수행시간이 오래 걸리고, 낮은 속성들을 제거해 나가는 메커니즘이 정확한 Feature Selection을 찾는 목표에 정확히 부합하지 않을 수 있음\n",
    "    * 방법은 좋으나 잘 사용되지 않음\n",
    "* SelectFromModel\n",
    "    * 모델 최초 학습 후 선정된 Feautre의 중요도에 따라 평균/중앙값의 특적 비율 이상인 Feature들을 선택"
   ]
  },
  {
   "cell_type": "markdown",
   "id": "f1a1a1fe",
   "metadata": {},
   "source": [
    "---"
   ]
  },
  {
   "cell_type": "markdown",
   "id": "e57c890f",
   "metadata": {},
   "source": [
    "### Recursive Feature Elimination\n",
    "\n",
    "* feature 중요도가 낮은 속성들을 차례로 제거해 가면서 반복적으로 학습/평가를 수행하여 최적 feature 추출\n",
    "* 수행시간이 오래 걸리고, 낮은 속성들을 제거해 나가는 메커니즘이 정확한 Feature Selection을 찾는 목표에 정확히 부합되지 않을 수 있음"
   ]
  },
  {
   "cell_type": "code",
   "execution_count": 3,
   "id": "9684211d",
   "metadata": {},
   "outputs": [
    {
     "name": "stdout",
     "output_type": "stream",
     "text": [
      "Fitting estimator with 25 features.\n",
      "Fitting estimator with 24 features.\n",
      "Fitting estimator with 23 features.\n",
      "Fitting estimator with 22 features.\n",
      "Fitting estimator with 21 features.\n",
      "Fitting estimator with 20 features.\n",
      "Fitting estimator with 19 features.\n",
      "Fitting estimator with 18 features.\n",
      "Fitting estimator with 17 features.\n",
      "Fitting estimator with 16 features.\n",
      "Fitting estimator with 15 features.\n",
      "Fitting estimator with 14 features.\n",
      "Fitting estimator with 13 features.\n",
      "Fitting estimator with 12 features.\n",
      "Fitting estimator with 11 features.\n",
      "Fitting estimator with 10 features.\n",
      "Fitting estimator with 9 features.\n",
      "Fitting estimator with 8 features.\n",
      "Fitting estimator with 7 features.\n",
      "Fitting estimator with 6 features.\n",
      "Fitting estimator with 5 features.\n",
      "Fitting estimator with 4 features.\n",
      "Fitting estimator with 3 features.\n",
      "Fitting estimator with 2 features.\n",
      "Fitting estimator with 25 features.\n",
      "Fitting estimator with 24 features.\n",
      "Fitting estimator with 23 features.\n",
      "Fitting estimator with 22 features.\n",
      "Fitting estimator with 21 features.\n",
      "Fitting estimator with 20 features.\n",
      "Fitting estimator with 19 features.\n",
      "Fitting estimator with 18 features.\n",
      "Fitting estimator with 17 features.\n",
      "Fitting estimator with 16 features.\n",
      "Fitting estimator with 15 features.\n",
      "Fitting estimator with 14 features.\n",
      "Fitting estimator with 13 features.\n",
      "Fitting estimator with 12 features.\n",
      "Fitting estimator with 11 features.\n",
      "Fitting estimator with 10 features.\n",
      "Fitting estimator with 9 features.\n",
      "Fitting estimator with 8 features.\n",
      "Fitting estimator with 7 features.\n",
      "Fitting estimator with 6 features.\n",
      "Fitting estimator with 5 features.\n",
      "Fitting estimator with 4 features.\n",
      "Fitting estimator with 3 features.\n",
      "Fitting estimator with 2 features.\n",
      "Fitting estimator with 25 features.\n",
      "Fitting estimator with 24 features.\n",
      "Fitting estimator with 23 features.\n",
      "Fitting estimator with 22 features.\n",
      "Fitting estimator with 21 features.\n",
      "Fitting estimator with 20 features.\n",
      "Fitting estimator with 19 features.\n",
      "Fitting estimator with 18 features.\n",
      "Fitting estimator with 17 features.\n",
      "Fitting estimator with 16 features.\n",
      "Fitting estimator with 15 features.\n",
      "Fitting estimator with 14 features.\n",
      "Fitting estimator with 13 features.\n",
      "Fitting estimator with 12 features.\n",
      "Fitting estimator with 11 features.\n",
      "Fitting estimator with 10 features.\n",
      "Fitting estimator with 9 features.\n",
      "Fitting estimator with 8 features.\n",
      "Fitting estimator with 7 features.\n",
      "Fitting estimator with 6 features.\n",
      "Fitting estimator with 5 features.\n",
      "Fitting estimator with 4 features.\n",
      "Optimal number of features : 3\n"
     ]
    },
    {
     "data": {
      "image/png": "[encoded data removed]",
      "text/plain": [
       "<Figure size 432x288 with 1 Axes>"
      ]
     },
     "metadata": {
      "needs_background": "light"
     },
     "output_type": "display_data"
    }
   ],
   "source": [
    "import matplotlib.pyplot as plt\n",
    "from sklearn.svm import SVC\n",
    "from sklearn.model_selection import StratifiedKFold\n",
    "from sklearn.feature_selection import RFECV, RFE\n",
    "from sklearn.datasets import make_classification\n",
    "\n",
    "# 분류를 위한 Feature 개수가 25개인 데이터 1000개 생성\n",
    "X, y = make_classification(n_samples=1000, n_features=25, n_informative=3,\n",
    "                           n_redundant=2, n_repeated=0, n_classes=8,\n",
    "                           n_clusters_per_class=1, random_state=0)\n",
    "\n",
    "# SVC Classifier 선택\n",
    "svc = SVC(kernel='linear')\n",
    "# REFCV로 feature들을 반복적으로 제거해가면서 학습/평가 수행\n",
    "rfecv = RFECV(estimator=svc, step=1, cv=StratifiedKFold(2), scoring='accuracy', verbose=2)\n",
    "rfecv.fit(X, y)\n",
    "\n",
    "print('Optimal number of features : %d'% rfecv.n_features_)\n",
    "\n",
    "# Plot number of features VS cross-validation scores\n",
    "plt.figure()\n",
    "plt.xlabel(\"Number of features selected\")\n",
    "plt.ylabel('Cross validation score (nb of correct classifications)')\n",
    "plt.plot( range(1, len(rfecv.grid_scores_) + 1), rfecv.grid_scores_ )\n",
    "plt.show()"
   ]
  },
  {
   "cell_type": "code",
   "execution_count": 4,
   "id": "734b5479",
   "metadata": {},
   "outputs": [],
   "source": [
    "# Build a classification task using 3 informative features\n",
    "X, y = make_classification(n_samples=10000, n_features=25, n_informative=3,\n",
    "                          n_redundant=2, n_repeated=0, n_classes=8,\n",
    "                          n_clusters_per_class=1, random_state=0)"
   ]
  },
  {
   "cell_type": "code",
   "execution_count": 5,
   "id": "310998f0",
   "metadata": {},
   "outputs": [
    {
     "name": "stdout",
     "output_type": "stream",
     "text": [
      "Fitting estimator with 25 features.\n",
      "Fitting estimator with 24 features.\n",
      "Fitting estimator with 23 features.\n",
      "Fitting estimator with 22 features.\n",
      "Fitting estimator with 21 features.\n",
      "Fitting estimator with 20 features.\n",
      "Fitting estimator with 19 features.\n",
      "Fitting estimator with 18 features.\n",
      "Fitting estimator with 17 features.\n",
      "Fitting estimator with 16 features.\n",
      "Fitting estimator with 15 features.\n",
      "Fitting estimator with 14 features.\n",
      "Fitting estimator with 13 features.\n",
      "Fitting estimator with 12 features.\n",
      "Fitting estimator with 11 features.\n",
      "Fitting estimator with 10 features.\n",
      "Fitting estimator with 9 features.\n",
      "Fitting estimator with 8 features.\n",
      "Fitting estimator with 7 features.\n",
      "Fitting estimator with 6 features.\n",
      "Fitting estimator with 5 features.\n",
      "Fitting estimator with 4 features.\n",
      "Fitting estimator with 3 features.\n",
      "Fitting estimator with 2 features.\n",
      "Fitting estimator with 25 features.\n",
      "Fitting estimator with 24 features.\n",
      "Fitting estimator with 23 features.\n",
      "Fitting estimator with 22 features.\n",
      "Fitting estimator with 21 features.\n",
      "Fitting estimator with 20 features.\n",
      "Fitting estimator with 19 features.\n",
      "Fitting estimator with 18 features.\n",
      "Fitting estimator with 17 features.\n",
      "Fitting estimator with 16 features.\n",
      "Fitting estimator with 15 features.\n",
      "Fitting estimator with 14 features.\n",
      "Fitting estimator with 13 features.\n",
      "Fitting estimator with 12 features.\n",
      "Fitting estimator with 11 features.\n",
      "Fitting estimator with 10 features.\n",
      "Fitting estimator with 9 features.\n",
      "Fitting estimator with 8 features.\n",
      "Fitting estimator with 7 features.\n",
      "Fitting estimator with 6 features.\n",
      "Fitting estimator with 5 features.\n",
      "Fitting estimator with 4 features.\n",
      "Fitting estimator with 3 features.\n",
      "Fitting estimator with 2 features.\n",
      "Fitting estimator with 25 features.\n",
      "Fitting estimator with 24 features.\n",
      "Fitting estimator with 23 features.\n",
      "Fitting estimator with 22 features.\n",
      "Fitting estimator with 21 features.\n",
      "Fitting estimator with 20 features.\n",
      "Fitting estimator with 19 features.\n",
      "Fitting estimator with 18 features.\n",
      "Fitting estimator with 17 features.\n",
      "Fitting estimator with 16 features.\n",
      "Fitting estimator with 15 features.\n",
      "Fitting estimator with 14 features.\n",
      "Fitting estimator with 13 features.\n",
      "Fitting estimator with 12 features.\n",
      "Fitting estimator with 11 features.\n",
      "Fitting estimator with 10 features.\n",
      "Fitting estimator with 9 features.\n",
      "Fitting estimator with 8 features.\n",
      "Fitting estimator with 7 features.\n",
      "Fitting estimator with 6 features.\n",
      "Optimal number of features : 5\n"
     ]
    },
    {
     "data": {
      "image/png": "[encoded data removed]",
      "text/plain": [
       "<Figure size 432x288 with 1 Axes>"
      ]
     },
     "metadata": {
      "needs_background": "light"
     },
     "output_type": "display_data"
    }
   ],
   "source": [
    "# SVC classifier 선택\n",
    "svc = SVC(kernel=\"linear\")\n",
    "# REFCV로 Feature들을 반복적으로 제거해가면서 학습/평가 수행.\n",
    "rfecv = RFECV(estimator=svc, step=1, cv=StratifiedKFold(2), scoring='accuracy', verbose=2)\n",
    "rfecv.fit(X, y)\n",
    "\n",
    "print('Optimal number of features : %d'% rfecv.n_features_)\n",
    "\n",
    "# Plot number of features VS. cross-validation scores\n",
    "plt.figure()\n",
    "plt.xlabel('Number of features selected')\n",
    "plt.ylabel('Cross validation score (nb of correct classifications)')\n",
    "plt.plot(range(1, len(rfecv.grid_scores_)+1), rfecv.grid_scores_)\n",
    "plt.show()"
   ]
  },
  {
   "cell_type": "markdown",
   "id": "795dc5cd",
   "metadata": {},
   "source": [
    "### SelectFromModel"
   ]
  },
  {
   "cell_type": "code",
   "execution_count": 6,
   "id": "41f99ab0",
   "metadata": {},
   "outputs": [
    {
     "name": "stdout",
     "output_type": "stream",
     "text": [
      ".. _diabetes_dataset:\n",
      "\n",
      "Diabetes dataset\n",
      "----------------\n",
      "\n",
      "Ten baseline variables, age, sex, body mass index, average blood\n",
      "pressure, and six blood serum measurements were obtained for each of n =\n",
      "442 diabetes patients, as well as the response of interest, a\n",
      "quantitative measure of disease progression one year after baseline.\n",
      "\n",
      "**Data Set Characteristics:**\n",
      "\n",
      "  :Number of Instances: 442\n",
      "\n",
      "  :Number of Attributes: First 10 columns are numeric predictive values\n",
      "\n",
      "  :Target: Column 11 is a quantitative measure of disease progression one year after baseline\n",
      "\n",
      "  :Attribute Information:\n",
      "      - age     age in years\n",
      "      - sex\n",
      "      - bmi     body mass index\n",
      "      - bp      average blood pressure\n",
      "      - s1      tc, total serum cholesterol\n",
      "      - s2      ldl, low-density lipoproteins\n",
      "      - s3      hdl, high-density lipoproteins\n",
      "      - s4      tch, total cholesterol / HDL\n",
      "      - s5      ltg, possibly log of serum triglycerides level\n",
      "      - s6      glu, blood sugar level\n",
      "\n",
      "Note: Each of these 10 feature variables have been mean centered and scaled by the standard deviation times `n_samples` (i.e. the sum of squares of each column totals 1).\n",
      "\n",
      "Source URL:\n",
      "https://www4.stat.ncsu.edu/~boos/var.select/diabetes.html\n",
      "\n",
      "For more information see:\n",
      "Bradley Efron, Trevor Hastie, Iain Johnstone and Robert Tibshirani (2004) \"Least Angle Regression,\" Annals of Statistics (with discussion), 407-499.\n",
      "(https://web.stanford.edu/~hastie/Papers/LARS/LeastAngle_2002.pdf)\n"
     ]
    }
   ],
   "source": [
    "from sklearn.datasets import load_diabetes\n",
    "\n",
    "diabetes = load_diabetes()\n",
    "X, y = diabetes.data, diabetes.target\n",
    "print(diabetes.DESCR)"
   ]
  },
  {
   "cell_type": "code",
   "execution_count": 7,
   "id": "c3465c81",
   "metadata": {},
   "outputs": [
    {
     "data": {
      "image/png": "[encoded data removed]",
      "text/plain": [
       "<Figure size 432x288 with 1 Axes>"
      ]
     },
     "metadata": {
      "needs_background": "light"
     },
     "output_type": "display_data"
    }
   ],
   "source": [
    "import matplotlib.pyplot as plt\n",
    "import numpy as np\n",
    "from sklearn.linear_model import LassoCV\n",
    "\n",
    "lasso = LassoCV().fit(X, y)\n",
    "\n",
    "importance = np.abs(lasso.coef_)\n",
    "feature_names = np.array(diabetes.feature_names)\n",
    "\n",
    "plt.bar(height=importance, x=feature_names)\n",
    "plt.title('Feature importances via coefficients')\n",
    "plt.show()"
   ]
  },
  {
   "cell_type": "code",
   "execution_count": 11,
   "id": "1bc67468",
   "metadata": {},
   "outputs": [
    {
     "name": "stdout",
     "output_type": "stream",
     "text": [
      "threshold :  521.7485426067491\n",
      "Features selected by SelectFromModel :  ['s1' 's5']\n"
     ]
    }
   ],
   "source": [
    "from sklearn.feature_selection import SelectFromModel\n",
    "from time import time\n",
    "\n",
    "threshold = np.sort(importance)[-3] + 0.01\n",
    "print('threshold : ', threshold)\n",
    "\n",
    "sfm = SelectFromModel(lasso, threshold=threshold).fit(X, y)\n",
    "# sfm = SelectFromModel(lasso, threshold='median').fit(X, y)\n",
    "\n",
    "print('Features selected by SelectFromModel : ', feature_names[sfm.get_support()])\n"
   ]
  },
  {
   "cell_type": "markdown",
   "id": "7636b843",
   "metadata": {},
   "source": [
    "---\n",
    "## Permutation importance\n",
    "\n",
    "* 특정 피처들의 값을 완전히 변조했을 때, 모델 성능이 얼마나 저하되는지를 기준으로 해당 피처의 중요도를 선정\n",
    "* 학습 데이터를 제거하거나/변조하면 다시 재 학습을 수행해야 하므로 수행 시간이 오래 걸림\n",
    "* 일반적으로 테스트 데이터(검증 데이터)에 특정 피처들을 반복적으로 변조한 뒤, 해당 피처의 중요도를 평균적으로 산정\n",
    "* https://scikit-learn.org/stable/modules/permutation_importance.html"
   ]
  },
  {
   "cell_type": "code",
   "execution_count": 2,
   "id": "b335e93b",
   "metadata": {},
   "outputs": [
    {
     "name": "stdout",
     "output_type": "stream",
     "text": [
      "R2 score :  0.35666062386954533\n"
     ]
    }
   ],
   "source": [
    "from sklearn.datasets import load_diabetes\n",
    "from sklearn.model_selection import train_test_split\n",
    "from sklearn.linear_model import Ridge\n",
    "from sklearn.metrics import r2_score\n",
    "\n",
    "diabetes = load_diabetes()\n",
    "X_train, X_val, y_train, y_val = train_test_split(diabetes.data, diabetes.target, random_state=0)\n",
    "\n",
    "# 학습, 예측, R2 Score 평가\n",
    "model = Ridge(alpha=1e-2).fit(X_train, y_train)\n",
    "y_pred = model.predict(X_val)\n",
    "\n",
    "print('R2 score : ', r2_score(y_val, y_pred))"
   ]
  },
  {
   "cell_type": "code",
   "execution_count": 6,
   "id": "aa6e5a9b",
   "metadata": {},
   "outputs": [
    {
     "name": "stdout",
     "output_type": "stream",
     "text": [
      "s5   0.2042  +/-  0.04965\n",
      "bmi   0.1758  +/-  0.0484\n",
      "bp   0.0884  +/-  0.03284\n",
      "sex   0.0559  +/-  0.02319\n"
     ]
    }
   ],
   "source": [
    "from sklearn.inspection import permutation_importance\n",
    "import numpy as np\n",
    "\n",
    "r = permutation_importance(model, X_val, y_val, n_repeats=30, random_state=0)\n",
    "\n",
    "# 가장 평균 permutation importance가 높은 순으로 내림차순 정렬 후 평균 permutation importance값과 표준 편차 출력\n",
    "for i in r.importances_mean.argsort()[::-1]:\n",
    "    if r.importances_mean[i] - 2 * r.importances_std[i] > 0 :\n",
    "        print(diabetes.feature_names[i], \" \", np.round(r.importances_mean[i], 4), \" +/- \", np.round(r.importances_std[i], 5))"
   ]
  },
  {
   "cell_type": "code",
   "execution_count": 5,
   "id": "6a7e5498",
   "metadata": {},
   "outputs": [
    {
     "data": {
      "text/plain": [
       "array([-0.00199267,  0.05587407,  0.17579   ,  0.08836513,  0.04221134,\n",
       "        0.00203626,  0.00203754,  0.00318695,  0.20423412,  0.00278683])"
      ]
     },
     "execution_count": 5,
     "metadata": {},
     "output_type": "execute_result"
    }
   ],
   "source": [
    "r.importances_mean"
   ]
  },
  {
   "cell_type": "markdown",
   "id": "19f85324",
   "metadata": {},
   "source": [
    "### Feature importance가 절대적인 feature selection의 기준이 될 수 없는 이유\n",
    "\n",
    "* Feature importance는 최적 tree 구조를 만들기 위한 피처들의 impurity가 중요 기준임. 결정 값과 관련이 없어도 feature importance가 높아질 수 있음\n",
    "* Feature importance는 학습 데이터를 기반으로 생성됨 -> 테스트 데이터에는 달라질 수 있음\n",
    "* Feature importance는 number형의 높은 cardinality feature에 biased되어 있음"
   ]
  },
  {
   "cell_type": "markdown",
   "id": "607cec41",
   "metadata": {},
   "source": [
    "### Permutation Imporance vs Random Forest Feature Importance\n",
    "\n",
    "* https://scikit-learn.org/stable/auto_examples/inspection/plot_permutation_importance.html"
   ]
  },
  {
   "cell_type": "code",
   "execution_count": 7,
   "id": "eedc503d",
   "metadata": {},
   "outputs": [],
   "source": [
    "import matplotlib.pyplot as plt\n",
    "import numpy as np\n",
    "\n",
    "from sklearn.datasets import fetch_openml\n",
    "from sklearn.ensemble import RandomForestClassifier\n",
    "from sklearn.impute import SimpleImputer\n",
    "from sklearn.inspection import permutation_importance\n",
    "from sklearn.compose import ColumnTransformer\n",
    "from sklearn.model_selection import train_test_split\n",
    "from sklearn.pipeline import Pipeline\n",
    "from sklearn.preprocessing import OneHotEncoder"
   ]
  },
  {
   "cell_type": "code",
   "execution_count": 8,
   "id": "300e101b",
   "metadata": {},
   "outputs": [],
   "source": [
    "# titanic 데이터 세트 로딩\n",
    "X, y = fetch_openml(\"titanic\", version=1, as_frame=True, return_X_y=True)"
   ]
  },
  {
   "cell_type": "code",
   "execution_count": 9,
   "id": "24eb80a3",
   "metadata": {},
   "outputs": [
    {
     "data": {
      "text/plain": [
       "Pipeline(steps=[('preprocess',\n",
       "                 ColumnTransformer(transformers=[('cat',\n",
       "                                                  Pipeline(steps=[('imputer',\n",
       "                                                                   SimpleImputer(fill_value='missing',\n",
       "                                                                                 strategy='constant')),\n",
       "                                                                  ('onehot',\n",
       "                                                                   OneHotEncoder(handle_unknown='ignore'))]),\n",
       "                                                  ['pclass', 'sex', 'embarked',\n",
       "                                                   'random_cat']),\n",
       "                                                 ('num',\n",
       "                                                  Pipeline(steps=[('imputer',\n",
       "                                                                   SimpleImputer())]),\n",
       "                                                  ['age', 'sibsp', 'parch',\n",
       "                                                   'fare', 'random_num'])])),\n",
       "                ('classifier', RandomForestClassifier(random_state=42))])"
      ]
     },
     "execution_count": 9,
     "metadata": {},
     "output_type": "execute_result"
    }
   ],
   "source": [
    "rng = np.random.RandomState(seed=42)\n",
    "# 3가지 값으로 category값 random 설정\n",
    "X['random_cat'] = rng.randint(3, size=X.shape[0])\n",
    "# X건수만큼 고유한 random값 설정\n",
    "X['random_num'] = rng.randn(X.shape[0])\n",
    "\n",
    "categorical_columns = ['pclass', 'sex', 'embarked', 'random_cat']\n",
    "numerical_columns = ['age', 'sibsp', 'parch', 'fare', 'random_num']\n",
    "\n",
    "# 추가되는 두개의 컬럼은 target과 상관없는 noise\n",
    "X = X[categorical_columns + numerical_columns]\n",
    "\n",
    "X_train, X_test, y_train, y_test = train_test_split(X, y, stratify=y, random_state=42)\n",
    "\n",
    "# Null 값 처리, category 값 encoding\n",
    "categorical_pipe = Pipeline([\n",
    "    ('imputer', SimpleImputer(strategy='constant', fill_value='missing')),\n",
    "    ('onehot', OneHotEncoder(handle_unknown='ignore'))\n",
    "])\n",
    "numerical_pipe = Pipeline([\n",
    "    ('imputer', SimpleImputer(strategy='mean'))\n",
    "])\n",
    "\n",
    "preprocessing = ColumnTransformer([\n",
    "    ('cat', categorical_pipe, categorical_columns),\n",
    "    ('num', numerical_pipe, numerical_columns)\n",
    "])\n",
    "\n",
    "# 데이터 전처리 후 RandomForest로 학습\n",
    "rf = Pipeline([\n",
    "    ('preprocess', preprocessing),\n",
    "    ('classifier', RandomForestClassifier(random_state=42))\n",
    "])\n",
    "\n",
    "rf.fit(X_train, y_train)"
   ]
  },
  {
   "cell_type": "code",
   "execution_count": 10,
   "id": "e4953009",
   "metadata": {},
   "outputs": [
    {
     "name": "stdout",
     "output_type": "stream",
     "text": [
      "RF train accuracy : 1.000\n",
      "RF test accuracy : 0.817\n"
     ]
    }
   ],
   "source": [
    "print('RF train accuracy : %0.3f'% rf.score(X_train, y_train))\n",
    "print('RF test accuracy : %0.3f'% rf.score(X_test, y_test))"
   ]
  },
  {
   "cell_type": "code",
   "execution_count": 16,
   "id": "90a9cbe2",
   "metadata": {},
   "outputs": [
    {
     "name": "stderr",
     "output_type": "stream",
     "text": [
      "C:\\Users\\user\\AppData\\Local\\Temp/ipykernel_11972/2571379200.py:15: UserWarning: FixedFormatter should only be used together with FixedLocator\n",
      "  ax.set_yticklabels(feature_names[sorted_idx])\n"
     ]
    },
    {
     "data": {
      "image/png": "[encoded data removed]",
      "text/plain": [
       "<Figure size 432x288 with 1 Axes>"
      ]
     },
     "metadata": {
      "needs_background": "light"
     },
     "output_type": "display_data"
    }
   ],
   "source": [
    "ohe = (rf.named_steps['preprocess'].named_transformers_['cat'].named_steps['onehot'])\n",
    "\n",
    "feature_names = ohe.get_feature_names(input_features=categorical_columns)\n",
    "feature_names = np.r_[feature_names, numerical_columns]\n",
    "\n",
    "tree_feature_importances = (\n",
    "    rf.named_steps['classifier'].feature_importances_)\n",
    "\n",
    "sorted_idx = tree_feature_importances.argsort()\n",
    "\n",
    "y_ticks = np.arange(0, len(feature_names))\n",
    "fig, ax = plt.subplots()\n",
    "\n",
    "ax.barh(y_ticks, tree_feature_importances[sorted_idx])\n",
    "ax.set_yticklabels(feature_names[sorted_idx])\n",
    "ax.set_yticks(y_ticks)\n",
    "ax.set_title(\"Random Forest Feature importances (MDI)\")\n",
    "fig.tight_layout()\n",
    "plt.show()"
   ]
  },
  {
   "cell_type": "markdown",
   "id": "a21d50d1",
   "metadata": {},
   "source": [
    "#### 검증 데이터 세트로 permutation importance 수행"
   ]
  },
  {
   "cell_type": "code",
   "execution_count": 17,
   "id": "ef56ef2d",
   "metadata": {},
   "outputs": [
    {
     "data": {
      "image/png": "[encoded data removed]",
      "text/plain": [
       "<Figure size 432x288 with 1 Axes>"
      ]
     },
     "metadata": {
      "needs_background": "light"
     },
     "output_type": "display_data"
    }
   ],
   "source": [
    "result = permutation_importance(rf, X_test, y_test, n_repeats=10, random_state=42, n_jobs=2)\n",
    "\n",
    "sorted_idx = result.importances_mean.argsort()\n",
    "\n",
    "fig, ax = plt.subplots()\n",
    "\n",
    "ax.boxplot(result.importances[sorted_idx].T, vert=False, labels=X_test.columns[sorted_idx])\n",
    "ax.set_title(\"Permutation importances (test set)\")\n",
    "fig.tight_layout()\n",
    "plt.show()"
   ]
  },
  {
   "cell_type": "code",
   "execution_count": null,
   "id": "19837be6",
   "metadata": {},
   "outputs": [],
   "source": []
  }
 ],
 "metadata": {
  "kernelspec": {
   "display_name": "Python 3 (ipykernel)",
   "language": "python",
   "name": "python3"
  },
  "language_info": {
   "codemirror_mode": {
    "name": "ipython",
    "version": 3
   },
   "file_extension": ".py",
   "mimetype": "text/x-python",
   "name": "python",
   "nbconvert_exporter": "python",
   "pygments_lexer": "ipython3",
   "version": "3.9.7"
  }
 },
 "nbformat": 4,
 "nbformat_minor": 5
}
