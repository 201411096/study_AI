{
 "cells": [
  {
   "cell_type": "markdown",
   "id": "56ca1f99",
   "metadata": {},
   "source": [
    "## LightGBM 개요"
   ]
  },
  {
   "cell_type": "markdown",
   "id": "d6c7efd2",
   "metadata": {},
   "source": [
    "### XGBoost 대비 장점\n",
    "\n",
    "* 더 빠른 학습과 예측 수행 시간\n",
    "* 더 작은 메모리 사용량\n",
    "* 카테고리형 피처의 자동 변환과 최적 분할(원-핫 인코딩등을 사용하지 않고도 카테고리형 피처를 최적으로 변환하고 이에 따른 노드 분할 수행)"
   ]
  },
  {
   "cell_type": "markdown",
   "id": "11d869c5",
   "metadata": {},
   "source": [
    "### LightGBM 트리 분할 방식 - 리프 중심\n",
    "\n",
    "* 트리 분할 방식의 종류\n",
    "    * 균형 트리 분할(Level Wise)\n",
    "    * 리프 중심 분할(Leaf Wise)"
   ]
  },
  {
   "cell_type": "markdown",
   "id": "6f0eb3b3",
   "metadata": {},
   "source": [
    "### LightGBM 파이썬 구현\n",
    "* C/C++ Native Module -> Python Wrapper -> 사이킷런 Wrapper"
   ]
  },
  {
   "cell_type": "markdown",
   "id": "ef98d529",
   "metadata": {},
   "source": [
    "### LightGBM 하이퍼 파라미터\n",
    "\n",
    "* LightGBM 사이킷런 Wrapper는 XGBoost 사이킷런 래퍼에 해당 하이퍼 파라미터가 있으면 이를 그대로 사용하고, 그렇지 않으면 파이썬 래퍼 LightGBM 하이퍼 파라미터를 사용\n",
    "\n",
    "|파이썬 Wrapper LightGBM|사이킷런 래퍼 LightGBM|하이퍼 파라미터 설명|\n",
    "|:---|:---|:---|\n",
    "| num_iterations | n_estimators | 약한 학습기의 개수(반복 수행 횟수) |\n",
    "| learning_rate | learning_rate | 학습률(learning rate) 0에서 1사이의 값을 지정하여 부스팅 스텝을 반복적으로 수행할 때 업데이트되는 학습률 값 |\n",
    "| max_depth | max_depth | 결정트리의 max_depth와 동일. 트리의 최대 깊이 |\n",
    "| min_data_in_leaf | min_child_samples | 리프 노드가 될 수 있는 최소 데이터 건수(Sample 수) |\n",
    "| bagging_fraction | subsample | 트리가 커져서 과적합되는 것을 제어하기 위해 데이터를 샘플링하는 비율을 지정합니다. sub_sample=0.5로 지정하면 전체 데이터의 절반을 트리를 생성하는데 사용합니다. |\n",
    "| feature_fraction | colsample_bytree | GBM의 max_features와 유사합니다. 트리 생성에 필요한 피처(컬럼)을 임의로 샘플링 하는 데 사용합니다. 매우 많은 피처가 있는 경우 과적합을 조정하는데 적용합니다. |\n",
    "| lambda_l2 | reg_lambda | L2규제(Regularization) 적용 값. 기본값은 1임. 값이 클수록 규제 값이 커짐. 과적합 제어 |\n",
    "| lambda_l1 | reg_alpha | L1규제(Regularization) 적용 값. 기본값은 0임. 값이 클수록 규제 값이 커짐. 과적합 제어 |\n",
    "| early_stopping_round | early_stopping_rounds | 학습 조기 종료를 위한 early stopping interval 값 |\n",
    "| num_leaves | num_leaves | 최대 리프노드 갯수 |\n",
    "| min_sum_hessian_in_leaf | min_child_weight | 결정트리의 min_child_leaf와 유사. 과적합 조절용 |\n",
    "\n"
   ]
  },
  {
   "cell_type": "code",
   "execution_count": null,
   "id": "f5189012",
   "metadata": {},
   "outputs": [],
   "source": []
  }
 ],
 "metadata": {
  "kernelspec": {
   "display_name": "Python 3 (ipykernel)",
   "language": "python",
   "name": "python3"
  },
  "language_info": {
   "codemirror_mode": {
    "name": "ipython",
    "version": 3
   },
   "file_extension": ".py",
   "mimetype": "text/x-python",
   "name": "python",
   "nbconvert_exporter": "python",
   "pygments_lexer": "ipython3",
   "version": "3.9.7"
  }
 },
 "nbformat": 4,
 "nbformat_minor": 5
}
