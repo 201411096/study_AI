{
 "cells": [
  {
   "cell_type": "code",
   "execution_count": 2,
   "id": "b58ef1eb",
   "metadata": {},
   "outputs": [],
   "source": [
    "import numpy as np"
   ]
  },
  {
   "cell_type": "code",
   "execution_count": 3,
   "id": "9b859daf",
   "metadata": {},
   "outputs": [],
   "source": [
    "array1 = np.array([1,2,3])\n",
    "array2 = np.array([[1,2,3], [2,3,4]])"
   ]
  },
  {
   "cell_type": "code",
   "execution_count": 4,
   "id": "c9018d15",
   "metadata": {},
   "outputs": [
    {
     "name": "stdout",
     "output_type": "stream",
     "text": [
      "array1.shape :  (3,)\n",
      "array2.shape :  (2, 3)\n"
     ]
    }
   ],
   "source": [
    "print('array1.shape : ', array1.shape) \n",
    "print('array2.shape : ', array2.shape)"
   ]
  },
  {
   "cell_type": "code",
   "execution_count": 5,
   "id": "d50e8fc6",
   "metadata": {},
   "outputs": [
    {
     "name": "stdout",
     "output_type": "stream",
     "text": [
      "array1.ndim :  1\n",
      "array2.ndim :  2\n"
     ]
    }
   ],
   "source": [
    "print('array1.ndim : ', array1.ndim)\n",
    "print('array2.ndim : ', array2.ndim)"
   ]
  },
  {
   "cell_type": "code",
   "execution_count": 6,
   "id": "dce3419f",
   "metadata": {},
   "outputs": [
    {
     "name": "stdout",
     "output_type": "stream",
     "text": [
      "<class 'list'>\n",
      "<class 'numpy.ndarray'>\n",
      "[1 2 3] int32\n",
      "['1' '2' 'test'] <U11\n",
      "[1. 2. 3.] float64\n"
     ]
    }
   ],
   "source": [
    "list1 = [1,2,3]\n",
    "print(type(list1))\n",
    "array1 = np.array(list1)\n",
    "\n",
    "print(type(array1))\n",
    "print(array1, array1.dtype)\n",
    "\n",
    "list2 = [1, 2, 'test']\n",
    "array2 = np.array(list2)  # 전부 문자열로 변환됨\n",
    "print(array2, array2.dtype)\n",
    "\n",
    "list3 = [1, 2, 3.0]\n",
    "array3 = np.array(list3)  # 전부 실수형으로 변환됨\n",
    "print(array3, array3.dtype)"
   ]
  },
  {
   "cell_type": "markdown",
   "id": "6fd6282f",
   "metadata": {},
   "source": [
    "**ndarray 타입 변환**\n",
    "\n",
    "* astype()을 이용하여 변환\n",
    "* 대용량 데이터를 ndarray로 만들 때 메모리를 절약하기 위해 자주 사용."
   ]
  },
  {
   "cell_type": "code",
   "execution_count": 11,
   "id": "56f2873e",
   "metadata": {},
   "outputs": [
    {
     "name": "stdout",
     "output_type": "stream",
     "text": [
      "array_float :  [1. 2. 3.] float64\n",
      "array_int1 :  [1 2 3] int32\n",
      "array_int2 :  [1 2 3] int32\n"
     ]
    }
   ],
   "source": [
    "array_int = np.array([1,2,3])\n",
    "array_float = array_int.astype('float64')\n",
    "print('array_float : ', array_float, array_float.dtype)\n",
    "\n",
    "array_int1 = array_float.astype('int32')\n",
    "print('array_int1 : ', array_int1,  array_int1.dtype)\n",
    "\n",
    "array_float1 = np.array([1.1, 2.2, 3.3])\n",
    "array_int2 = array_float1.astype('int32')\n",
    "print('array_int2 : ', array_int2, array_int2.dtype)"
   ]
  },
  {
   "cell_type": "markdown",
   "id": "c46bb21e",
   "metadata": {},
   "source": [
    "**ndarray의 axis축**\n",
    "\n",
    "* ndarray의 shape는 행, 열, 높이 단위로 부여되는 것이 아니라, axis0, axis1, axis2와 같이 axis 단위로 부여\n",
    "+ shape(2,4,5) -> axis0, axis1, axis2"
   ]
  },
  {
   "cell_type": "code",
   "execution_count": 13,
   "id": "b255ffaf",
   "metadata": {},
   "outputs": [
    {
     "name": "stdout",
     "output_type": "stream",
     "text": [
      "15\n",
      "[3 5 7]\n",
      "[6 9]\n"
     ]
    }
   ],
   "source": [
    "array = np.array([[1,2,3], [2,3,4]])\n",
    "\n",
    "print(array.sum())\n",
    "print(array.sum(axis=0))\n",
    "print(array.sum(axis=1))"
   ]
  },
  {
   "cell_type": "markdown",
   "id": "91dfdaf8",
   "metadata": {},
   "source": [
    "**ndarray를 편리하게 생성하기 - arange, zeros, ones**"
   ]
  },
  {
   "cell_type": "code",
   "execution_count": 15,
   "id": "f0926d07",
   "metadata": {},
   "outputs": [
    {
     "name": "stdout",
     "output_type": "stream",
     "text": [
      "sequence_array :  [0 1 2 3 4 5 6 7 8 9]\n",
      "int32 (10,)\n"
     ]
    }
   ],
   "source": [
    "sequence_array = np.arange(10)\n",
    "print(\"sequence_array : \", sequence_array)\n",
    "print(sequence_array.dtype, sequence_array.shape)"
   ]
  },
  {
   "cell_type": "code",
   "execution_count": 18,
   "id": "49b99d6b",
   "metadata": {},
   "outputs": [
    {
     "name": "stdout",
     "output_type": "stream",
     "text": [
      "zero_array :  [[0 0]\n",
      " [0 0]\n",
      " [0 0]]\n",
      "int32 (3, 2)\n",
      "one_array :  [[1. 1.]\n",
      " [1. 1.]\n",
      " [1. 1.]]\n",
      "float64 (3, 2)\n"
     ]
    }
   ],
   "source": [
    "zero_array = np.zeros( (3,2), dtype='int32' )\n",
    "print(\"zero_array : \", zero_array)\n",
    "print(zero_array.dtype, zero_array.shape)\n",
    "\n",
    "one_array = np.ones((3,2)) # default dtype : float64\n",
    "print(\"one_array : \", one_array)\n",
    "print(one_array.dtype, one_array.shape)"
   ]
  },
  {
   "cell_type": "markdown",
   "id": "31d767e3",
   "metadata": {},
   "source": [
    "**ndarray의 shape를 변경하는 reshape()**"
   ]
  },
  {
   "cell_type": "code",
   "execution_count": 20,
   "id": "3dc83f51",
   "metadata": {},
   "outputs": [
    {
     "name": "stdout",
     "output_type": "stream",
     "text": [
      "array1:\n",
      " [0 1 2 3 4 5 6 7 8 9]\n",
      "array2:\n",
      " [[0 1 2 3 4]\n",
      " [5 6 7 8 9]]\n",
      "array3:\n",
      " [[0 1]\n",
      " [2 3]\n",
      " [4 5]\n",
      " [6 7]\n",
      " [8 9]]\n"
     ]
    }
   ],
   "source": [
    "array1 = np.arange(10)\n",
    "print('array1:\\n', array1)\n",
    "\n",
    "array2 = array1.reshape(2,5)\n",
    "print('array2:\\n', array2)\n",
    "\n",
    "array3 = array1.reshape(5,2)\n",
    "print('array3:\\n', array3)"
   ]
  },
  {
   "cell_type": "code",
   "execution_count": 21,
   "id": "82709513",
   "metadata": {},
   "outputs": [
    {
     "ename": "ValueError",
     "evalue": "cannot reshape array of size 10 into shape (4,3)",
     "output_type": "error",
     "traceback": [
      "\u001b[1;31m---------------------------------------------------------------------------\u001b[0m",
      "\u001b[1;31mValueError\u001b[0m                                Traceback (most recent call last)",
      "\u001b[1;32m~\\AppData\\Local\\Temp/ipykernel_8056/2009791936.py\u001b[0m in \u001b[0;36m<module>\u001b[1;34m\u001b[0m\n\u001b[0;32m      1\u001b[0m \u001b[1;31m#변환할 수 없는 shape구조를 입력하면 오류 발생\u001b[0m\u001b[1;33m\u001b[0m\u001b[1;33m\u001b[0m\u001b[0m\n\u001b[1;32m----> 2\u001b[1;33m \u001b[0marray1\u001b[0m\u001b[1;33m.\u001b[0m\u001b[0mreshape\u001b[0m\u001b[1;33m(\u001b[0m\u001b[1;36m4\u001b[0m\u001b[1;33m,\u001b[0m\u001b[1;36m3\u001b[0m\u001b[1;33m)\u001b[0m\u001b[1;33m\u001b[0m\u001b[1;33m\u001b[0m\u001b[0m\n\u001b[0m",
      "\u001b[1;31mValueError\u001b[0m: cannot reshape array of size 10 into shape (4,3)"
     ]
    }
   ],
   "source": [
    "#변환할 수 없는 shape구조를 입력하면 오류 발생\n",
    "array1.reshape(4,3)"
   ]
  },
  {
   "cell_type": "markdown",
   "id": "61799071",
   "metadata": {},
   "source": [
    "reshape()에 -1 인자값을 부여하여 특정 차원으로 고정된 가변적인 ndarray의 형태 반환"
   ]
  },
  {
   "cell_type": "code",
   "execution_count": 26,
   "id": "ac284d22",
   "metadata": {},
   "outputs": [
    {
     "name": "stdout",
     "output_type": "stream",
     "text": [
      "array1 :  [0 1 2 3 4 5 6 7 8 9]\n",
      "array2.shape :  (2, 5)\n",
      "array2 : \n",
      " [[0 1 2 3 4]\n",
      " [5 6 7 8 9]]\n",
      "array3.shape :  (5, 2)\n",
      "array3 : \n",
      " [[0 1]\n",
      " [2 3]\n",
      " [4 5]\n",
      " [6 7]\n",
      " [8 9]]\n"
     ]
    }
   ],
   "source": [
    "array1 = np.arange(10)\n",
    "print('array1 : ', array1)\n",
    "\n",
    "#컬럼 axis 크기는 5에 고정하고 로우 axis 크기를 이에 맞춰 자동으로 변환(-> 2*5 형태로 변환)\n",
    "array2 = array1.reshape(-1, 5)\n",
    "print('array2.shape : ', array2.shape)\n",
    "print('array2 : \\n', array2)\n",
    "\n",
    "# 로우 axis 크기는 5로 고정하고 컬럼 axis 크기는 이에 맞춰 자동으로 변환(-> 5*2 형태로 변환)\n",
    "array3 = array1.reshape(5, -1)\n",
    "print('array3.shape : ', array3.shape)\n",
    "print('array3 : \\n', array3)\n"
   ]
  },
  {
   "cell_type": "code",
   "execution_count": 27,
   "id": "259129f8",
   "metadata": {},
   "outputs": [
    {
     "name": "stdout",
     "output_type": "stream",
     "text": [
      "array2d_1 shape :  (5, 1)\n",
      "array2d_1:\n",
      " [[0]\n",
      " [1]\n",
      " [2]\n",
      " [3]\n",
      " [4]]\n",
      "array1d shape :  (5,)\n",
      "array1d:\n",
      " [0 1 2 3 4]\n"
     ]
    }
   ],
   "source": [
    "# reshape()는 (-1, 1), (-1,)와 같은 형태로 주로 사용됨\n",
    "# 1차원 ndarray를 2차원으로 또는 2차원 ndarray를 1차원으로 변환 시 사용\n",
    "array1 = np.arange(5)\n",
    "\n",
    "# 1차원 ndarray를 2차원으로 변환하되, 컬럼axis크기는 반드시 1이어야 함\n",
    "array2d_1 = array1.reshape(-1, 1)\n",
    "print('array2d_1 shape : ', array2d_1.shape)\n",
    "print('array2d_1:\\n', array2d_1)\n",
    "\n",
    "# 2차원 ndarray를 1차원으로 변환\n",
    "array1d = array2d_1.reshape(-1,)\n",
    "print('array1d shape : ', array1d.shape)\n",
    "print('array1d:\\n', array1d)"
   ]
  },
  {
   "cell_type": "code",
   "execution_count": 28,
   "id": "7ce53457",
   "metadata": {},
   "outputs": [
    {
     "ename": "ValueError",
     "evalue": "cannot reshape array of size 10 into shape (4)",
     "output_type": "error",
     "traceback": [
      "\u001b[1;31m---------------------------------------------------------------------------\u001b[0m",
      "\u001b[1;31mValueError\u001b[0m                                Traceback (most recent call last)",
      "\u001b[1;32m~\\AppData\\Local\\Temp/ipykernel_8056/4125335630.py\u001b[0m in \u001b[0;36m<module>\u001b[1;34m\u001b[0m\n\u001b[0;32m      1\u001b[0m \u001b[1;31m# -1을 적용하여도 변환이 불가능한 형태로의 변환을 요구할 경우 오류 발생\u001b[0m\u001b[1;33m\u001b[0m\u001b[1;33m\u001b[0m\u001b[0m\n\u001b[0;32m      2\u001b[0m \u001b[0marray1\u001b[0m \u001b[1;33m=\u001b[0m \u001b[0mnp\u001b[0m\u001b[1;33m.\u001b[0m\u001b[0marange\u001b[0m\u001b[1;33m(\u001b[0m\u001b[1;36m10\u001b[0m\u001b[1;33m)\u001b[0m\u001b[1;33m\u001b[0m\u001b[1;33m\u001b[0m\u001b[0m\n\u001b[1;32m----> 3\u001b[1;33m \u001b[0marray4\u001b[0m \u001b[1;33m=\u001b[0m \u001b[0marray1\u001b[0m\u001b[1;33m.\u001b[0m\u001b[0mreshape\u001b[0m\u001b[1;33m(\u001b[0m\u001b[1;33m-\u001b[0m\u001b[1;36m1\u001b[0m\u001b[1;33m,\u001b[0m \u001b[1;36m4\u001b[0m\u001b[1;33m)\u001b[0m\u001b[1;33m\u001b[0m\u001b[1;33m\u001b[0m\u001b[0m\n\u001b[0m",
      "\u001b[1;31mValueError\u001b[0m: cannot reshape array of size 10 into shape (4)"
     ]
    }
   ],
   "source": [
    "# -1을 적용하여도 변환이 불가능한 형태로의 변환을 요구할 경우 오류 발생\n",
    "array1 = np.arange(10)\n",
    "array4 = array1.reshape(-1, 4)"
   ]
  },
  {
   "cell_type": "code",
   "execution_count": 29,
   "id": "dc073b9c",
   "metadata": {},
   "outputs": [
    {
     "ename": "ValueError",
     "evalue": "can only specify one unknown dimension",
     "output_type": "error",
     "traceback": [
      "\u001b[1;31m---------------------------------------------------------------------------\u001b[0m",
      "\u001b[1;31mValueError\u001b[0m                                Traceback (most recent call last)",
      "\u001b[1;32m~\\AppData\\Local\\Temp/ipykernel_8056/1963678165.py\u001b[0m in \u001b[0;36m<module>\u001b[1;34m\u001b[0m\n\u001b[0;32m      1\u001b[0m \u001b[1;31m# -1값은 반드시 1개의 인자만 입력해야 함\u001b[0m\u001b[1;33m\u001b[0m\u001b[1;33m\u001b[0m\u001b[0m\n\u001b[1;32m----> 2\u001b[1;33m \u001b[0marray1\u001b[0m\u001b[1;33m.\u001b[0m\u001b[0mreshape\u001b[0m\u001b[1;33m(\u001b[0m\u001b[1;33m-\u001b[0m\u001b[1;36m1\u001b[0m\u001b[1;33m,\u001b[0m \u001b[1;33m-\u001b[0m\u001b[1;36m1\u001b[0m\u001b[1;33m)\u001b[0m\u001b[1;33m\u001b[0m\u001b[1;33m\u001b[0m\u001b[0m\n\u001b[0m",
      "\u001b[1;31mValueError\u001b[0m: can only specify one unknown dimension"
     ]
    }
   ],
   "source": [
    "# -1값은 반드시 1개의 인자만 입력해야 함\n",
    "array1.reshape(-1, -1)"
   ]
  },
  {
   "cell_type": "markdown",
   "id": "ee840eaa",
   "metadata": {},
   "source": [
    "---"
   ]
  },
  {
   "cell_type": "markdown",
   "id": "e6773810",
   "metadata": {},
   "source": [
    "## ndarray의 데이터 세트 선택하기 - 인덱싱(Indexing)\n",
    "\n",
    "<br>\n",
    "\n",
    "**특정 위치의 단일값 추출**"
   ]
  },
  {
   "cell_type": "code",
   "execution_count": 36,
   "id": "8e3d9f97",
   "metadata": {},
   "outputs": [
    {
     "name": "stdout",
     "output_type": "stream",
     "text": [
      "[[1 2 3]\n",
      " [4 5 6]\n",
      " [7 8 9]]\n",
      "(1, 2) :  6\n",
      "(2, 1) :  8\n"
     ]
    }
   ],
   "source": [
    "array1d = np.arange(start=1, stop=10)\n",
    "array2d = array1d.reshape(3, 3)\n",
    "print(array2d)\n",
    "\n",
    "print('(1, 2) : ', array2d[1,2])\n",
    "print('(2, 1) : ', array2d[2,1])"
   ]
  },
  {
   "cell_type": "markdown",
   "id": "9308facc",
   "metadata": {},
   "source": [
    "**슬라이싱(Slicing)**"
   ]
  },
  {
   "cell_type": "code",
   "execution_count": 37,
   "id": "8678e795",
   "metadata": {},
   "outputs": [
    {
     "name": "stdout",
     "output_type": "stream",
     "text": [
      "array2d:\n",
      " [[1 2 3]\n",
      " [4 5 6]\n",
      " [7 8 9]]\n",
      "array2d[0:2, 0:2]\n",
      " [[1 2]\n",
      " [4 5]]\n",
      "array2d[1:3, 0:3]\n",
      " [[4 5 6]\n",
      " [7 8 9]]\n",
      "array2d[1:3, :]\n",
      " [[4 5 6]\n",
      " [7 8 9]]\n",
      "array2d[:, :]\n",
      " [[1 2 3]\n",
      " [4 5 6]\n",
      " [7 8 9]]\n",
      "array2d[:2, 1:]\n",
      " [[2 3]\n",
      " [5 6]]\n",
      "array2d[:2, 0]\n",
      " [1 4]\n"
     ]
    }
   ],
   "source": [
    "array1d = np.arange(start=1, stop=10)\n",
    "array2d = array1d.reshape(3,3)\n",
    "print('array2d:\\n', array2d)\n",
    "\n",
    "print('array2d[0:2, 0:2]\\n', array2d[0:2, 0:2])\n",
    "print('array2d[1:3, 0:3]\\n', array2d[1:3, 0:3])\n",
    "print('array2d[1:3, :]\\n', array2d[1:3, :])\n",
    "print('array2d[:, :]\\n', array2d[:, :])\n",
    "print('array2d[:2, 1:]\\n', array2d[:2, 1:])\n",
    "print('array2d[:2, 0]\\n', array2d[:2, 0])\n"
   ]
  },
  {
   "cell_type": "markdown",
   "id": "a651f200",
   "metadata": {},
   "source": [
    "**팬시 인덱싱(Fancy indexing)**"
   ]
  },
  {
   "cell_type": "code",
   "execution_count": 43,
   "id": "1878f5eb",
   "metadata": {},
   "outputs": [
    {
     "name": "stdout",
     "output_type": "stream",
     "text": [
      "[[1 2 3]\n",
      " [4 5 6]\n",
      " [7 8 9]]\n",
      "array2d[[0,1], 2] =>  [3, 6]\n",
      "array2d[[0,2], 0:2] =>  [[1, 2], [7, 8]]\n",
      "array2d[[0,1]] =>  [[1, 2, 3], [4, 5, 6]]\n"
     ]
    }
   ],
   "source": [
    "array1d = np.arange(start=1, stop=10)\n",
    "array2d = array1d.reshape(3,3)\n",
    "print(array2d)\n",
    "\n",
    "array3 = array2d[[0,1], 2]\n",
    "print('array2d[[0,1], 2] => ', array3.tolist()) #numpy.ndarray -> list\n",
    "\n",
    "array4 = array2d[[0,2], 0:2]\n",
    "print('array2d[[0,2], 0:2] => ', array4.tolist())\n",
    "\n",
    "array5 = array2d[[0,1]]\n",
    "print('array2d[[0,1]] => ', array5.tolist())"
   ]
  },
  {
   "cell_type": "markdown",
   "id": "3977dbf6",
   "metadata": {},
   "source": [
    "**불린 인덱싱(Boolean indexing)**"
   ]
  },
  {
   "cell_type": "code",
   "execution_count": 44,
   "id": "9687c72d",
   "metadata": {},
   "outputs": [
    {
     "name": "stdout",
     "output_type": "stream",
     "text": [
      "[1 2 3 4 5 6 7 8 9]\n"
     ]
    }
   ],
   "source": [
    "array1d = np.arange(start=1, stop=10)\n",
    "print(array1d)"
   ]
  },
  {
   "cell_type": "code",
   "execution_count": 46,
   "id": "3ce1a0ad",
   "metadata": {},
   "outputs": [
    {
     "name": "stdout",
     "output_type": "stream",
     "text": [
      "var1 :  [False False False False False  True  True  True  True]\n",
      "<class 'numpy.ndarray'>\n"
     ]
    }
   ],
   "source": [
    "var1 = array1d > 5\n",
    "print('var1 : ', var1)\n",
    "print(type(var1))"
   ]
  },
  {
   "cell_type": "code",
   "execution_count": 48,
   "id": "fe1cb71f",
   "metadata": {},
   "outputs": [
    {
     "name": "stdout",
     "output_type": "stream",
     "text": [
      "[1 2 3 4 5 6 7 8 9]\n",
      "array1d >5  boolean indexing 결과 값 :  [6 7 8 9]\n"
     ]
    }
   ],
   "source": [
    "# [ ] 안에 array1d > 5 Boolean indexing 적용\n",
    "print(array1d)\n",
    "array3 = array1d[array1d > 5]\n",
    "print('array1d >5  boolean indexing 결과 값 : ', array3)"
   ]
  },
  {
   "cell_type": "code",
   "execution_count": 49,
   "id": "307ae54a",
   "metadata": {},
   "outputs": [
    {
     "name": "stdout",
     "output_type": "stream",
     "text": [
      "boolean index로 필터링 결과 :  [6 7 8 9]\n"
     ]
    }
   ],
   "source": [
    "boolean_indexes = np.array([False, False, False, False, False, True, True, True, True])\n",
    "array3 = array1d[boolean_indexes]\n",
    "print('boolean index로 필터링 결과 : ', array3)"
   ]
  },
  {
   "cell_type": "code",
   "execution_count": 50,
   "id": "c103cc75",
   "metadata": {},
   "outputs": [
    {
     "name": "stdout",
     "output_type": "stream",
     "text": [
      "일반 인덱스로 필터링 결과 :  [6 7 8 9]\n"
     ]
    }
   ],
   "source": [
    "indexes = np.array([5,6,7,8])\n",
    "array4 = array1d[ indexes ]\n",
    "print('일반 인덱스로 필터링 결과 : ', array4)"
   ]
  },
  {
   "cell_type": "code",
   "execution_count": 51,
   "id": "4b68cab4",
   "metadata": {},
   "outputs": [
    {
     "name": "stdout",
     "output_type": "stream",
     "text": [
      "array_selected :  [6 7 8 9]\n"
     ]
    }
   ],
   "source": [
    "array1d = np.arange(start=1, stop=10)\n",
    "target = []\n",
    "\n",
    "for i in range(0, 9):\n",
    "    if array1d[i] > 5:\n",
    "        target.append(array1d[i])\n",
    "\n",
    "array_selected = np.array(target)\n",
    "print('array_selected : ', array_selected)"
   ]
  },
  {
   "cell_type": "code",
   "execution_count": 53,
   "id": "0e809439",
   "metadata": {},
   "outputs": [
    {
     "name": "stdout",
     "output_type": "stream",
     "text": [
      "[6 7 8 9]\n"
     ]
    }
   ],
   "source": [
    "print(array1d[array1d > 5])"
   ]
  },
  {
   "cell_type": "markdown",
   "id": "9d28a862",
   "metadata": {},
   "source": [
    "---"
   ]
  },
  {
   "cell_type": "markdown",
   "id": "cb78eeb1",
   "metadata": {},
   "source": [
    "## 행렬의 정렬 - sort()와 argsort()\n",
    "<br> \n",
    "\n",
    "**sort()**"
   ]
  },
  {
   "cell_type": "code",
   "execution_count": 56,
   "id": "6334e0e0",
   "metadata": {},
   "outputs": [
    {
     "name": "stdout",
     "output_type": "stream",
     "text": [
      "원본 행렬 :  [3 1 9 5]\n",
      "np.sort() 호출 후 반환된 정렬 행렬 :  [1 3 5 9]\n",
      "np.sort() 호출 후 원본 행렬 :  [3 1 9 5]\n",
      "org_array.sort() 호출 후 반환된 행렬 :  None\n",
      "org_array.sort() 호출 후 원본 행렬 :  [1 3 5 9]\n"
     ]
    }
   ],
   "source": [
    "org_array = np.array([3, 1, 9, 5])\n",
    "print('원본 행렬 : ', org_array)\n",
    "\n",
    "# np.sort()로 정렬\n",
    "sort_array1 = np.sort(org_array)\n",
    "print('np.sort() 호출 후 반환된 정렬 행렬 : ', sort_array1)\n",
    "print('np.sort() 호출 후 원본 행렬 : ', org_array)\n",
    "\n",
    "# ndarray.sort()로 정렬\n",
    "sort_array2 = org_array.sort()\n",
    "print('org_array.sort() 호출 후 반환된 행렬 : ', sort_array2)\n",
    "print('org_array.sort() 호출 후 원본 행렬 : ', org_array)"
   ]
  },
  {
   "cell_type": "code",
   "execution_count": 57,
   "id": "ef1ea274",
   "metadata": {},
   "outputs": [
    {
     "name": "stdout",
     "output_type": "stream",
     "text": [
      "내림차순으로 정렬 :  [9 5 3 1]\n"
     ]
    }
   ],
   "source": [
    "sort_array1_desc = np.sort(org_array)[::-1]\n",
    "print('내림차순으로 정렬 : ', sort_array1_desc)"
   ]
  },
  {
   "cell_type": "code",
   "execution_count": 59,
   "id": "43f894c5",
   "metadata": {},
   "outputs": [
    {
     "name": "stdout",
     "output_type": "stream",
     "text": [
      "[1, 3, 5, 7, 9]\n",
      "[10, 9, 8, 7, 6, 5, 4, 3, 2, 1]\n"
     ]
    }
   ],
   "source": [
    "# list[start_index:end_index:step]\n",
    "list1 = [1,2,3,4,5,6,7,8,9,10]\n",
    "print(list1[::2])\n",
    "print(list1[::-1])"
   ]
  },
  {
   "cell_type": "code",
   "execution_count": 60,
   "id": "5d1c4c10",
   "metadata": {},
   "outputs": [
    {
     "name": "stdout",
     "output_type": "stream",
     "text": [
      "로우 방향으로 정렬:\n",
      " [[ 7  1]\n",
      " [ 8 12]]\n",
      "컬럼 방향으로 정렬:\n",
      " [[ 8 12]\n",
      " [ 1  7]]\n"
     ]
    }
   ],
   "source": [
    "array2d = np.array([ [8, 12], [7, 1] ])\n",
    "\n",
    "sort_array2d_axis0 = np.sort(array2d, axis=0)\n",
    "print('로우 방향으로 정렬:\\n', sort_array2d_axis0)\n",
    "\n",
    "sort_array2d_axis1 = np.sort(array2d, axis=1)\n",
    "print('컬럼 방향으로 정렬:\\n', sort_array2d_axis1)"
   ]
  },
  {
   "cell_type": "markdown",
   "id": "a18ad5f8",
   "metadata": {},
   "source": [
    "**argsort()**\n"
   ]
  },
  {
   "cell_type": "code",
   "execution_count": 61,
   "id": "d6dc0dd3",
   "metadata": {},
   "outputs": [
    {
     "name": "stdout",
     "output_type": "stream",
     "text": [
      "[1 3 5 9]\n",
      "<class 'numpy.ndarray'>\n",
      "행렬 정렬 시 원본 행렬의 인덱스 :  [1 0 3 2]\n"
     ]
    }
   ],
   "source": [
    "org_array = np.array([3, 1, 9, 5])\n",
    "print(np.sort(org_array))\n",
    "\n",
    "sort_indices = np.argsort(org_array)\n",
    "print(type(sort_indices))\n",
    "print('행렬 정렬 시 원본 행렬의 인덱스 : ', sort_indices)"
   ]
  },
  {
   "cell_type": "code",
   "execution_count": 62,
   "id": "442b5296",
   "metadata": {},
   "outputs": [
    {
     "name": "stdout",
     "output_type": "stream",
     "text": [
      "[9 5 3 1]\n",
      "행렬 내림차순 정렬 시 원본 행렬의 인덱스 :  [2 3 0 1]\n"
     ]
    }
   ],
   "source": [
    "org_array = np.array([3, 1, 9, 5])\n",
    "print(np.sort(org_array)[::-1])\n",
    "\n",
    "sort_indices_desc = np.argsort(org_array)[::-1]\n",
    "print('행렬 내림차순 정렬 시 원본 행렬의 인덱스 : ', sort_indices_desc)"
   ]
  },
  {
   "cell_type": "markdown",
   "id": "f177e83f",
   "metadata": {},
   "source": [
    "key-value 형태의 데이터를 John=78, Mike=95, Sarah=84, Kate=98, Samuel=88을 ndarray로 만들고 argsort()를 이용하여 key값을 정렬"
   ]
  },
  {
   "cell_type": "code",
   "execution_count": 63,
   "id": "e0a43bc1",
   "metadata": {},
   "outputs": [
    {
     "name": "stdout",
     "output_type": "stream",
     "text": [
      "sort_indices :  [0 2 4 1 3]\n",
      "name_array_sort :  ['John' 'Sarah' 'Samuel' 'Mike' 'Kate']\n",
      "score_array_sort :  [78 84 88 95 98]\n"
     ]
    }
   ],
   "source": [
    "name_array = np.array(['John', 'Mike', 'Sarah', 'Kate', 'Samuel'])\n",
    "score_array = np.array([78, 95, 84, 98, 88])\n",
    "\n",
    "# score_array의 정렬된 값에 해당하는 원본 행렬 위치 인덱스를 반환하고 이를 이용하여 name_array에서 name값 추출\n",
    "sort_indices = np.argsort(score_array)\n",
    "print('sort_indices : ', sort_indices)\n",
    "\n",
    "name_array_sort = name_array[sort_indices]\n",
    "score_array_sort = score_array[sort_indices]\n",
    "\n",
    "print('name_array_sort : ', name_array_sort)\n",
    "print('score_array_sort : ', score_array_sort)"
   ]
  },
  {
   "cell_type": "markdown",
   "id": "21550f6f",
   "metadata": {},
   "source": [
    "## 선형대수 연산 - 행렬 내적과 전치 행렬 구하기\n",
    "* 행렬 내적"
   ]
  },
  {
   "cell_type": "code",
   "execution_count": 65,
   "id": "f330de99",
   "metadata": {},
   "outputs": [
    {
     "name": "stdout",
     "output_type": "stream",
     "text": [
      "행렬 내적 결과 :\n",
      " [[ 58  64]\n",
      " [139 154]]\n"
     ]
    }
   ],
   "source": [
    "A = np.array([ [1, 2, 3], \n",
    "               [4, 5, 6]])\n",
    "B = np.array([ [7, 8],\n",
    "               [9, 10],\n",
    "               [11, 12]])\n",
    "\n",
    "dot_product = np.dot(A, B)\n",
    "print('행렬 내적 결과 :\\n', dot_product)"
   ]
  },
  {
   "cell_type": "markdown",
   "id": "3e7d6219",
   "metadata": {},
   "source": [
    "* 전치 행렬"
   ]
  },
  {
   "cell_type": "code",
   "execution_count": 66,
   "id": "9eda0198",
   "metadata": {},
   "outputs": [
    {
     "name": "stdout",
     "output_type": "stream",
     "text": [
      "A의 전치 행렬:\n",
      " [[1 3]\n",
      " [2 4]]\n"
     ]
    }
   ],
   "source": [
    "A = np.array([[1,2],\n",
    "              [3,4]])\n",
    "transpose_mat = np.transpose(A)\n",
    "print('A의 전치 행렬:\\n', transpose_mat)"
   ]
  },
  {
   "cell_type": "code",
   "execution_count": null,
   "id": "694fbdd6",
   "metadata": {},
   "outputs": [],
   "source": []
  }
 ],
 "metadata": {
  "kernelspec": {
   "display_name": "Python 3 (ipykernel)",
   "language": "python",
   "name": "python3"
  },
  "language_info": {
   "codemirror_mode": {
    "name": "ipython",
    "version": 3
   },
   "file_extension": ".py",
   "mimetype": "text/x-python",
   "name": "python",
   "nbconvert_exporter": "python",
   "pygments_lexer": "ipython3",
   "version": "3.9.7"
  }
 },
 "nbformat": 4,
 "nbformat_minor": 5
}
