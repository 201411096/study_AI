{
 "cells": [
  {
   "cell_type": "code",
   "execution_count": 1,
   "id": "b58ef1eb",
   "metadata": {},
   "outputs": [],
   "source": [
    "import numpy as np"
   ]
  },
  {
   "cell_type": "code",
   "execution_count": 2,
   "id": "9b859daf",
   "metadata": {},
   "outputs": [],
   "source": [
    "array1 = np.array([1,2,3])\n",
    "array2 = np.array([[1,2,3], [2,3,4]])"
   ]
  },
  {
   "cell_type": "code",
   "execution_count": 3,
   "id": "c9018d15",
   "metadata": {},
   "outputs": [
    {
     "name": "stdout",
     "output_type": "stream",
     "text": [
      "array1.shape :  (3,)\n",
      "array2.shape :  (2, 3)\n"
     ]
    }
   ],
   "source": [
    "print('array1.shape : ', array1.shape) \n",
    "print('array2.shape : ', array2.shape)"
   ]
  },
  {
   "cell_type": "code",
   "execution_count": 4,
   "id": "d50e8fc6",
   "metadata": {},
   "outputs": [
    {
     "name": "stdout",
     "output_type": "stream",
     "text": [
      "array1.ndim :  1\n",
      "array2.ndim :  2\n"
     ]
    }
   ],
   "source": [
    "print('array1.ndim : ', array1.ndim)\n",
    "print('array2.ndim : ', array2.ndim)"
   ]
  },
  {
   "cell_type": "code",
   "execution_count": 5,
   "id": "dce3419f",
   "metadata": {},
   "outputs": [
    {
     "name": "stdout",
     "output_type": "stream",
     "text": [
      "<class 'list'>\n",
      "<class 'numpy.ndarray'>\n",
      "[1 2 3] int32\n",
      "['1' '2' 'test'] <U11\n",
      "[1. 2. 3.] float64\n"
     ]
    }
   ],
   "source": [
    "list1 = [1,2,3]\n",
    "print(type(list1))\n",
    "array1 = np.array(list1)\n",
    "\n",
    "print(type(array1))\n",
    "print(array1, array1.dtype)\n",
    "\n",
    "list2 = [1, 2, 'test']\n",
    "array2 = np.array(list2)\n",
    "print(array2, array2.dtype)\n",
    "\n",
    "list3 = [1, 2, 3.0]\n",
    "array3 = np.array(list3)\n",
    "print(array3, array3.dtype)"
   ]
  },
  {
   "cell_type": "markdown",
   "id": "6fd6282f",
   "metadata": {},
   "source": [
    "**ndarray 타입 변환**\n",
    "\n",
    "* astype()을 이용하여 변환\n",
    "* 대용량 데이터를 ndarray로 만들 때 메모리를 절약하기 위해 자주 사용."
   ]
  },
  {
   "cell_type": "markdown",
   "id": "c46bb21e",
   "metadata": {},
   "source": [
    "**ndarray의 axis축**\n",
    "\n",
    "* ndarray의 shape는 행, 열, 높이 단위로 부여되는 것이 아니라, axis0, axis1, axis2와 같이 axis 단위로 부여\n",
    "+ shape "
   ]
  },
  {
   "cell_type": "code",
   "execution_count": null,
   "id": "b255ffaf",
   "metadata": {},
   "outputs": [],
   "source": []
  }
 ],
 "metadata": {
  "kernelspec": {
   "display_name": "Python 3 (ipykernel)",
   "language": "python",
   "name": "python3"
  },
  "language_info": {
   "codemirror_mode": {
    "name": "ipython",
    "version": 3
   },
   "file_extension": ".py",
   "mimetype": "text/x-python",
   "name": "python",
   "nbconvert_exporter": "python",
   "pygments_lexer": "ipython3",
   "version": "3.9.7"
  }
 },
 "nbformat": 4,
 "nbformat_minor": 5
}
