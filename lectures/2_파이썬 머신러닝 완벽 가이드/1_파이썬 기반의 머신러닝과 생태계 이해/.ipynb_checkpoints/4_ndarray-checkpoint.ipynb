{
 "cells": [
  {
   "cell_type": "code",
   "execution_count": 2,
   "id": "b58ef1eb",
   "metadata": {},
   "outputs": [],
   "source": [
    "import numpy as np"
   ]
  },
  {
   "cell_type": "code",
   "execution_count": 3,
   "id": "9b859daf",
   "metadata": {},
   "outputs": [],
   "source": [
    "array1 = np.array([1,2,3])\n",
    "array2 = np.array([[1,2,3], [2,3,4]])"
   ]
  },
  {
   "cell_type": "code",
   "execution_count": 4,
   "id": "c9018d15",
   "metadata": {},
   "outputs": [
    {
     "name": "stdout",
     "output_type": "stream",
     "text": [
      "array1.shape :  (3,)\n",
      "array2.shape :  (2, 3)\n"
     ]
    }
   ],
   "source": [
    "print('array1.shape : ', array1.shape) \n",
    "print('array2.shape : ', array2.shape)"
   ]
  },
  {
   "cell_type": "code",
   "execution_count": 5,
   "id": "d50e8fc6",
   "metadata": {},
   "outputs": [
    {
     "name": "stdout",
     "output_type": "stream",
     "text": [
      "array1.ndim :  1\n",
      "array2.ndim :  2\n"
     ]
    }
   ],
   "source": [
    "print('array1.ndim : ', array1.ndim)\n",
    "print('array2.ndim : ', array2.ndim)"
   ]
  },
  {
   "cell_type": "code",
   "execution_count": 6,
   "id": "dce3419f",
   "metadata": {},
   "outputs": [
    {
     "name": "stdout",
     "output_type": "stream",
     "text": [
      "<class 'list'>\n",
      "<class 'numpy.ndarray'>\n",
      "[1 2 3] int32\n",
      "['1' '2' 'test'] <U11\n",
      "[1. 2. 3.] float64\n"
     ]
    }
   ],
   "source": [
    "list1 = [1,2,3]\n",
    "print(type(list1))\n",
    "array1 = np.array(list1)\n",
    "\n",
    "print(type(array1))\n",
    "print(array1, array1.dtype)\n",
    "\n",
    "list2 = [1, 2, 'test']\n",
    "array2 = np.array(list2)  # 전부 문자열로 변환됨\n",
    "print(array2, array2.dtype)\n",
    "\n",
    "list3 = [1, 2, 3.0]\n",
    "array3 = np.array(list3)  # 전부 실수형으로 변환됨\n",
    "print(array3, array3.dtype)"
   ]
  },
  {
   "cell_type": "markdown",
   "id": "6fd6282f",
   "metadata": {},
   "source": [
    "**ndarray 타입 변환**\n",
    "\n",
    "* astype()을 이용하여 변환\n",
    "* 대용량 데이터를 ndarray로 만들 때 메모리를 절약하기 위해 자주 사용."
   ]
  },
  {
   "cell_type": "code",
   "execution_count": 11,
   "id": "60f73550",
   "metadata": {},
   "outputs": [
    {
     "name": "stdout",
     "output_type": "stream",
     "text": [
      "array_float :  [1. 2. 3.] float64\n",
      "array_int1 :  [1 2 3] int32\n",
      "array_int2 :  [1 2 3] int32\n"
     ]
    }
   ],
   "source": [
    "array_int = np.array([1,2,3])\n",
    "array_float = array_int.astype('float64')\n",
    "print('array_float : ', array_float, array_float.dtype)\n",
    "\n",
    "array_int1 = array_float.astype('int32')\n",
    "print('array_int1 : ', array_int1,  array_int1.dtype)\n",
    "\n",
    "array_float1 = np.array([1.1, 2.2, 3.3])\n",
    "array_int2 = array_float1.astype('int32')\n",
    "print('array_int2 : ', array_int2, array_int2.dtype)"
   ]
  },
  {
   "cell_type": "markdown",
   "id": "c46bb21e",
   "metadata": {},
   "source": [
    "**ndarray의 axis축**\n",
    "\n",
    "* ndarray의 shape는 행, 열, 높이 단위로 부여되는 것이 아니라, axis0, axis1, axis2와 같이 axis 단위로 부여\n",
    "+ shape(2,4,5) -> axis0, axis1, axis2"
   ]
  },
  {
   "cell_type": "code",
   "execution_count": 13,
   "id": "b255ffaf",
   "metadata": {},
   "outputs": [
    {
     "name": "stdout",
     "output_type": "stream",
     "text": [
      "15\n",
      "[3 5 7]\n",
      "[6 9]\n"
     ]
    }
   ],
   "source": [
    "array = np.array([[1,2,3], [2,3,4]])\n",
    "\n",
    "print(array.sum())\n",
    "print(array.sum(axis=0))\n",
    "print(array.sum(axis=1))"
   ]
  },
  {
   "cell_type": "markdown",
   "id": "a6b4de7b",
   "metadata": {},
   "source": [
    "**ndarray를 편리하게 생성하기 - arange, zeros, ones**"
   ]
  },
  {
   "cell_type": "code",
   "execution_count": 15,
   "id": "1da4c07a",
   "metadata": {},
   "outputs": [
    {
     "name": "stdout",
     "output_type": "stream",
     "text": [
      "sequence_array :  [0 1 2 3 4 5 6 7 8 9]\n",
      "int32 (10,)\n"
     ]
    }
   ],
   "source": [
    "sequence_array = np.arange(10)\n",
    "print(\"sequence_array : \", sequence_array)\n",
    "print(sequence_array.dtype, sequence_array.shape)"
   ]
  },
  {
   "cell_type": "code",
   "execution_count": 18,
   "id": "83ed6d59",
   "metadata": {},
   "outputs": [
    {
     "name": "stdout",
     "output_type": "stream",
     "text": [
      "zero_array :  [[0 0]\n",
      " [0 0]\n",
      " [0 0]]\n",
      "int32 (3, 2)\n",
      "one_array :  [[1. 1.]\n",
      " [1. 1.]\n",
      " [1. 1.]]\n",
      "float64 (3, 2)\n"
     ]
    }
   ],
   "source": [
    "zero_array = np.zeros( (3,2), dtype='int32' )\n",
    "print(\"zero_array : \", zero_array)\n",
    "print(zero_array.dtype, zero_array.shape)\n",
    "\n",
    "one_array = np.ones((3,2)) # default dtype : float64\n",
    "print(\"one_array : \", one_array)\n",
    "print(one_array.dtype, one_array.shape)"
   ]
  },
  {
   "cell_type": "markdown",
   "id": "d5df10ee",
   "metadata": {},
   "source": [
    "**ndarray의 shape를 변경하는 reshape()**"
   ]
  },
  {
   "cell_type": "code",
   "execution_count": 20,
   "id": "f1d03ec0",
   "metadata": {},
   "outputs": [
    {
     "name": "stdout",
     "output_type": "stream",
     "text": [
      "array1:\n",
      " [0 1 2 3 4 5 6 7 8 9]\n",
      "array2:\n",
      " [[0 1 2 3 4]\n",
      " [5 6 7 8 9]]\n",
      "array3:\n",
      " [[0 1]\n",
      " [2 3]\n",
      " [4 5]\n",
      " [6 7]\n",
      " [8 9]]\n"
     ]
    }
   ],
   "source": [
    "array1 = np.arange(10)\n",
    "print('array1:\\n', array1)\n",
    "\n",
    "array2 = array1.reshape(2,5)\n",
    "print('array2:\\n', array2)\n",
    "\n",
    "array3 = array1.reshape(5,2)\n",
    "print('array3:\\n', array3)"
   ]
  },
  {
   "cell_type": "code",
   "execution_count": 21,
   "id": "49bdf969",
   "metadata": {},
   "outputs": [
    {
     "ename": "ValueError",
     "evalue": "cannot reshape array of size 10 into shape (4,3)",
     "output_type": "error",
     "traceback": [
      "\u001b[1;31m---------------------------------------------------------------------------\u001b[0m",
      "\u001b[1;31mValueError\u001b[0m                                Traceback (most recent call last)",
      "\u001b[1;32m~\\AppData\\Local\\Temp/ipykernel_8056/2009791936.py\u001b[0m in \u001b[0;36m<module>\u001b[1;34m\u001b[0m\n\u001b[0;32m      1\u001b[0m \u001b[1;31m#변환할 수 없는 shape구조를 입력하면 오류 발생\u001b[0m\u001b[1;33m\u001b[0m\u001b[1;33m\u001b[0m\u001b[0m\n\u001b[1;32m----> 2\u001b[1;33m \u001b[0marray1\u001b[0m\u001b[1;33m.\u001b[0m\u001b[0mreshape\u001b[0m\u001b[1;33m(\u001b[0m\u001b[1;36m4\u001b[0m\u001b[1;33m,\u001b[0m\u001b[1;36m3\u001b[0m\u001b[1;33m)\u001b[0m\u001b[1;33m\u001b[0m\u001b[1;33m\u001b[0m\u001b[0m\n\u001b[0m",
      "\u001b[1;31mValueError\u001b[0m: cannot reshape array of size 10 into shape (4,3)"
     ]
    }
   ],
   "source": [
    "#변환할 수 없는 shape구조를 입력하면 오류 발생\n",
    "array1.reshape(4,3)"
   ]
  },
  {
   "cell_type": "markdown",
   "id": "7362f01f",
   "metadata": {},
   "source": [
    "reshape()에 -1 인자값을 부여하여 특정 차원으로 고정된 가변적인 ndarray의 형태 반환"
   ]
  },
  {
   "cell_type": "code",
   "execution_count": 26,
   "id": "ac863866",
   "metadata": {},
   "outputs": [
    {
     "name": "stdout",
     "output_type": "stream",
     "text": [
      "array1 :  [0 1 2 3 4 5 6 7 8 9]\n",
      "array2.shape :  (2, 5)\n",
      "array2 : \n",
      " [[0 1 2 3 4]\n",
      " [5 6 7 8 9]]\n",
      "array3.shape :  (5, 2)\n",
      "array3 : \n",
      " [[0 1]\n",
      " [2 3]\n",
      " [4 5]\n",
      " [6 7]\n",
      " [8 9]]\n"
     ]
    }
   ],
   "source": [
    "array1 = np.arange(10)\n",
    "print('array1 : ', array1)\n",
    "\n",
    "#컬럼 axis 크기는 5에 고정하고 로우 axis 크기를 이에 맞춰 자동으로 변환(-> 2*5 형태로 변환)\n",
    "array2 = array1.reshape(-1, 5)\n",
    "print('array2.shape : ', array2.shape)\n",
    "print('array2 : \\n', array2)\n",
    "\n",
    "# 로우 axis 크기는 5로 고정하고 컬럼 axis 크기는 이에 맞춰 자동으로 변환(-> 5*2 형태로 변환)\n",
    "array3 = array1.reshape(5, -1)\n",
    "print('array3.shape : ', array3.shape)\n",
    "print('array3 : \\n', array3)\n"
   ]
  },
  {
   "cell_type": "code",
   "execution_count": 27,
   "id": "5a9cec2a",
   "metadata": {},
   "outputs": [
    {
     "name": "stdout",
     "output_type": "stream",
     "text": [
      "array2d_1 shape :  (5, 1)\n",
      "array2d_1:\n",
      " [[0]\n",
      " [1]\n",
      " [2]\n",
      " [3]\n",
      " [4]]\n",
      "array1d shape :  (5,)\n",
      "array1d:\n",
      " [0 1 2 3 4]\n"
     ]
    }
   ],
   "source": [
    "# reshape()는 (-1, 1), (-1,)와 같은 형태로 주로 사용됨\n",
    "# 1차원 ndarray를 2차원으로 또는 2차원 ndarray를 1차원으로 변환 시 사용\n",
    "array1 = np.arange(5)\n",
    "\n",
    "# 1차원 ndarray를 2차원으로 변환하되, 컬럼axis크기는 반드시 1이어야 함\n",
    "array2d_1 = array1.reshape(-1, 1)\n",
    "print('array2d_1 shape : ', array2d_1.shape)\n",
    "print('array2d_1:\\n', array2d_1)\n",
    "\n",
    "# 2차원 ndarray를 1차원으로 변환\n",
    "array1d = array2d_1.reshape(-1,)\n",
    "print('array1d shape : ', array1d.shape)\n",
    "print('array1d:\\n', array1d)"
   ]
  },
  {
   "cell_type": "code",
   "execution_count": 28,
   "id": "a0753029",
   "metadata": {},
   "outputs": [
    {
     "ename": "ValueError",
     "evalue": "cannot reshape array of size 10 into shape (4)",
     "output_type": "error",
     "traceback": [
      "\u001b[1;31m---------------------------------------------------------------------------\u001b[0m",
      "\u001b[1;31mValueError\u001b[0m                                Traceback (most recent call last)",
      "\u001b[1;32m~\\AppData\\Local\\Temp/ipykernel_8056/4125335630.py\u001b[0m in \u001b[0;36m<module>\u001b[1;34m\u001b[0m\n\u001b[0;32m      1\u001b[0m \u001b[1;31m# -1을 적용하여도 변환이 불가능한 형태로의 변환을 요구할 경우 오류 발생\u001b[0m\u001b[1;33m\u001b[0m\u001b[1;33m\u001b[0m\u001b[0m\n\u001b[0;32m      2\u001b[0m \u001b[0marray1\u001b[0m \u001b[1;33m=\u001b[0m \u001b[0mnp\u001b[0m\u001b[1;33m.\u001b[0m\u001b[0marange\u001b[0m\u001b[1;33m(\u001b[0m\u001b[1;36m10\u001b[0m\u001b[1;33m)\u001b[0m\u001b[1;33m\u001b[0m\u001b[1;33m\u001b[0m\u001b[0m\n\u001b[1;32m----> 3\u001b[1;33m \u001b[0marray4\u001b[0m \u001b[1;33m=\u001b[0m \u001b[0marray1\u001b[0m\u001b[1;33m.\u001b[0m\u001b[0mreshape\u001b[0m\u001b[1;33m(\u001b[0m\u001b[1;33m-\u001b[0m\u001b[1;36m1\u001b[0m\u001b[1;33m,\u001b[0m \u001b[1;36m4\u001b[0m\u001b[1;33m)\u001b[0m\u001b[1;33m\u001b[0m\u001b[1;33m\u001b[0m\u001b[0m\n\u001b[0m",
      "\u001b[1;31mValueError\u001b[0m: cannot reshape array of size 10 into shape (4)"
     ]
    }
   ],
   "source": [
    "# -1을 적용하여도 변환이 불가능한 형태로의 변환을 요구할 경우 오류 발생\n",
    "array1 = np.arange(10)\n",
    "array4 = array1.reshape(-1, 4)"
   ]
  },
  {
   "cell_type": "code",
   "execution_count": 29,
   "id": "f7a88e79",
   "metadata": {},
   "outputs": [
    {
     "ename": "ValueError",
     "evalue": "can only specify one unknown dimension",
     "output_type": "error",
     "traceback": [
      "\u001b[1;31m---------------------------------------------------------------------------\u001b[0m",
      "\u001b[1;31mValueError\u001b[0m                                Traceback (most recent call last)",
      "\u001b[1;32m~\\AppData\\Local\\Temp/ipykernel_8056/1963678165.py\u001b[0m in \u001b[0;36m<module>\u001b[1;34m\u001b[0m\n\u001b[0;32m      1\u001b[0m \u001b[1;31m# -1값은 반드시 1개의 인자만 입력해야 함\u001b[0m\u001b[1;33m\u001b[0m\u001b[1;33m\u001b[0m\u001b[0m\n\u001b[1;32m----> 2\u001b[1;33m \u001b[0marray1\u001b[0m\u001b[1;33m.\u001b[0m\u001b[0mreshape\u001b[0m\u001b[1;33m(\u001b[0m\u001b[1;33m-\u001b[0m\u001b[1;36m1\u001b[0m\u001b[1;33m,\u001b[0m \u001b[1;33m-\u001b[0m\u001b[1;36m1\u001b[0m\u001b[1;33m)\u001b[0m\u001b[1;33m\u001b[0m\u001b[1;33m\u001b[0m\u001b[0m\n\u001b[0m",
      "\u001b[1;31mValueError\u001b[0m: can only specify one unknown dimension"
     ]
    }
   ],
   "source": [
    "# -1값은 반드시 1개의 인자만 입력해야 함\n",
    "array1.reshape(-1, -1)"
   ]
  },
  {
   "cell_type": "code",
   "execution_count": null,
   "id": "c9d64dd3",
   "metadata": {},
   "outputs": [],
   "source": []
  }
 ],
 "metadata": {
  "kernelspec": {
   "display_name": "Python 3 (ipykernel)",
   "language": "python",
   "name": "python3"
  },
  "language_info": {
   "codemirror_mode": {
    "name": "ipython",
    "version": 3
   },
   "file_extension": ".py",
   "mimetype": "text/x-python",
   "name": "python",
   "nbconvert_exporter": "python",
   "pygments_lexer": "ipython3",
   "version": "3.9.7"
  }
 },
 "nbformat": 4,
 "nbformat_minor": 5
}
