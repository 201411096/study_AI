{
 "cells": [
  {
   "cell_type": "markdown",
   "id": "3544e896",
   "metadata": {},
   "source": [
    "### 협업 필터링의 유형\n",
    "\n",
    "1. 최근접 이웃 기반(Nearest Neighbor)\n",
    "    * 사용자 기반(User-user CF)\n",
    "    * 아이템 기반(Item-item CF)\n",
    "2. 잠재 요인 기반(Latent Factor)\n",
    "    * 행렬 분해 기반(Matrix Factorization)"
   ]
  },
  {
   "cell_type": "markdown",
   "id": "a903b7be",
   "metadata": {},
   "source": [
    "### 협업 필터링의 특징\n",
    "\n",
    "* User behavior (item 구매 이력, 영화 평점 이력)에만 기반하여 추천 알고리즘들을 전반적으로 지칭함\n",
    "* 상품, 영화 등 사용자가 아직 평가하지 않은 item에 대한 평가(rating)을 예측 하는 것이 주요 역할."
   ]
  },
  {
   "cell_type": "markdown",
   "id": "7136b490",
   "metadata": {},
   "source": [
    "### 협업 필터링을 위한 데이터 세트\n",
    "* 사용자 로우-아이템컬럼\n",
    "    * 로우 레벨 형태의 사용자-아이템 평점 데이터 -> 사용자 로우, 아이템 컬럼으로 구성된 사용자-아이템 평점 데이터\n",
    "        * pandas의 pivot_table()을 이용하여 쉽게 변환 가능"
   ]
  },
  {
   "cell_type": "code",
   "execution_count": null,
   "id": "693c98ff",
   "metadata": {},
   "outputs": [],
   "source": []
  }
 ],
 "metadata": {
  "kernelspec": {
   "display_name": "Python 3 (ipykernel)",
   "language": "python",
   "name": "python3"
  },
  "language_info": {
   "codemirror_mode": {
    "name": "ipython",
    "version": 3
   },
   "file_extension": ".py",
   "mimetype": "text/x-python",
   "name": "python",
   "nbconvert_exporter": "python",
   "pygments_lexer": "ipython3",
   "version": "3.9.7"
  }
 },
 "nbformat": 4,
 "nbformat_minor": 5
}
