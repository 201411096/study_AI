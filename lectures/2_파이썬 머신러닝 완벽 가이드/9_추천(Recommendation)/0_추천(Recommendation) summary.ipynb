{
 "cells": [
  {
   "cell_type": "markdown",
   "id": "7f2ded6c",
   "metadata": {},
   "source": [
    "* 추천 시스템의 중요성\n",
    "* 추천 시스템의 유형\n",
    "    * 컨텐츠 기반 필터링\n",
    "    * 협업 필터링\n",
    "    * 최근접 이웃 기반(Nearest Neighbor)\n",
    "        * 사용자 기반(User-user CF)\n",
    "        * 아이템 기반(Item-item CF)\n",
    "    * 잠재 요인 기반(Latent Factor)\n",
    "        * 행렬 분해 기반(Matrix Factorization)\n",
    "        \n",
    "* Surprise - 파이썬 추천 패키지"
   ]
  },
  {
   "cell_type": "code",
   "execution_count": null,
   "id": "10bdaacc",
   "metadata": {},
   "outputs": [],
   "source": []
  }
 ],
 "metadata": {
  "kernelspec": {
   "display_name": "Python 3 (ipykernel)",
   "language": "python",
   "name": "python3"
  },
  "language_info": {
   "codemirror_mode": {
    "name": "ipython",
    "version": 3
   },
   "file_extension": ".py",
   "mimetype": "text/x-python",
   "name": "python",
   "nbconvert_exporter": "python",
   "pygments_lexer": "ipython3",
   "version": "3.9.7"
  }
 },
 "nbformat": 4,
 "nbformat_minor": 5
}
