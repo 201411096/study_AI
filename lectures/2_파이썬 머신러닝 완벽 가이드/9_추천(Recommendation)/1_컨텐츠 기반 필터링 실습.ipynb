{
 "cells": [
  {
   "cell_type": "markdown",
   "id": "f05dec07",
   "metadata": {},
   "source": [
    "### 추천 시스템 방식\n",
    "\n",
    "* 컨텐츠 기반 필터링(Content Based Filtering)\n",
    "\n",
    "* 협업 필터링(Collarborative Filtering)\n",
    "    * 나와 비슷한 사람들이 선택했던...\n",
    "\n",
    "\n",
    "* 추천 시스템은 이들 방식 중 1가지를 선택하거나 이들을 결합하여 hybrid 방식으로 사용"
   ]
  },
  {
   "cell_type": "markdown",
   "id": "47a71a9c",
   "metadata": {},
   "source": [
    "### 컨텐츠 기반 필터링 기법\n",
    "\n",
    "* 영화 구성 컨텐츠 텍스트 -> 피처 벡터화(Count, TF-IDF) -> 코사인 유사도 -> 유사도 및 평점에 따른 영화 추천\n",
    "* ex) 감독, 배우, 영화 설명, 장르 등 영화를 구성하는 다양한 컨텐츠들을 텍스트 기반 문서 유사도로 비교하여 추천"
   ]
  },
  {
   "cell_type": "markdown",
   "id": "71e5b567",
   "metadata": {},
   "source": [
    "### 컨텐츠 기반 필터링 구현 프로세스\n",
    "\n",
    "1. 컨텐츠에 대한 여러 텍스트 정보들을 피처 벡터화\n",
    "2. 코사인 유사도로 컨텐츠별 유사도 계산\n",
    "3. 컨텐츠 별로 가중 평점을 계산\n",
    "4. 유사도가 높은 컨텐츠 중에 평점이 좋은 컨텐츠 순으로 추천"
   ]
  },
  {
   "cell_type": "markdown",
   "id": "aa3a1ea7",
   "metadata": {},
   "source": [
    "### 컨텐츠 기반 필터링 실습 - TMDB Movie Dataset"
   ]
  },
  {
   "cell_type": "markdown",
   "id": "d77c7cf5",
   "metadata": {},
   "source": [
    "* kaggle - TMDB5000 Movie Dataset"
   ]
  },
  {
   "cell_type": "code",
   "execution_count": null,
   "id": "51840585",
   "metadata": {},
   "outputs": [],
   "source": []
  }
 ],
 "metadata": {
  "kernelspec": {
   "display_name": "Python 3 (ipykernel)",
   "language": "python",
   "name": "python3"
  },
  "language_info": {
   "codemirror_mode": {
    "name": "ipython",
    "version": 3
   },
   "file_extension": ".py",
   "mimetype": "text/x-python",
   "name": "python",
   "nbconvert_exporter": "python",
   "pygments_lexer": "ipython3",
   "version": "3.9.7"
  }
 },
 "nbformat": 4,
 "nbformat_minor": 5
}
