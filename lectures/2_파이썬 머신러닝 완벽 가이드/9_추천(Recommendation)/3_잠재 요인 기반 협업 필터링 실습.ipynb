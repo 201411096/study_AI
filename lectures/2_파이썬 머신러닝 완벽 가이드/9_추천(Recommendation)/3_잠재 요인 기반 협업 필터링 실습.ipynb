{
 "cells": [
  {
   "cell_type": "markdown",
   "id": "8fc465b7",
   "metadata": {},
   "source": [
    "## 잠재 요인 협업 필터링의 개요\n",
    "\n",
    "* 잠재 요인 협업 필터링은 사용자-아이템 평점 행렬 속에 숨어 있는 잠재 요인을 추출해 추천 예측을 할 수 있게 하는 기법입니다.\n",
    "* 대규모 다차원 행렬을 SVD와 같은 행렬 분해(Matrix Factorization) 기법으로 분해하는 과정에서 잠재 요인을 추출하는데, 이 잠재요인을 기반으로 사용자-아이템 평점 행렬을 재구성하면서 추천을 구현합니다."
   ]
  },
  {
   "cell_type": "markdown",
   "id": "0f097211",
   "metadata": {},
   "source": [
    "### 잠재 요인 협업 필터링의 이해\n",
    "\n",
    "* 잠재 요인 협업 필터링은 사용자-아이템 평점 행렬 속에 숨어 있는 잠재 요인을 추출해 추천 예측을 할 수 있게 하는 기법입니다.\n",
    "\n",
    "* ex) 영화의 잠재 요인 추출\n",
    "    * 사용자 레벨의 잠재요인\n",
    "    * 아이템 레벨의 잠재요인"
   ]
  },
  {
   "cell_type": "markdown",
   "id": "efc7c5c6",
   "metadata": {},
   "source": [
    "### 행렬 분해를 통한 잠재 요인 협업 필터링\n",
    "\n",
    "* 잠재 요인 협업 필터링의 행렬 분해\n",
    "    * $R$ ~$P$ * $Q^T$\n",
    "        * $R$ : 사용자-아이템 평점 행렬\n",
    "        * **~** : Decomposed by\n",
    "        * $P$ : 사용자-잠재 요인 행렬\n",
    "        * $Q^T$ : 잠재 요인-아이템 행렬\n",
    "* 잠재 요인 협업 필터링의 행렬 분해 목표는 희소 행렬 형태의 사용자-아이템 평점 행렬을 밀집(Dense)행렬 형태의 사용자-잠재 요인 행렬과 잠재 요인-아이템 행렬로 분해 한 뒤, 이를 재결합하여 밀집 행렬 형태의 사용자-아이템 평점 행렬을 생성하여 사용자에게 새로운 아이템을 추천하는 것입니다."
   ]
  },
  {
   "cell_type": "markdown",
   "id": "86f2258f",
   "metadata": {},
   "source": [
    "* 원본 행렬 -> **(행렬 분해)** -> 사용자-잠재요인 행렬 * 잠재 요인-아이템 행렬\n",
    "* 사용자-잠재요인 행렬 * 잠재요인-아이템 행렬 -> **(내적 곱)** -> 예측 행렬"
   ]
  },
  {
   "cell_type": "markdown",
   "id": "d2e8ed72",
   "metadata": {},
   "source": [
    "### 잠재 요인 기반의 행렬 분해 이해\n",
    "\n",
    "* 원본 행렬(R)\n",
    "    * 사용자(M) * 아이템(N)\n",
    "* 사용자-잠재요인 행렬(P)\n",
    "    * 사용자(M) * 잠재요인(K)\n",
    "    * 개별 Row는 개별 사용자에 대한 잠재요인(Latent Factor)들을 반형\n",
    "* 잠재요인-아이템 행렬(Q.T) -> 아이템-잠재요인 행렬의 전치행렬\n",
    "    * 잠재요인(K) * 아이템(N)\n",
    "    * 개별 Row는 개별 아이템에 대한 잠재요인(Latent Factor)들을 반형"
   ]
  },
  {
   "cell_type": "markdown",
   "id": "16b99371",
   "metadata": {},
   "source": [
    "### 사용자-아이템 평점 행렬 분해 이슈\n",
    "\n",
    "1. 그러나 SVD는 Missing Value가 없는 행렬에 적용 가능합니다. 따라서 P와 Q 행렬을 일반적인 SVD방식으로는 분해할 수 없습니다.\n",
    "2. P와 Q를 모르는데 어떻게 R을 예측할 수 있는가?\n",
    "3. 경사 하강법(Gradient Descent)를 이용하여 P와 Q에 기반한 예측 R값이 실제 R값과 가장 최소의 오류를 가질 수 있도록 비용함수 최적화를 통해 P와 Q를 최적화 유추"
   ]
  },
  {
   "cell_type": "markdown",
   "id": "c7b85275",
   "metadata": {},
   "source": [
    "### 경사하강법 기반의 행렬 분해\n",
    "\n",
    "\n",
    "* 경사 하강법을 이용한 행렬 분해 방법은 P와 Q 행렬로 계산된 예측 R 행렬 값이 실제 R 행렬 값과 가장 최소의 오류를 가질 수 있도록 반복적인 비용 함수 최적화를 통해 P와 Q를 유추해내는 것입니다.\n",
    "\n",
    "\n",
    "\n",
    "* 경사 하강법 기반의 행렬 분해 순서\n",
    "    1. P와 Q를 임의의 값을 가진 행렬로 설정합니다.\n",
    "    2. P와 Q.T값을 곱해 예측 R 행렬을 계산하고 예측 R 행렬과 실제 R 행렬에 해당하는 오류 값을 계산합니다.\n",
    "    3. 이 오류 값을 최소화할 수 있도록, P 와 Q행렬을 적절한 값으로 업데이트합니다.\n",
    "    4. 만족할 만한 오류 값을 가질 때까지 2,3번 작업을 반복하면서 P와 Q값을 업데이트해 근사화합니다."
   ]
  },
  {
   "cell_type": "markdown",
   "id": "d84758b3",
   "metadata": {},
   "source": [
    "### 경사 하강법 기반의 행렬 분해 비용 함수\n",
    "\n",
    "* 실제 값과 예측값의 오류 최소화와 L2 규제(Regularization)를 고려한 비용 함수식\n",
    "    * $ min\\sum(r_{(u, i)} - p_uq_i^t)^2 + \\lambda(\\vert\\vert q_i \\vert\\vert^2 + \\vert\\vert p_u \\vert\\vert^2) $\n",
    "    * 실제값과 예측값의 오류 최소화 + 과적합 개선을 위한 L2 규제"
   ]
  },
  {
   "cell_type": "markdown",
   "id": "ac796d53",
   "metadata": {},
   "source": [
    "### 경사 하강법 기반의 행렬 분해 업데이트 식\n",
    "\n",
    "\n",
    "* 실제 R 행렬과 예측 R 행렬 값의 차이를 최소화하는 방향성을 가지고 P행렬과 Q행렬에 업데이트 값을 반복적으로 수행하면서 최적화된 예측 R 행렬을 구하는 방식이 경사 하강법 기반의 행렬 분해입니다.\n",
    "\n",
    "\n",
    "* 비용 함수를 최소화하기 위해서 새롭게 업데이트되는 $p_u'$ 와 $q_i'$\n",
    "    * $p_u' = p_u + n( e_{(u, i)}*q_i - \\lambda*p_u ) $\n",
    "    * $q_i' = q_i + n( e_{(u, i)}*p_u - \\lambda*q_i ) $\n",
    "        * n -> 학습률\n",
    "        \n",
    "        \n",
    "* $p_u$ : P 행렬의 사용자 u행 벡터\n",
    "* $q_i^t$ : Q 행렬의 아이템 i행의 전치 벡터(transpose vector)\n",
    "* $r_{(u, i)}$ : R행렬의 u행, i열에 위치한 값\n",
    "* $r_{(u, i)}' $ : $ p_u * q_i^t $로 계산하며, u행 i열에 위치한 행렬의 예측값\n",
    "* $e_{(u, i)}$ : $r_{(u, i)} - r_{(u, i)}' $의 값으로, u행 i열에 위치한 실제 행렬 값과 예측 행렬 값의 차이 오류\n",
    "* $\\alpha$ : SGD 학습률\n",
    "* $\\lambda$ : L2 Regularization 계수"
   ]
  },
  {
   "cell_type": "code",
   "execution_count": null,
   "id": "3457202b",
   "metadata": {},
   "outputs": [],
   "source": []
  }
 ],
 "metadata": {
  "kernelspec": {
   "display_name": "Python 3 (ipykernel)",
   "language": "python",
   "name": "python3"
  },
  "language_info": {
   "codemirror_mode": {
    "name": "ipython",
    "version": 3
   },
   "file_extension": ".py",
   "mimetype": "text/x-python",
   "name": "python",
   "nbconvert_exporter": "python",
   "pygments_lexer": "ipython3",
   "version": "3.9.7"
  }
 },
 "nbformat": 4,
 "nbformat_minor": 5
}
