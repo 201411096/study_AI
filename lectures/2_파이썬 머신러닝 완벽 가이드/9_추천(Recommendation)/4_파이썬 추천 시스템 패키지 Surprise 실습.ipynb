{
 "cells": [
  {
   "cell_type": "markdown",
   "id": "45b6f458",
   "metadata": {},
   "source": [
    "## Surprise - 파이썬 추천 패키지\n",
    "\n",
    "* R은 recommenderlab, Spark는 MLlib에서 쉽게 Recommendation을 수행할 수 있는 패키지를 가지고 있는 방면에 사이킷런에서는 Recommendation을 쉽게 수행할 수 있는 package를 가지고 있지 않습니다.\n",
    "* Python에서 recommendation을 쉽게 제공하는 대표적인 패키지로서 surprise가 있습니다. Surprise는 Scikit learn의 API와 유사하게 작성되어 있으며, 이를 이용해 Recommendation Process를 쉽게 적용할 수 있습니다.\n",
    "* pip 또는 conda로 설치할 수 있으며, 윈도우 운영체제에 설치시에는 Visual studio build tools이 미리 설치되어 있어야 합니다."
   ]
  },
  {
   "cell_type": "markdown",
   "id": "5a9d1e17",
   "metadata": {},
   "source": [
    "### Surprise 패키지를 이용한 추천 수행 프로세스\n",
    "\n",
    "1. 데이터 로딩\n",
    "    * 데이터 컬럼 format, rating scaling\n",
    "        * Reader\n",
    "    * Built-in, OS, DataFrame에서 데이터 로딩\n",
    "        * Dataset\n",
    "2. 모델 설정 및 학습\n",
    "    * 추천 Algorithm 설정\n",
    "        * SVD, KNNBasic 등\n",
    "    * Train 데이터로 학습\n",
    "        * train() 메소드\n",
    "3. 예측 및 평가\n",
    "    * 예측\n",
    "        * test(), predict()\n",
    "    * 평가\n",
    "        * accuracy.rmse 등\n",
    "        \n",
    "\n",
    "* cross_validate, GridSearchCV\n",
    "    * Train 데이터로 학습 ~ 예측&평가"
   ]
  },
  {
   "cell_type": "markdown",
   "id": "c90f7b50",
   "metadata": {},
   "source": [
    "### Surprise를 이용한 추천 구현 기본\n",
    "\n",
    "1. 필요한 라이브러리 로딩\n",
    "    * from surprise import SVD, Dataset, accuracy\n",
    "    * from surprise.model_selection import train_test_split\n",
    "2. 필요한 데이터 세트를 로딩, 데이터는 Dataset 패키지를 이용, CSV파일 및 Pandas Dataframe에서도 Loading가능, 로딩한 데이터 세트를 학습용과 테스트용 데이터 세트로 분리\n",
    "    * data = Dataset.load_builtin('ml-100k')\n",
    "    * trainset, testset = train_test_split(data, test_size=.25)\n",
    "3. 행렬 분해를 수행할 알고리즘으로 SVD 생성하고 학습용 데이터로 학습\n",
    "    * algo = SVD()\n",
    "    * algo.fit(trainset)\n",
    "4. 테스트 데이터 세트에 대해서 prediction을 수행. 일반적인 scikit learn의 predict() 메소드는 surprise에서 test()메소드, 특정 사용자와 item에 대한 predict는 predict() 메소드.\n",
    "    * predictions = algo.test(testset)"
   ]
  },
  {
   "cell_type": "markdown",
   "id": "99b99742",
   "metadata": {},
   "source": [
    "### Surprise 주요 모듈 소개 - Dataset\n",
    "\n",
    "* Surprise는 무비렌즈 데이터 세트와 같이 userid, itemid, rating 컬럼들이 사용자(userid)를 기준으로 한 로우 레벨의 평점 데이터로 구성된 데이터 세트만 입력 가능합니다.\n",
    "* 입력받은 데이터의 첫번째 컬럼을 사용자 ID, 두번째 컬럼을 itemID, 세번째 컬럼을 Rating으로 가정합니다. 네번쨰부터는 Recommendation 알고리즘에 아예 사용하지 않습니다.\n",
    "    * 사용자ID, 아이템ID, 평점의 컬럼순은 반드시 지켜야 합니다.\n",
    "* 이렇게 로우 레벨로 입력 받은 사용자-아이템 데이터는 Dataset 객체로 로딩 후 사용자-아이템 평점 행렬로 변환됩니다."
   ]
  },
  {
   "cell_type": "markdown",
   "id": "aecfba11",
   "metadata": {},
   "source": [
    "### Dataset 클래스의 주요 메소드\n",
    "\n",
    "* Dataset.load_builtin(name='ml-100k')\n",
    "    * 무비렌즈 아카이브 FTP 서버에서 무비렌즈 데이터를 내려받습니다.\n",
    "    * ml-100k, ml-1M를 내려받을 수 있습니다. 일단 내려받은 데이터는 .surprise_data 디렉토리 밑에 저장되고, 해당 디렉토리에 데이터가 있으면 FTP에서 내려받지 않고 해당 데이터를 이용합니다.\n",
    "    * 입력 파라미터인 name으로 대상 데이터가 ml-100k인지 ml-1m인지를 입력합니다.(name='ml-100k')\n",
    "    * 디폴트는 ml-100k입니다.\n",
    "* Dataset.load_from_file(file_path, reader)\n",
    "    * OS, 파일에서 데이터를 로딩할 때 사용합니다.\n",
    "    * 콤마, 탭 등으로 컬럼이 분리된 포맷의 OS 파일에서 데이터를 로딩합니다.\n",
    "    * 입력 파라미터로 OS 파일명, Reader로 파일의 포맷을 지정합니다.\n",
    "* Dataset.load_from_df(df, reader)\n",
    "    * 판다스의 DataFrame에서 데이터를 로딩합니다.\n",
    "    * 파라미터로 DataFrame을 입력받으며 DataFrame 역시 반드시 3개의 컬럼인 사용자 아이디, 아이템 아이디, 평점 순으로 컬럼 순서가 정해져 있어야 합니다.\n",
    "    * 입력 파라미터로 DataFrame 객체, Reader로 파일의 포맷을 지정합니다."
   ]
  },
  {
   "cell_type": "markdown",
   "id": "3a05757b",
   "metadata": {},
   "source": [
    "### Surprise 주요 모듈 소개 - Reader\n",
    "\n",
    "* Raw 데이터 소스에서 Dataset로 로딩 규칙을 지정하기 위해 사용됩니다.\n",
    "* Surprise 데이터 세트는 기본적으로 무비렌즈 데이터와 같은 로우 레벨의 사용자-아이템 평점 데이터 형식을 따르므로, 무비렌즈 데이터 형식이 아닌 경우 이를 변환하여 Dataset로 로딩해야 합니다.\n",
    "\n",
    "\n",
    "* 예시\n",
    "    * from surprise import Reader\n",
    "    * reader = Reader(line_format='user item rating timestamp', sep=',', rating_scale=(0.5, 5))\n",
    "    * data = Dataset.load_from_file('./ml-latest-small/rating_noh.csv', reader=reader)\n",
    "    \n",
    "    \n",
    "* line_format(string) : 컬럼을 순서대로 나열합니다. 입력된 문자열을 공백으로 분리해 컬럼으로 인식합니다.\n",
    "* sep(char) : 컬럼을 분리하는 분리자이며, 디폴트는 '\\t'입니다. 판다스 DataFrame에서 입력받을 경우에는 기재할 필요가 없습니다.\n",
    "* rating_scale(tupe, optional) : 평점 간의 최소~최대 평점을 설정합니다. 디폴트는 (1, 5)이지만 ratings.csv 파일의 경우 최소 평점이 0.5, 최대 평점이 5이므로 (0.5, 5)로 설정했습니다."
   ]
  },
  {
   "cell_type": "markdown",
   "id": "ad02a680",
   "metadata": {},
   "source": [
    "---"
   ]
  },
  {
   "cell_type": "markdown",
   "id": "d917731a",
   "metadata": {},
   "source": [
    "## Surprise를 이용한 추천 시스템 기본 구현"
   ]
  },
  {
   "cell_type": "markdown",
   "id": "8a8a6ea2",
   "metadata": {},
   "source": [
    "#### surprise 모듈 설치"
   ]
  },
  {
   "cell_type": "code",
   "execution_count": 1,
   "id": "cd4d44b2",
   "metadata": {},
   "outputs": [],
   "source": [
    "# conda install -c conda-forge scikit-surprise"
   ]
  },
  {
   "cell_type": "code",
   "execution_count": 2,
   "id": "8032e689",
   "metadata": {},
   "outputs": [
    {
     "name": "stdout",
     "output_type": "stream",
     "text": [
      "1.1.1\n"
     ]
    }
   ],
   "source": [
    "import surprise\n",
    "\n",
    "print(surprise.__version__)"
   ]
  },
  {
   "cell_type": "markdown",
   "id": "ef648542",
   "metadata": {},
   "source": [
    "### Surprise를 이용한 추천 시스템 구축"
   ]
  },
  {
   "cell_type": "code",
   "execution_count": 3,
   "id": "4f17bfbd",
   "metadata": {},
   "outputs": [],
   "source": [
    "from surprise import SVD\n",
    "from surprise import Dataset\n",
    "from surprise import accuracy\n",
    "from surprise.model_selection import train_test_split"
   ]
  },
  {
   "cell_type": "markdown",
   "id": "a94d3961",
   "metadata": {},
   "source": [
    "#### 내장 데이터를 로드하고 학습과 테스트 데이터로 분리"
   ]
  },
  {
   "cell_type": "code",
   "execution_count": 4,
   "id": "2a91fd60",
   "metadata": {},
   "outputs": [
    {
     "name": "stdout",
     "output_type": "stream",
     "text": [
      "Dataset ml-100k could not be found. Do you want to download it? [Y/n] y\n",
      "Trying to download dataset from http://files.grouplens.org/datasets/movielens/ml-100k.zip...\n",
      "Done! Dataset ml-100k has been saved to C:\\Users\\user/.surprise_data/ml-100k\n"
     ]
    }
   ],
   "source": [
    "data = Dataset.load_builtin('ml-100k')\n",
    "trainset, testset = train_test_split(data, test_size=.25, random_state=0)"
   ]
  },
  {
   "cell_type": "markdown",
   "id": "a05edb85",
   "metadata": {},
   "source": [
    "#### 추천 행렬 분해 알고리즘으로 SVD 객체를 생성하고 학습 수행"
   ]
  },
  {
   "cell_type": "code",
   "execution_count": 5,
   "id": "773c6b32",
   "metadata": {},
   "outputs": [
    {
     "data": {
      "text/plain": [
       "<surprise.prediction_algorithms.matrix_factorization.SVD at 0x22cf9f6d8b0>"
      ]
     },
     "execution_count": 5,
     "metadata": {},
     "output_type": "execute_result"
    }
   ],
   "source": [
    "algo = SVD()\n",
    "algo.fit(trainset)"
   ]
  },
  {
   "cell_type": "markdown",
   "id": "02bd36f2",
   "metadata": {},
   "source": [
    "#### 테스트 데이터 세트에 예상 평점 데이터 예측, test()메소드 호출 시에는 Prediction 객체의 리스트로 펑점 예측 데이터 반환"
   ]
  },
  {
   "cell_type": "code",
   "execution_count": 6,
   "id": "fa3170c0",
   "metadata": {},
   "outputs": [
    {
     "name": "stdout",
     "output_type": "stream",
     "text": [
      "prediction type :  <class 'list'>  size :  25000\n",
      "prediction 결과의 최초 5개 추출\n"
     ]
    },
    {
     "data": {
      "text/plain": [
       "[Prediction(uid='120', iid='282', r_ui=4.0, est=3.7003202036929483, details={'was_impossible': False}),\n",
       " Prediction(uid='882', iid='291', r_ui=4.0, est=3.8554527445158033, details={'was_impossible': False}),\n",
       " Prediction(uid='535', iid='507', r_ui=5.0, est=4.09690441053254, details={'was_impossible': False}),\n",
       " Prediction(uid='697', iid='244', r_ui=5.0, est=3.6699218842520316, details={'was_impossible': False}),\n",
       " Prediction(uid='751', iid='385', r_ui=4.0, est=3.3095363428270637, details={'was_impossible': False})]"
      ]
     },
     "execution_count": 6,
     "metadata": {},
     "output_type": "execute_result"
    }
   ],
   "source": [
    "predictions = algo.test(testset)\n",
    "print('prediction type : ', type(predictions), ' size : ', len(predictions))\n",
    "print('prediction 결과의 최초 5개 추출')\n",
    "predictions[:5]\n",
    "\n",
    "# Prediction 객체가 들어있는 리스트 반환\n",
    "# r_ui : 실제 평점\n",
    "# est : 예측한 평점"
   ]
  },
  {
   "cell_type": "code",
   "execution_count": 7,
   "id": "dc1e685c",
   "metadata": {},
   "outputs": [
    {
     "data": {
      "text/plain": [
       "[('120', '282', 3.7003202036929483),\n",
       " ('882', '291', 3.8554527445158033),\n",
       " ('535', '507', 4.09690441053254)]"
      ]
     },
     "execution_count": 7,
     "metadata": {},
     "output_type": "execute_result"
    }
   ],
   "source": [
    "[ (pred.uid, pred.iid, pred.est) for pred in predictions[:3] ]"
   ]
  },
  {
   "cell_type": "markdown",
   "id": "15402a60",
   "metadata": {},
   "source": [
    "#### predict()메소드는 개별 사용자,아이템에 대한 예측 평점 정보를 반환"
   ]
  },
  {
   "cell_type": "code",
   "execution_count": 9,
   "id": "6b13c100",
   "metadata": {},
   "outputs": [
    {
     "name": "stdout",
     "output_type": "stream",
     "text": [
      "user: 196        item: 302        r_ui = None   est = 4.29   {'was_impossible': False}\n"
     ]
    }
   ],
   "source": [
    "# 사용자 아이디, 아이템 아이디는 문자열로 입력해야 함. \n",
    "uid = str(196)\n",
    "iid = str(302)\n",
    "pred = algo.predict(uid, iid)\n",
    "print(pred)"
   ]
  },
  {
   "cell_type": "markdown",
   "id": "a6a79d65",
   "metadata": {},
   "source": [
    "#### 반환된 Prediction의 리스트 객체를 기반으로 RMSE 평가"
   ]
  },
  {
   "cell_type": "code",
   "execution_count": 10,
   "id": "9b765153",
   "metadata": {},
   "outputs": [
    {
     "name": "stdout",
     "output_type": "stream",
     "text": [
      "RMSE: 0.9482\n"
     ]
    },
    {
     "data": {
      "text/plain": [
       "0.9481848514192347"
      ]
     },
     "execution_count": 10,
     "metadata": {},
     "output_type": "execute_result"
    }
   ],
   "source": [
    "accuracy.rmse(predictions)"
   ]
  },
  {
   "cell_type": "markdown",
   "id": "ea734b52",
   "metadata": {},
   "source": [
    "### Surprise 주요 모듈 소개"
   ]
  },
  {
   "cell_type": "markdown",
   "id": "72dc20bf",
   "metadata": {},
   "source": [
    "#### csv 파일로 사용자 평점 데이터 생성"
   ]
  },
  {
   "cell_type": "code",
   "execution_count": 11,
   "id": "a41bf890",
   "metadata": {},
   "outputs": [],
   "source": [
    "import pandas as pd\n",
    "\n",
    "ratings = pd.read_csv('./ml-latest-small/ratings.csv')\n",
    "# ratings_noh.csv 파일로 unload 시 index 와 header를 모두 제거한 새로운 파일 생성.  \n",
    "ratings.to_csv('./ml-latest-small/ratings_noh.csv', index=False, header=False)"
   ]
  },
  {
   "cell_type": "markdown",
   "id": "c6f824f9",
   "metadata": {},
   "source": [
    "#### Reader클래스로 파일의 포맷팅 지정하고 Dataset의 load_from_file()을 이용하여 데이터셋 로딩"
   ]
  },
  {
   "cell_type": "code",
   "execution_count": 12,
   "id": "009da94c",
   "metadata": {},
   "outputs": [],
   "source": [
    "from surprise import Reader\n",
    "\n",
    "reader = Reader(line_format='user item rating timestamp', sep=',', rating_scale=(0.5, 5))\n",
    "data=Dataset.load_from_file('./ml-latest-small/ratings_noh.csv',reader=reader)"
   ]
  },
  {
   "cell_type": "markdown",
   "id": "c7a96228",
   "metadata": {},
   "source": [
    "#### 학습과 테스트 데이터 세트로 분할하고 SVD로 학습후 테스트데이터 평점 예측 후 RMSE평가"
   ]
  },
  {
   "cell_type": "code",
   "execution_count": 13,
   "id": "59db29b5",
   "metadata": {},
   "outputs": [
    {
     "name": "stdout",
     "output_type": "stream",
     "text": [
      "RMSE: 0.8682\n"
     ]
    },
    {
     "data": {
      "text/plain": [
       "0.8681952927143516"
      ]
     },
     "execution_count": 13,
     "metadata": {},
     "output_type": "execute_result"
    }
   ],
   "source": [
    "trainset, testset = train_test_split(data, test_size=.25, random_state=0)\n",
    "\n",
    "# 수행시마다 동일한 결과 도출을 위해 random_state 설정 \n",
    "algo = SVD(n_factors=50, random_state=0) # latent factor : 50개\n",
    "\n",
    "# 학습 데이터 세트로 학습 후 테스트 데이터 세트로 평점 예측 후 RMSE 평가\n",
    "algo.fit(trainset) \n",
    "predictions = algo.test( testset )\n",
    "accuracy.rmse(predictions)"
   ]
  },
  {
   "cell_type": "markdown",
   "id": "6ab46e47",
   "metadata": {},
   "source": [
    "#### 판다스 DataFrame기반에서 동일하게 재 수행"
   ]
  },
  {
   "cell_type": "code",
   "execution_count": 14,
   "id": "162f7748",
   "metadata": {},
   "outputs": [
    {
     "name": "stdout",
     "output_type": "stream",
     "text": [
      "RMSE: 0.8682\n"
     ]
    },
    {
     "data": {
      "text/plain": [
       "0.8681952927143516"
      ]
     },
     "execution_count": 14,
     "metadata": {},
     "output_type": "execute_result"
    }
   ],
   "source": [
    "import pandas as pd\n",
    "from surprise import Reader, Dataset\n",
    "\n",
    "ratings = pd.read_csv('./ml-latest-small/ratings.csv') \n",
    "reader = Reader(rating_scale=(0.5, 5.0))\n",
    "\n",
    "# ratings DataFrame 에서 컬럼은 사용자 아이디, 아이템 아이디, 평점 순서를 지켜야 합니다. \n",
    "data = Dataset.load_from_df(ratings[['userId', 'movieId', 'rating']], reader)\n",
    "trainset, testset = train_test_split(data, test_size=.25, random_state=0)\n",
    "\n",
    "algo = SVD(n_factors=50, random_state=0)\n",
    "algo.fit(trainset) \n",
    "predictions = algo.test( testset )\n",
    "accuracy.rmse(predictions)"
   ]
  },
  {
   "cell_type": "markdown",
   "id": "685d1530",
   "metadata": {},
   "source": [
    "---"
   ]
  },
  {
   "cell_type": "markdown",
   "id": "1eced977",
   "metadata": {},
   "source": [
    "### Surprise 추천 알고리즘 클래스\n",
    "\n",
    "\n",
    "* SVD\n",
    "    * 행렬 분해를 통한 잠재 요인 협업 필터링을 위한 SVD 알고리즘\n",
    "* KNNBasic\n",
    "    * 최근접 이웃 협업 필터링을 위한 KNN 알고리즘\n",
    "* BaselineOnly\n",
    "    * 사용자 Bias와 아이템 Bias를 감안한 SGD 베이스라인 알고리즘"
   ]
  },
  {
   "cell_type": "markdown",
   "id": "686c375c",
   "metadata": {},
   "source": [
    "### 사용자의 성향을 반영한 Baseline rating\n",
    "\n",
    "* $r_{ui}' = b_{ui} = \\mu + b_u + b_i$\n",
    "    * 사용자 u의 아이템 i에 대한 예측 평점 = 전체 사용자의 평균 영화 평점 + 사용자 편향점수 + 아이템 편향 점수\n",
    "    * ex) 사용자 A의 어벤저스 3편 베이스 라인 평점 = 3.5 - 0.5 + 0.7 = 3.7\n",
    "        * 3.5 + (3.0 - 3.5) + (4.2 - 3.5)\n",
    "            * 모든 사용자의 평균 영화 평점 : 3.5\n",
    "            * 사용자 A의 평균 평점 : 3.0\n",
    "            * 어벤저스 3편의 평균 평점 : 4.2"
   ]
  },
  {
   "cell_type": "markdown",
   "id": "dfdf7cd3",
   "metadata": {},
   "source": [
    "### Baseline rating을 반영한 행렬 분해의 비용 최소화 함수\n",
    "\n",
    "* $ min( \\sum_{r_ui \\in R_train} (r_ui - r_{ui}')^2 + \\lambda( b_i^2 + b_u^2 + \\vert\\vert q_i \\vert\\vert^2 + \\vert\\vert p_u \\vert\\vert^2 ) ) $\n",
    "    * $b_i$는 아이템 편향 점수\n",
    "    * $b_u$는 사용자 편향 점수"
   ]
  },
  {
   "cell_type": "markdown",
   "id": "1ac87e8a",
   "metadata": {},
   "source": [
    "### SVD의 튜닝 파라미터\n",
    "\n",
    "* n_factors\n",
    "    * 잠재 요인 K의 개수, 디폴트는 100, 커질수록 정확도가 높아질 수 있으나 과적합 문제가 발생할 수 있습니다.\n",
    "        * K가 커질수록 원래 차원과 가까워지니..\n",
    "* n_epochs\n",
    "    * SGD(Stochastic Gradient Descent) 수행 시 반복 횟수, 디폴트는 20\n",
    "* biased (bool)\n",
    "    * 베이스라인 사용자 편향 적용 여부이며, 디폴트는 True입니다."
   ]
  },
  {
   "cell_type": "markdown",
   "id": "efdb97c0",
   "metadata": {},
   "source": [
    "### 교차 검증(Cross Validation)과 하이퍼 파라미터 튜닝\n",
    "\n",
    "* Surprise는 교차 검증과 하이퍼 파라미터 튜닝을 위해 사이킷런과 유사한 cross_validate()와 GridSearchCV 클래스를 제공합니다."
   ]
  },
  {
   "cell_type": "markdown",
   "id": "66c14a5c",
   "metadata": {},
   "source": [
    "#### cross_validate()를 이용한 교차 검증"
   ]
  },
  {
   "cell_type": "code",
   "execution_count": 15,
   "id": "16e88c69",
   "metadata": {},
   "outputs": [
    {
     "name": "stdout",
     "output_type": "stream",
     "text": [
      "Evaluating RMSE, MAE of algorithm SVD on 5 split(s).\n",
      "\n",
      "                  Fold 1  Fold 2  Fold 3  Fold 4  Fold 5  Mean    Std     \n",
      "RMSE (testset)    0.8735  0.8736  0.8674  0.8747  0.8695  0.8717  0.0028  \n",
      "MAE (testset)     0.6717  0.6717  0.6664  0.6693  0.6701  0.6698  0.0020  \n",
      "Fit time          3.62    3.57    3.63    3.58    3.62    3.60    0.02    \n",
      "Test time         0.10    0.20    0.10    0.10    0.10    0.12    0.04    \n"
     ]
    },
    {
     "data": {
      "text/plain": [
       "{'test_rmse': array([0.87348137, 0.87357741, 0.8673856 , 0.87474475, 0.86953422]),\n",
       " 'test_mae': array([0.671706  , 0.6716879 , 0.66636703, 0.66929847, 0.67012902]),\n",
       " 'fit_time': (3.6178171634674072,\n",
       "  3.5739903450012207,\n",
       "  3.6338231563568115,\n",
       "  3.581803798675537,\n",
       "  3.616804838180542),\n",
       " 'test_time': (0.101043701171875,\n",
       "  0.19903898239135742,\n",
       "  0.10001730918884277,\n",
       "  0.10202312469482422,\n",
       "  0.09902310371398926)}"
      ]
     },
     "execution_count": 15,
     "metadata": {},
     "output_type": "execute_result"
    }
   ],
   "source": [
    "from surprise.model_selection import cross_validate \n",
    "\n",
    "# Pandas DataFrame에서 Surprise Dataset으로 데이터 로딩 \n",
    "ratings = pd.read_csv('./ml-latest-small/ratings.csv') # reading data in pandas df\n",
    "reader = Reader(rating_scale=(0.5, 5.0))\n",
    "data = Dataset.load_from_df(ratings[['userId', 'movieId', 'rating']], reader)\n",
    "\n",
    "algo = SVD(random_state=0) \n",
    "cross_validate(algo, data, measures=['RMSE', 'MAE'], cv=5, verbose=True) "
   ]
  },
  {
   "cell_type": "markdown",
   "id": "50ec17c0",
   "metadata": {},
   "source": [
    "#### GridSearchCV 이용"
   ]
  },
  {
   "cell_type": "code",
   "execution_count": 16,
   "id": "2e8d1d51",
   "metadata": {},
   "outputs": [
    {
     "name": "stdout",
     "output_type": "stream",
     "text": [
      "0.8771389654851132\n",
      "{'n_epochs': 20, 'n_factors': 50}\n"
     ]
    }
   ],
   "source": [
    "from surprise.model_selection import GridSearchCV\n",
    "\n",
    "# 최적화할 파라미터들을 딕셔너리 형태로 지정. \n",
    "param_grid = {'n_epochs': [20, 40, 60], 'n_factors': [50, 100, 200] }\n",
    "\n",
    "# CV를 3개 폴드 세트로 지정, 성능 평가는 rmse, mse 로 수행 하도록 GridSearchCV 구성\n",
    "gs = GridSearchCV(SVD, param_grid, measures=['rmse', 'mae'], cv=3) # 앞에서처럼 algo를 넣으면 안됨\n",
    "gs.fit(data)\n",
    "\n",
    "# 최고 RMSE Evaluation 점수와 그때의 하이퍼 파라미터\n",
    "print(gs.best_score['rmse'])\n",
    "print(gs.best_params['rmse'])"
   ]
  },
  {
   "cell_type": "markdown",
   "id": "3fbe3657",
   "metadata": {},
   "source": [
    "---"
   ]
  },
  {
   "cell_type": "markdown",
   "id": "9277c6db",
   "metadata": {},
   "source": [
    "### Surprise를 이용한 개인화 영화 추천 시스템 구축\n",
    "\n",
    "\n",
    "#### SVD 학습은 TrainSet 클래스를 이용해야 함"
   ]
  },
  {
   "cell_type": "code",
   "execution_count": 17,
   "id": "9ac3a1f4",
   "metadata": {},
   "outputs": [
    {
     "ename": "AttributeError",
     "evalue": "'DatasetAutoFolds' object has no attribute 'global_mean'",
     "output_type": "error",
     "traceback": [
      "\u001b[1;31m---------------------------------------------------------------------------\u001b[0m",
      "\u001b[1;31mAttributeError\u001b[0m                            Traceback (most recent call last)",
      "\u001b[1;32m~\\AppData\\Local\\Temp/ipykernel_17888/2429815818.py\u001b[0m in \u001b[0;36m<module>\u001b[1;34m\u001b[0m\n\u001b[0;32m      2\u001b[0m \u001b[0mdata\u001b[0m \u001b[1;33m=\u001b[0m \u001b[0mDataset\u001b[0m\u001b[1;33m.\u001b[0m\u001b[0mload_from_df\u001b[0m\u001b[1;33m(\u001b[0m\u001b[0mratings\u001b[0m\u001b[1;33m[\u001b[0m\u001b[1;33m[\u001b[0m\u001b[1;34m'userId'\u001b[0m\u001b[1;33m,\u001b[0m \u001b[1;34m'movieId'\u001b[0m\u001b[1;33m,\u001b[0m \u001b[1;34m'rating'\u001b[0m\u001b[1;33m]\u001b[0m\u001b[1;33m]\u001b[0m\u001b[1;33m,\u001b[0m \u001b[0mreader\u001b[0m\u001b[1;33m)\u001b[0m\u001b[1;33m\u001b[0m\u001b[1;33m\u001b[0m\u001b[0m\n\u001b[0;32m      3\u001b[0m \u001b[0malgo\u001b[0m \u001b[1;33m=\u001b[0m \u001b[0mSVD\u001b[0m\u001b[1;33m(\u001b[0m\u001b[0mn_factors\u001b[0m\u001b[1;33m=\u001b[0m\u001b[1;36m50\u001b[0m\u001b[1;33m,\u001b[0m \u001b[0mrandom_state\u001b[0m\u001b[1;33m=\u001b[0m\u001b[1;36m0\u001b[0m\u001b[1;33m)\u001b[0m\u001b[1;33m\u001b[0m\u001b[1;33m\u001b[0m\u001b[0m\n\u001b[1;32m----> 4\u001b[1;33m \u001b[0malgo\u001b[0m\u001b[1;33m.\u001b[0m\u001b[0mfit\u001b[0m\u001b[1;33m(\u001b[0m\u001b[0mdata\u001b[0m\u001b[1;33m)\u001b[0m\u001b[1;33m\u001b[0m\u001b[1;33m\u001b[0m\u001b[0m\n\u001b[0m",
      "\u001b[1;32m~\\anaconda3\\lib\\site-packages\\surprise\\prediction_algorithms\\matrix_factorization.pyx\u001b[0m in \u001b[0;36msurprise.prediction_algorithms.matrix_factorization.SVD.fit\u001b[1;34m()\u001b[0m\n",
      "\u001b[1;32m~\\anaconda3\\lib\\site-packages\\surprise\\prediction_algorithms\\matrix_factorization.pyx\u001b[0m in \u001b[0;36msurprise.prediction_algorithms.matrix_factorization.SVD.sgd\u001b[1;34m()\u001b[0m\n",
      "\u001b[1;31mAttributeError\u001b[0m: 'DatasetAutoFolds' object has no attribute 'global_mean'"
     ]
    }
   ],
   "source": [
    "# 아래 코드는 train_test_split( )으로 분리되지 않는 Dataset에 fit( )을 호출하여 \"오류를 발생\"합니다.\n",
    "data = Dataset.load_from_df(ratings[['userId', 'movieId', 'rating']], reader)\n",
    "algo = SVD(n_factors=50, random_state=0)\n",
    "algo.fit(data) # 이전까지는 trainset에 SVD를 fit() 했었음."
   ]
  },
  {
   "cell_type": "markdown",
   "id": "2f40ada9",
   "metadata": {},
   "source": [
    "#### DatasetAutoFolds를 이용한 전체 데이터를 TrainSet 클래스 변환"
   ]
  },
  {
   "cell_type": "code",
   "execution_count": 18,
   "id": "54f4575c",
   "metadata": {},
   "outputs": [],
   "source": [
    "from surprise.dataset import DatasetAutoFolds\n",
    "\n",
    "reader = Reader(line_format='user item rating timestamp', sep=',', rating_scale=(0.5, 5))\n",
    "# DatasetAutoFolds 클래스를 ratings_noh.csv 파일 기반으로 생성. \n",
    "data_folds = DatasetAutoFolds(ratings_file='./ml-latest-small/ratings_noh.csv', reader=reader)\n",
    "\n",
    "#전체 데이터를 학습데이터로 생성함. \n",
    "trainset = data_folds.build_full_trainset()"
   ]
  },
  {
   "cell_type": "markdown",
   "id": "400126fa",
   "metadata": {},
   "source": [
    "#### SVD로 학습"
   ]
  },
  {
   "cell_type": "code",
   "execution_count": 19,
   "id": "4570e9eb",
   "metadata": {},
   "outputs": [
    {
     "data": {
      "text/plain": [
       "<surprise.prediction_algorithms.matrix_factorization.SVD at 0x22cfed2a4f0>"
      ]
     },
     "execution_count": 19,
     "metadata": {},
     "output_type": "execute_result"
    }
   ],
   "source": [
    "algo = SVD(n_epochs=20, n_factors=50, random_state=0)\n",
    "algo.fit(trainset)"
   ]
  },
  {
   "cell_type": "code",
   "execution_count": 20,
   "id": "586ebd65",
   "metadata": {},
   "outputs": [
    {
     "name": "stdout",
     "output_type": "stream",
     "text": [
      "사용자 아이디 9는 영화 아이디 42의 평점 없음\n",
      "    movieId                   title              genres\n",
      "38       42  Dead Presidents (1995)  Action|Crime|Drama\n"
     ]
    }
   ],
   "source": [
    "# 영화에 대한 상세 속성 정보 DataFrame로딩\n",
    "movies = pd.read_csv('./ml-latest-small/movies.csv')\n",
    "\n",
    "# userId=9 의 movieId 데이터 추출하여 movieId=42 데이터가 있는지 확인. \n",
    "movieIds = ratings[ratings['userId']==9]['movieId']\n",
    "if movieIds[movieIds==42].count() == 0:\n",
    "    print('사용자 아이디 9는 영화 아이디 42의 평점 없음')\n",
    "\n",
    "print(movies[movies['movieId']==42])"
   ]
  },
  {
   "cell_type": "code",
   "execution_count": 21,
   "id": "28727e37",
   "metadata": {},
   "outputs": [
    {
     "name": "stdout",
     "output_type": "stream",
     "text": [
      "user: 9          item: 42         r_ui = None   est = 3.13   {'was_impossible': False}\n"
     ]
    }
   ],
   "source": [
    "uid = str(9)\n",
    "iid = str(42)\n",
    "\n",
    "pred = algo.predict(uid, iid, verbose=True)"
   ]
  },
  {
   "cell_type": "code",
   "execution_count": 22,
   "id": "5e32eba6",
   "metadata": {},
   "outputs": [
    {
     "name": "stdout",
     "output_type": "stream",
     "text": [
      "평점 매긴 영화수: 46 추천대상 영화수: 9696 전체 영화수: 9742\n"
     ]
    }
   ],
   "source": [
    "def get_unseen_surprise(ratings, movies, userId):\n",
    "    #입력값으로 들어온 userId에 해당하는 사용자가 평점을 매긴 모든 영화를 리스트로 생성\n",
    "    seen_movies = ratings[ratings['userId']== userId]['movieId'].tolist()\n",
    "    \n",
    "    # 모든 영화들의 movieId를 리스트로 생성. \n",
    "    total_movies = movies['movieId'].tolist()\n",
    "    \n",
    "    # 모든 영화들의 movieId중 이미 평점을 매긴 영화의 movieId를 제외하여 리스트로 생성\n",
    "    unseen_movies= [movie for movie in total_movies if movie not in seen_movies]\n",
    "    print('평점 매긴 영화수:',len(seen_movies), '추천대상 영화수:',len(unseen_movies), \\\n",
    "          '전체 영화수:',len(total_movies))\n",
    "    \n",
    "    return unseen_movies\n",
    "\n",
    "unseen_movies = get_unseen_surprise(ratings, movies, 9)"
   ]
  },
  {
   "cell_type": "code",
   "execution_count": 23,
   "id": "2fa293fd",
   "metadata": {},
   "outputs": [
    {
     "name": "stdout",
     "output_type": "stream",
     "text": [
      "평점 매긴 영화수: 46 추천대상 영화수: 9696 전체 영화수: 9742\n",
      "##### Top-10 추천 영화 리스트 #####\n",
      "Usual Suspects, The (1995) : 4.306302135700814\n",
      "Star Wars: Episode IV - A New Hope (1977) : 4.281663842987387\n",
      "Pulp Fiction (1994) : 4.278152632122759\n",
      "Silence of the Lambs, The (1991) : 4.226073566460876\n",
      "Godfather, The (1972) : 4.1918097904381995\n",
      "Streetcar Named Desire, A (1951) : 4.154746591122658\n",
      "Star Wars: Episode V - The Empire Strikes Back (1980) : 4.122016128534504\n",
      "Star Wars: Episode VI - Return of the Jedi (1983) : 4.108009609093436\n",
      "Goodfellas (1990) : 4.083464936588478\n",
      "Glory (1989) : 4.07887165526957\n"
     ]
    }
   ],
   "source": [
    "def recomm_movie_by_surprise(algo, userId, unseen_movies, top_n=10):\n",
    "    # 알고리즘 객체의 predict() 메서드를 평점이 없는 영화에 반복 수행한 후 결과를 list 객체로 저장\n",
    "    predictions = [algo.predict(str(userId), str(movieId)) for movieId in unseen_movies]\n",
    "    \n",
    "    # predictions list 객체는 surprise의 Predictions 객체를 원소로 가지고 있음.\n",
    "    # [Prediction(uid='9', iid='1', est=3.69), Prediction(uid='9', iid='2', est=2.98),,,,]\n",
    "    # 이를 est 값으로 정렬하기 위해서 아래의 sortkey_est 함수를 정의함.\n",
    "    # sortkey_est 함수는 list 객체의 sort() 함수의 키 값으로 사용되어 정렬 수행.\n",
    "    def sortkey_est(pred):\n",
    "        return pred.est\n",
    "    \n",
    "    # sortkey_est( ) 반환값의 내림 차순으로 정렬 수행하고 top_n개의 최상위 값 추출.\n",
    "    predictions.sort(key=sortkey_est, reverse=True)\n",
    "    top_predictions= predictions[:top_n]\n",
    "    \n",
    "    # top_n으로 추출된 영화의 정보 추출. 영화 아이디, 추천 예상 평점, 제목 추출\n",
    "    top_movie_ids = [ int(pred.iid) for pred in top_predictions]\n",
    "    top_movie_rating = [ pred.est for pred in top_predictions]\n",
    "    top_movie_titles = movies[movies.movieId.isin(top_movie_ids)]['title']\n",
    "    top_movie_preds = [ (id, title, rating) for id, title, rating in zip(top_movie_ids, top_movie_titles, top_movie_rating)]\n",
    "    \n",
    "    return top_movie_preds\n",
    "\n",
    "unseen_movies = get_unseen_surprise(ratings, movies, 9)\n",
    "top_movie_preds = recomm_movie_by_surprise(algo, 9, unseen_movies, top_n=10)\n",
    "print('##### Top-10 추천 영화 리스트 #####')\n",
    "\n",
    "for top_movie in top_movie_preds:\n",
    "    print(top_movie[1], \":\", top_movie[2])"
   ]
  },
  {
   "cell_type": "code",
   "execution_count": null,
   "id": "c1dd786d",
   "metadata": {},
   "outputs": [],
   "source": []
  }
 ],
 "metadata": {
  "kernelspec": {
   "display_name": "Python 3 (ipykernel)",
   "language": "python",
   "name": "python3"
  },
  "language_info": {
   "codemirror_mode": {
    "name": "ipython",
    "version": 3
   },
   "file_extension": ".py",
   "mimetype": "text/x-python",
   "name": "python",
   "nbconvert_exporter": "python",
   "pygments_lexer": "ipython3",
   "version": "3.9.7"
  }
 },
 "nbformat": 4,
 "nbformat_minor": 5
}
