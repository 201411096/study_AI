{
 "cells": [
  {
   "cell_type": "markdown",
   "id": "9797f4ed",
   "metadata": {},
   "source": [
    "### 차원의 저주\n",
    "* 차원이 커질수록\n",
    "    * 데이터 포인트들간 거리가 크게 늘어남\n",
    "    * 데이터가 희소화(Sparse) 됨\n",
    "* 수백~수천개 이상의 피처로 구성된 포인트들간 거리에 기반한 ML 알고리즘이 무력화됨.\n",
    "* 또한 피처가 많을 경우 개별 피처간에 상관관계가 높아 선형 회귀와 같은 모델에서는 다중 공선성 문제로 모델의 예측 성능이 저하될 가능성이 높음"
   ]
  },
  {
   "cell_type": "markdown",
   "id": "2dd1e344",
   "metadata": {},
   "source": [
    "### 차원 축소의 장점\n",
    "* 수십~수백개의 피처들을 작은 수의 피처들로 축소한다면?\n",
    "    * 학습 데이터 크기를 줄여서 학습 시간 절약\n",
    "    * 불필요한 피처들을 줄여서 모델 성능 향상에 기여(주로 이지미 관련 데이터)\n",
    "    * 다차원의 데이터를 3차원 이하의 차원 축소를 통해서 시각적으로 보다 쉽게 데이터 패턴 인지"
   ]
  },
  {
   "cell_type": "markdown",
   "id": "cb33bb98",
   "metadata": {},
   "source": [
    "### 피처 선택과 피처 추출\n",
    "* **일반적으로 차원 축소는 피처 선택(feature selection)과 피처 추출(feature extraction)으로 나눌 수 있습니다.**\n",
    "\n",
    "* 피처 선택(feature selection)\n",
    "    * 특정 피처에 종속성이 강한 불필요한 피처는 아예 제거하고, 데이터의 특징을 잘 나타내는 주요 피처만 선택하는 것입니다.\n",
    "* 피처 추출(feature extraction)\n",
    "    * 피처(특성) 추출은 기존 피처를 저차원의 중요 피처로 압축해서 추출하는 것입니다. 이렇게 새롭게 추출된 중요 특성은 기존의 피처를 반영해 압축된 것이지만 새로운 피처로 추출하는 것입니다."
   ]
  },
  {
   "cell_type": "markdown",
   "id": "c0b58b88",
   "metadata": {},
   "source": [
    "### 피처 추출(Feature Extraction)\n",
    "* 피처 추출은 기존 피처를 단순 압축이 아닌, 피처를 함축적으로 더 잘 설명할 수 있는 또 다른 공간으로 매핑해 추출하는 것입니다."
   ]
  },
  {
   "cell_type": "markdown",
   "id": "09c9e61e",
   "metadata": {},
   "source": [
    "### 차원 축소의 의미\n",
    "\n",
    "* 차원 축소는 단순히 데이터의 압축을 의미하는 것이 아닙니다. 더 중요한 의미는 차원 축소를 통해 좀 더 데이터를 잘 설명할 수 있는 잠재적(Latent)인 요소를 추출하는 데에 있습니다.\n",
    "<br>\n",
    "\n",
    "* 추천 엔진\n",
    "* 이미지 분류 및 변환\n",
    "* 문서 토픽 모델링"
   ]
  },
  {
   "cell_type": "code",
   "execution_count": null,
   "id": "713a5993",
   "metadata": {},
   "outputs": [],
   "source": []
  }
 ],
 "metadata": {
  "kernelspec": {
   "display_name": "Python 3 (ipykernel)",
   "language": "python",
   "name": "python3"
  },
  "language_info": {
   "codemirror_mode": {
    "name": "ipython",
    "version": 3
   },
   "file_extension": ".py",
   "mimetype": "text/x-python",
   "name": "python",
   "nbconvert_exporter": "python",
   "pygments_lexer": "ipython3",
   "version": "3.9.7"
  }
 },
 "nbformat": 4,
 "nbformat_minor": 5
}
