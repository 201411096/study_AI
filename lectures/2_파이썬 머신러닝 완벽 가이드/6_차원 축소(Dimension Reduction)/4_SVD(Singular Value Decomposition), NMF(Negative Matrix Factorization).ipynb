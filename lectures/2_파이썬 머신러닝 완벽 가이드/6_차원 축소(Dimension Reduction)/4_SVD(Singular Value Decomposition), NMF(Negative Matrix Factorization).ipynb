{
 "cells": [
  {
   "cell_type": "markdown",
   "id": "d562c411",
   "metadata": {},
   "source": [
    "### 특이값 분해 - SVD(Singular Value Decomposition)\n",
    "\n",
    "* 대표적인 행렬 분해 방법\n",
    "    * 고유값 분해(Eigen-Decomposition)\n",
    "        * $ C = P \\sum{}{} P^T $\n",
    "        * $ C = \n",
    "     \\begin{pmatrix}\n",
    "      e_1 & \\cdots & e_n \\\\\n",
    "     \\end{pmatrix}\n",
    "     \\begin{pmatrix}\n",
    "      \\lambda_1 & \\cdots & 0 \\\\\n",
    "      \\vdots  & \\ddots & \\vdots  \\\\\n",
    "      0 & \\cdots & \\lambda_n\n",
    "     \\end{pmatrix}\n",
    "     \\begin{pmatrix}\n",
    "      e_1^t \\\\\n",
    "      \\vdots \\\\\n",
    "      e_n^t \\\\\n",
    "     \\end{pmatrix}\n",
    "    $\n",
    "        * 정방행렬(즉, 행과 열의 크기가 같은 행렬)만을 고유벡터로 분해\n",
    "        * PCA는 분해된 고유 벡터에 원본 데이터를 투영하여 차원 축소<br><br>\n",
    "\n",
    "    * 특이값 분해(Singular Value Decomposition)\n",
    "        * $ A = U \\sum{}{} V^T $\n",
    "            1. U : 왼쪽 직교행렬\n",
    "            2. $\\sum{}{}$ : 대각 행렬\n",
    "                * $\\sum{}{}$는 대각행렬이며, 행렬의 대각에 위치한 값만 0이 아니고 나머지 위치의 값은 모두 0입니다.\n",
    "                * $\\sum{}{}$이 위치한 0이 아닌 값이 바로 행렬 A의 특이값입니다.\n",
    "            3. $V^T$ : 오른쪽 직교행렬\n",
    "        * 행렬 U와 V에 속한 벡터는 특이벡터(singular vector)이며, 모든 특이벡터는 서로 직교하는 성질을 가집니다.\n",
    "            * $ U^TU = I $\n",
    "            * $ V^TV = I $\n",
    "        * SVD는 정방행렬뿐만 아니라 행과 열의 크기가 다른 m * n 행렬도 분해 가능"
   ]
  },
  {
   "cell_type": "markdown",
   "id": "cc17508d",
   "metadata": {},
   "source": [
    "### SVD 유형\n",
    "\n",
    "* Full SVD\n",
    "    * $A(m * n) = U(m * m) * \\sum{}{} (m*n) * V'(n*n) $\n",
    "* Compact SVD : 비대각 부분과 대각 원소가 0인 부분을 제거\n",
    "    * $A(m * n) = U(m * p) * \\sum{}{} (p*p) * V'(p*n)$\n",
    "* **Truncated SVD** : 대각 원소 가운데 **상위 r개만** 추출하여 차원 축소\n",
    "    * $A(m * n) = (m * r) * (r * r) * (r * n)$"
   ]
  },
  {
   "cell_type": "markdown",
   "id": "ee1f2ce4",
   "metadata": {},
   "source": [
    "### Truncated SVD 행렬 분해 의미\n",
    "\n",
    "* $A(m * n) -> (m * r) * (r * r) * (r * n) = A'$ \n",
    "    * m * r = m과 Latent Factor의 관계 정도\n",
    "    * r * r = Latent Factor의 크기\n",
    "    * r * n = n의 Latent Factor 구성\n",
    "    * A' = 잡음이 제거된 형태로 재구성\n",
    "* SVD는 차원 축소를 위한 행렬 분해를 통해 Latent Factor(잠재요인)을 찾을 수 있는데, 이렇게 찾아진 Latent Factor는 많은 분야에 활용\n",
    "    * 추전 엔진, 문재의 잠재 의미 분석 등\n",
    "* SVD로 차원 축소 행렬 분해된 후, 다시 분해된 행렬을 이용하여 원복된 데이터 셋은 잡음(Noise)이 제거된 형태로 재구성될 수 있음\n",
    "* 사이킷런에서는 Truncated SVD로 차원을 축소할 때, 원본 데이터에 $U \\sum{}{}. $를 적용하여 차원 축소"
   ]
  },
  {
   "cell_type": "markdown",
   "id": "d7477085",
   "metadata": {},
   "source": [
    "### SVD 활용\n",
    "* 이미지 압축/변환\n",
    "* 추천 엔진\n",
    "* 문서 잠재 의미 분석\n",
    "* 의사 역행렬을 통한 모델 예측\n",
    "    * 의사(pseudo)"
   ]
  },
  {
   "cell_type": "code",
   "execution_count": null,
   "id": "396c8153",
   "metadata": {},
   "outputs": [],
   "source": []
  }
 ],
 "metadata": {
  "kernelspec": {
   "display_name": "Python 3 (ipykernel)",
   "language": "python",
   "name": "python3"
  },
  "language_info": {
   "codemirror_mode": {
    "name": "ipython",
    "version": 3
   },
   "file_extension": ".py",
   "mimetype": "text/x-python",
   "name": "python",
   "nbconvert_exporter": "python",
   "pygments_lexer": "ipython3",
   "version": "3.9.7"
  }
 },
 "nbformat": 4,
 "nbformat_minor": 5
}
