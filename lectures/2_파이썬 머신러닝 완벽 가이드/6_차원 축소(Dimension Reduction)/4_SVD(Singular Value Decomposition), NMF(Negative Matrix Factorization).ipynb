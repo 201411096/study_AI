{
 "cells": [
  {
   "cell_type": "markdown",
   "id": "d562c411",
   "metadata": {},
   "source": [
    "## SVD(Singular Value Decomposition) - 특이값 분해\n",
    "\n",
    "* 대표적인 행렬 분해 방법\n",
    "    * 고유값 분해(Eigen-Decomposition)\n",
    "        * $ C = P \\sum{}{} P^T $\n",
    "        * $ C = \n",
    "     \\begin{pmatrix}\n",
    "      e_1 & \\cdots & e_n \\\\\n",
    "     \\end{pmatrix}\n",
    "     \\begin{pmatrix}\n",
    "      \\lambda_1 & \\cdots & 0 \\\\\n",
    "      \\vdots  & \\ddots & \\vdots  \\\\\n",
    "      0 & \\cdots & \\lambda_n\n",
    "     \\end{pmatrix}\n",
    "     \\begin{pmatrix}\n",
    "      e_1^t \\\\\n",
    "      \\vdots \\\\\n",
    "      e_n^t \\\\\n",
    "     \\end{pmatrix}\n",
    "    $\n",
    "        * 정방행렬(즉, 행과 열의 크기가 같은 행렬)만을 고유벡터로 분해\n",
    "        * PCA는 분해된 고유 벡터에 원본 데이터를 투영하여 차원 축소<br><br>\n",
    "\n",
    "    * 특이값 분해(Singular Value Decomposition)\n",
    "        * $ A = U \\sum{}{} V^T $\n",
    "            1. U : 왼쪽 직교행렬\n",
    "            2. $\\sum{}{}$ : 대각 행렬\n",
    "                * $\\sum{}{}$는 대각행렬이며, 행렬의 대각에 위치한 값만 0이 아니고 나머지 위치의 값은 모두 0입니다.\n",
    "                * $\\sum{}{}$이 위치한 0이 아닌 값이 바로 행렬 A의 특이값입니다.\n",
    "            3. $V^T$ : 오른쪽 직교행렬\n",
    "        * 행렬 U와 V에 속한 벡터는 특이벡터(singular vector)이며, 모든 특이벡터는 서로 직교하는 성질을 가집니다.\n",
    "            * $ U^TU = I $\n",
    "            * $ V^TV = I $\n",
    "        * SVD는 정방행렬뿐만 아니라 행과 열의 크기가 다른 m * n 행렬도 분해 가능"
   ]
  },
  {
   "cell_type": "markdown",
   "id": "0bb56abc",
   "metadata": {},
   "source": [
    "### SVD 유형\n",
    "\n",
    "* Full SVD\n",
    "    * $A(m * n) = U(m * m) * \\sum{}{} (m*n) * V'(n*n) $\n",
    "* Compact SVD : 비대각 부분과 대각 원소가 0인 부분을 제거\n",
    "    * $A(m * n) = U(m * p) * \\sum{}{} (p*p) * V'(p*n)$\n",
    "* **Truncated SVD** : 대각 원소 가운데 **상위 r개만** 추출하여 차원 축소\n",
    "    * $A(m * n) = (m * r) * (r * r) * (r * n)$"
   ]
  },
  {
   "cell_type": "markdown",
   "id": "94e9df42",
   "metadata": {},
   "source": [
    "### Truncated SVD 행렬 분해 의미\n",
    "\n",
    "* $A(m * n) -> (m * r) * (r * r) * (r * n) = A'$ \n",
    "    * m * r = m과 Latent Factor의 관계 정도\n",
    "    * r * r = Latent Factor의 크기\n",
    "    * r * n = n의 Latent Factor 구성\n",
    "    * A' = 잡음이 제거된 형태로 재구성\n",
    "* SVD는 차원 축소를 위한 행렬 분해를 통해 Latent Factor(잠재요인)을 찾을 수 있는데, 이렇게 찾아진 Latent Factor는 많은 분야에 활용\n",
    "    * 추전 엔진, 문재의 잠재 의미 분석 등\n",
    "* SVD로 차원 축소 행렬 분해된 후, 다시 분해된 행렬을 이용하여 원복된 데이터 셋은 잡음(Noise)이 제거된 형태로 재구성될 수 있음\n",
    "* 사이킷런에서는 Truncated SVD로 차원을 축소할 때, 원본 데이터에 $U \\sum{}{}. $를 적용하여 차원 축소"
   ]
  },
  {
   "cell_type": "markdown",
   "id": "01720e73",
   "metadata": {},
   "source": [
    "### SVD 활용\n",
    "* 이미지 압축/변환\n",
    "* 추천 엔진\n",
    "* 문서 잠재 의미 분석\n",
    "* 의사 역행렬을 통한 모델 예측\n",
    "    * 의사(pseudo)"
   ]
  },
  {
   "cell_type": "markdown",
   "id": "bb51415e",
   "metadata": {},
   "source": [
    "---"
   ]
  },
  {
   "cell_type": "code",
   "execution_count": 5,
   "id": "14034744",
   "metadata": {},
   "outputs": [
    {
     "name": "stdout",
     "output_type": "stream",
     "text": [
      "[[-0.212 -0.285 -0.574 -0.44 ]\n",
      " [-0.33   1.184  1.615  0.367]\n",
      " [-0.014  0.63   1.71  -1.327]\n",
      " [ 0.402 -0.191  1.404 -1.969]]\n"
     ]
    }
   ],
   "source": [
    "# numpy의 svd 모듈 import\n",
    "import numpy as np\n",
    "from numpy.linalg import svd\n",
    "# numpy.linalg -> linear algebra\n",
    "\n",
    "# 4*4 Random 행렬 a 생성\n",
    "np.random.seed(121)\n",
    "\n",
    "\"\"\"\n",
    "np.random.randint : 균일 분포의 정수 난수 1개 생성\n",
    "np.random.rand : 0부터 1사이의 균일 분포에서 난수 martix.array 생성\n",
    "np.random.randn : 가우시안 정규 분포에서 난수 martix.array 생성\n",
    "\"\"\"\n",
    "\n",
    "a = np.random.randn(4,4)\n",
    "print(np.round(a, 3))"
   ]
  },
  {
   "cell_type": "markdown",
   "id": "2f67c66a",
   "metadata": {},
   "source": [
    "### SVD 행렬 분해"
   ]
  },
  {
   "cell_type": "code",
   "execution_count": 6,
   "id": "9586054f",
   "metadata": {},
   "outputs": [
    {
     "name": "stdout",
     "output_type": "stream",
     "text": [
      "U matrix :\n",
      " [[-0.079 -0.318  0.867  0.376]\n",
      " [ 0.383  0.787  0.12   0.469]\n",
      " [ 0.656  0.022  0.357 -0.664]\n",
      " [ 0.645 -0.529 -0.328  0.444]]\n",
      "Sigma Value :\n",
      " [3.423 2.023 0.463 0.079]\n",
      "V transpose matrix :\n",
      " [[ 0.041  0.224  0.786 -0.574]\n",
      " [-0.2    0.562  0.37   0.712]\n",
      " [-0.778  0.395 -0.333 -0.357]\n",
      " [-0.593 -0.692  0.366  0.189]]\n"
     ]
    }
   ],
   "source": [
    "U, Sigma, Vt = svd(a) # Full SVD 반환 ..\n",
    "\n",
    "print('U matrix :\\n', np.round(U, 3))\n",
    "print('Sigma Value :\\n', np.round(Sigma, 3)) # 대각행렬인데, 사이값만 출력이 되서 나옴\n",
    "print('V transpose matrix :\\n', np.round(Vt, 3))"
   ]
  },
  {
   "cell_type": "markdown",
   "id": "66c47c7c",
   "metadata": {},
   "source": [
    "### 분해된 행렬들을 이용하여 다시 원행렬로 원복"
   ]
  },
  {
   "cell_type": "code",
   "execution_count": 7,
   "id": "bcf17255",
   "metadata": {},
   "outputs": [
    {
     "name": "stdout",
     "output_type": "stream",
     "text": [
      "[[-0.212 -0.285 -0.574 -0.44 ]\n",
      " [-0.33   1.184  1.615  0.367]\n",
      " [-0.014  0.63   1.71  -1.327]\n",
      " [ 0.402 -0.191  1.404 -1.969]]\n"
     ]
    }
   ],
   "source": [
    "# Sigma를 다시 0을 포함한 대칭행렬로 변환\n",
    "Sigma_mat = np.diag(Sigma) # np.diag : 대각행렬 생성(대각선의 사잇값들만 모여있는 1차원 배열을 2차원 대각행렬로 만들어줌)\n",
    "a_ = np.dot(np.dot(U, Sigma_mat), Vt)\n",
    "print(np.round(a_, 3))"
   ]
  },
  {
   "cell_type": "markdown",
   "id": "260837df",
   "metadata": {},
   "source": [
    "### 데이터 의존도가 높은 원본 데이터 행렬 생성"
   ]
  },
  {
   "cell_type": "code",
   "execution_count": 8,
   "id": "ee74189a",
   "metadata": {},
   "outputs": [
    {
     "name": "stdout",
     "output_type": "stream",
     "text": [
      "[[-0.212 -0.285 -0.574 -0.44 ]\n",
      " [-0.33   1.184  1.615  0.367]\n",
      " [-0.542  0.899  1.041 -0.073]\n",
      " [-0.212 -0.285 -0.574 -0.44 ]]\n"
     ]
    }
   ],
   "source": [
    "# Compact SVD\n",
    "\n",
    "a[2] = a[0] + a[1]\n",
    "a[3] = a[0]\n",
    "\n",
    "print(np.round(a, 3))"
   ]
  },
  {
   "cell_type": "code",
   "execution_count": 9,
   "id": "a2628b77",
   "metadata": {},
   "outputs": [
    {
     "name": "stdout",
     "output_type": "stream",
     "text": [
      "(4, 4) (4,) (4, 4)\n",
      "Sigma Value : \n",
      " [2.663 0.807 0.    0.   ]\n"
     ]
    }
   ],
   "source": [
    "# 다시 SVD를 수행하여 Sigma 값 확인\n",
    "U, Sigma, Vt = svd(a)\n",
    "\n",
    "print(U.shape, Sigma.shape, Vt.shape)\n",
    "print('Sigma Value : \\n', np.round(Sigma, 3))\n",
    "\n",
    "# Sigma 값이 0이됨 (2행, 3행) -> 데이터 의존도가 높은 부분이 제외됨"
   ]
  },
  {
   "cell_type": "code",
   "execution_count": 10,
   "id": "b337ce2b",
   "metadata": {},
   "outputs": [
    {
     "name": "stdout",
     "output_type": "stream",
     "text": [
      "(4, 2) (2, 2) (2, 4)\n",
      "[[-0.212 -0.285 -0.574 -0.44 ]\n",
      " [-0.33   1.184  1.615  0.367]\n",
      " [-0.542  0.899  1.041 -0.073]\n",
      " [-0.212 -0.285 -0.574 -0.44 ]]\n"
     ]
    }
   ],
   "source": [
    "# 2열, 2행만 추출해오는 이유 -> Sigma 행렬이 4*4 대각행렬에서 2*2 대각행렬로 줄어들음\n",
    "\n",
    "# U 행렬의 경우는 Sigma와 내적을 수행하므로 Sigma의 앞 2행에 대응되는 앞 2열만 추출\n",
    "U_ = U[:, :2]\n",
    "Sigma_ = np.diag(Sigma[:2])\n",
    "\n",
    "# V 전치 행렬(V의 transpose행렬)의 경우는 앞 2행만 추출\n",
    "Vt_ = Vt[:2]\n",
    "\n",
    "print(U_.shape, Sigma_.shape, Vt_.shape)\n",
    "# U, Sigma, Vt의 내적을 수행하며, 다시 원본 행렬 복원\n",
    "a_ = np.dot(np.dot(U_, Sigma_), Vt_)\n",
    "\n",
    "print(np.round(a_, 3))"
   ]
  },
  {
   "cell_type": "markdown",
   "id": "bdde1a50",
   "metadata": {},
   "source": [
    "#### Truncated SVD를 이용한 행렬 분해"
   ]
  },
  {
   "cell_type": "code",
   "execution_count": 13,
   "id": "a93cbabc",
   "metadata": {},
   "outputs": [
    {
     "name": "stdout",
     "output_type": "stream",
     "text": [
      "원본 행렬 :\n",
      " [[0.11133083 0.21076757 0.23296249 0.15194456 0.83017814 0.40791941]\n",
      " [0.5557906  0.74552394 0.24849976 0.9686594  0.95268418 0.48984885]\n",
      " [0.01829731 0.85760612 0.40493829 0.62247394 0.29537149 0.92958852]\n",
      " [0.4056155  0.56730065 0.24575605 0.22573721 0.03827786 0.58098021]\n",
      " [0.82925331 0.77326256 0.94693849 0.73632338 0.67328275 0.74517176]\n",
      " [0.51161442 0.46920965 0.6439515  0.82081228 0.14548493 0.01806415]]\n",
      "\n",
      " 분해 행렬 차원 :\n",
      " (6, 6) (6,) (6, 6)\n",
      "\n",
      " Sigma값 행렬 :\n",
      " [3.2535007  0.88116505 0.83865238 0.55463089 0.35834824 0.0349925 ]\n",
      "\n",
      "Truncated SVD 분해 행렬 차원 : (6, 4) (4,) (4, 6)\n",
      "\n",
      "Truncated SVD Sigma값 행렬 : [0.55463089 0.83865238 0.88116505 3.2535007 ]\n",
      "\n",
      "Truncated SVD로 분해 후 복원 행렬 :\n",
      " [[0.19222941 0.21792946 0.15951023 0.14084013 0.81641405 0.42533093]\n",
      " [0.44874275 0.72204422 0.34594106 0.99148577 0.96866325 0.4754868 ]\n",
      " [0.12656662 0.88860729 0.30625735 0.59517439 0.28036734 0.93961948]\n",
      " [0.23989012 0.51026588 0.39697353 0.27308905 0.05971563 0.57156395]\n",
      " [0.83806144 0.78847467 0.93868685 0.72673231 0.6740867  0.73812389]\n",
      " [0.59726589 0.47953891 0.56613544 0.80746028 0.13135039 0.03479656]]\n"
     ]
    }
   ],
   "source": [
    "import numpy as np\n",
    "from scipy.sparse.linalg import svds\n",
    "from scipy.linalg import svd\n",
    "\n",
    "# Sicpy의 Truncated SVD는 희소행렬에만 지원을 해줌\n",
    "\n",
    "# 원본 행렬을 출력하고, SVD를 적용할 경우 U, Sigma, Vt의 차원 확인\n",
    "np.random.seed(121)\n",
    "matrix = np.random.random((6, 6))\n",
    "print('원본 행렬 :\\n', matrix)\n",
    "\n",
    "U, Sigma, Vt = svd(matrix, full_matrices=False)\n",
    "print('\\n 분해 행렬 차원 :\\n', U.shape, Sigma.shape, Vt.shape)\n",
    "print('\\n Sigma값 행렬 :\\n', Sigma)\n",
    "\n",
    "# Truncated SVD로 Sigma 행렬의 특이값을 4개로 하여 Truncated SVD 수행.\n",
    "# 대각행렬의 대각값 중 상위 4개의 r값에 대해서만 차원 추출.\n",
    "num_components = 4\n",
    "U_tr, Sigma_tr, Vt_tr = svds(matrix, k=num_components)\n",
    "print('\\nTruncated SVD 분해 행렬 차원 :', U_tr.shape, Sigma_tr.shape, Vt_tr.shape) # (6 * 4) (4 * 4) (4 * 6)\n",
    "print('\\nTruncated SVD Sigma값 행렬 :', Sigma_tr)\n",
    "matrix_tr = np.dot(np.dot(U_tr, np.diag(Sigma_tr)), Vt_tr) # output of TruncatedSVD\n",
    "\n",
    "print('\\nTruncated SVD로 분해 후 복원 행렬 :\\n', matrix_tr) # 행렬이 정확히 복원되지는 않음"
   ]
  },
  {
   "cell_type": "markdown",
   "id": "4d1c0b51",
   "metadata": {},
   "source": [
    "### 사이킷런 TruncatedSVD 클래스를 이용한 변환"
   ]
  },
  {
   "cell_type": "code",
   "execution_count": 14,
   "id": "bb02ae8b",
   "metadata": {},
   "outputs": [
    {
     "data": {
      "text/plain": [
       "Text(0, 0.5, 'TruncatedSVD Component 2')"
      ]
     },
     "execution_count": 14,
     "metadata": {},
     "output_type": "execute_result"
    },
    {
     "data": {
      "image/png": "[encoded data removed]",
      "text/plain": [
       "<Figure size 432x288 with 1 Axes>"
      ]
     },
     "metadata": {
      "needs_background": "light"
     },
     "output_type": "display_data"
    }
   ],
   "source": [
    "from sklearn.decomposition import TruncatedSVD, PCA\n",
    "from sklearn.datasets import load_iris\n",
    "import matplotlib.pyplot as plt\n",
    "%matplotlib inline\n",
    "\n",
    "iris = load_iris()\n",
    "iris_ftrs = iris.data\n",
    "\n",
    "# 2개의 주요 component로 TruncatedSVD 변환\n",
    "tsvd = TruncatedSVD(n_components=2)\n",
    "tsvd.fit(iris_ftrs)\n",
    "iris_tsvd = tsvd.transform(iris_ftrs)\n",
    "\n",
    "# Scatter plot 2차원으로 TruncatedSVD 변환된 데이터 표현, 품종은 색깔로 구분\n",
    "plt.scatter(x=iris_tsvd[:, 0], y=iris_tsvd[:, 1], c=iris.target)\n",
    "plt.xlabel('TruncatedSVD Component 1')\n",
    "plt.ylabel('TruncatedSVD Component 2')"
   ]
  },
  {
   "cell_type": "code",
   "execution_count": 16,
   "id": "8a3642f0",
   "metadata": {},
   "outputs": [
    {
     "data": {
      "text/plain": [
       "Text(0.5, 1.0, 'PCA Transformed')"
      ]
     },
     "execution_count": 16,
     "metadata": {},
     "output_type": "execute_result"
    },
    {
     "data": {
      "image/png": "[encoded data removed]",
      "text/plain": [
       "<Figure size 648x288 with 2 Axes>"
      ]
     },
     "metadata": {
      "needs_background": "light"
     },
     "output_type": "display_data"
    }
   ],
   "source": [
    "from sklearn.preprocessing import StandardScaler\n",
    "\n",
    "# iris 데이터를 StandardScaler로 변환\n",
    "scaler = StandardScaler()\n",
    "iris_scaled = scaler.fit_transform(iris_ftrs)\n",
    "\n",
    "# 스케일링된 데이터를 기반으로 TruncatedSVD 변환 수행\n",
    "tsvd = TruncatedSVD(n_components=2)\n",
    "tsvd.fit(iris_scaled)\n",
    "iris_tsvd = tsvd.transform(iris_scaled)\n",
    "\n",
    "# 스케일링된 데이터를 기반으로 PCA 변환 수행\n",
    "pca = PCA(n_components=2)\n",
    "pca.fit(iris_scaled)\n",
    "iris_pca = pca.transform(iris_scaled)\n",
    "\n",
    "# TruncatedSVD 변환 데이터를 왼쪽에, PCA변환 데이터를 오른쪽에 표현\n",
    "fig, (ax1, ax2) = plt.subplots(figsize=(9,4), ncols=2)\n",
    "ax1.scatter(x=iris_tsvd[:, 0], y=iris_tsvd[:, 1], c=iris.target)\n",
    "ax2.scatter(x=iris_pca[:, 0], y=iris_pca[:, 1], c=iris.target)\n",
    "ax1.set_title('Truncated SVD Transform')\n",
    "ax2.set_title('PCA Transformed')"
   ]
  },
  {
   "cell_type": "markdown",
   "id": "ee64d0a6",
   "metadata": {},
   "source": [
    "---"
   ]
  },
  {
   "cell_type": "markdown",
   "id": "a02b85c6",
   "metadata": {},
   "source": [
    "## NMF(Non Negative Matrix Factorization)\n",
    "\n",
    "* NMP는 원본 행렬 내의 모든 원소 값이 모두 양수(0이상)라는 게 보장되면, 다음과 같이 좀 더 간단하게 두 개의 기반 양수 행렬로 분해될 수 있는 기법을 지칭합니다.\n",
    "    * $V(4 * 6) = W(4 * 2) * H(2 * 6)$"
   ]
  },
  {
   "cell_type": "markdown",
   "id": "47666882",
   "metadata": {},
   "source": [
    "### 행렬 분해(Matrix Factorization)\n",
    "\n",
    "* 행렬 분해(Matrix Factorization)은 일반적으로 SVD와 같은 행렬 분해 기법을 통칭하는 것입니다.\n",
    "* 행렬 분해를 하게 되면 W행렬과 H행렬은 일반적으로 길고 가는 행렬 W(즉, 원본 행렬의 행 크기와 같고 열 크기보다 작은 행렬)와 작고 넓은 행렬(원본 행렬의 행 크기보다 작고 열 크기와 같은 행렬)로 분해됩니다. 이렇게 분해된 행렬은 Latent Factor(잠재 요소)를 특성으로 가지게 됩니다. 분해 행렬 W는 원본 행에 대해서 이 잠재 요소의 값이 얼마나 되는지에 대응하며, 분해 행렬 H는 이 잠재 요소가 원본 열(즉, 원본 속성)로 어떻게 구성됐는지를 나타내는 행렬입니다.\n",
    "    * $V(4 * 6) = W(4 * 2) * H(2 * 6)$\n",
    "        * 여기서 2(가운데 숫자 값)가 Latent Factor ..."
   ]
  },
  {
   "cell_type": "code",
   "execution_count": 17,
   "id": "8be55183",
   "metadata": {},
   "outputs": [
    {
     "name": "stderr",
     "output_type": "stream",
     "text": [
      "C:\\Users\\user\\anaconda3\\lib\\site-packages\\sklearn\\decomposition\\_nmf.py:312: FutureWarning: The 'init' value, when 'init=None' and n_components is less than n_samples and n_features, will be changed from 'nndsvd' to 'nndsvda' in 1.1 (renaming of 0.26).\n",
      "  warnings.warn((\"The 'init' value, when 'init=None' and \"\n",
      "C:\\Users\\user\\anaconda3\\lib\\site-packages\\sklearn\\decomposition\\_nmf.py:1090: ConvergenceWarning: Maximum number of iterations 200 reached. Increase it to improve convergence.\n",
      "  warnings.warn(\"Maximum number of iterations %d reached. Increase it to\"\n"
     ]
    },
    {
     "data": {
      "text/plain": [
       "Text(0, 0.5, 'NMF Component 2')"
      ]
     },
     "execution_count": 17,
     "metadata": {},
     "output_type": "execute_result"
    },
    {
     "data": {
      "image/png": "[encoded data removed]",
      "text/plain": [
       "<Figure size 432x288 with 1 Axes>"
      ]
     },
     "metadata": {
      "needs_background": "light"
     },
     "output_type": "display_data"
    }
   ],
   "source": [
    "from sklearn.decomposition import NMF\n",
    "from sklearn.datasets import load_iris\n",
    "import matplotlib.pyplot as plt\n",
    "%matplotlib inline\n",
    "\n",
    "iris = load_iris()\n",
    "iris_ftrs = iris.data\n",
    "nmf = NMF(n_components=2)\n",
    "\n",
    "nmf.fit(iris_ftrs)\n",
    "iris_nmf = nmf.transform(iris_ftrs)\n",
    "\n",
    "plt.scatter(x=iris_nmf[:, 0], y=iris_nmf[:, 1], c=iris.target)\n",
    "plt.xlabel('NMF Component 1')\n",
    "plt.ylabel('NMF Component 2')"
   ]
  },
  {
   "cell_type": "code",
   "execution_count": null,
   "id": "fc262ab6",
   "metadata": {},
   "outputs": [],
   "source": []
  }
 ],
 "metadata": {
  "kernelspec": {
   "display_name": "Python 3 (ipykernel)",
   "language": "python",
   "name": "python3"
  },
  "language_info": {
   "codemirror_mode": {
    "name": "ipython",
    "version": 3
   },
   "file_extension": ".py",
   "mimetype": "text/x-python",
   "name": "python",
   "nbconvert_exporter": "python",
   "pygments_lexer": "ipython3",
   "version": "3.9.7"
  }
 },
 "nbformat": 4,
 "nbformat_minor": 5
}
