{
 "cells": [
  {
   "cell_type": "markdown",
   "id": "a21c8f6b",
   "metadata": {},
   "source": [
    "### 실제값을 Y=4X+6 시뮬레이션하는 데이터 값 생성"
   ]
  },
  {
   "cell_type": "code",
   "execution_count": 1,
   "id": "b366aa2f",
   "metadata": {},
   "outputs": [
    {
     "data": {
      "text/plain": [
       "<matplotlib.collections.PathCollection at 0x191df1fc460>"
      ]
     },
     "execution_count": 1,
     "metadata": {},
     "output_type": "execute_result"
    },
    {
     "data": {
      "image/png": "[encoded data removed]",
      "text/plain": [
       "<Figure size 432x288 with 1 Axes>"
      ]
     },
     "metadata": {
      "needs_background": "light"
     },
     "output_type": "display_data"
    }
   ],
   "source": [
    "import numpy as np\n",
    "import matplotlib.pyplot as plt\n",
    "%matplotlib inline\n",
    "\n",
    "np.random.seed(0)\n",
    "# y = 4x + 6 식을 근사(w1=4, w0=6), random값은 Noise를 위해 만듬\n",
    "X = 2 * np.random.rand(100, 1)\n",
    "y = 6 + 4 *X + np.random.rand(100, 1)\n",
    "\n",
    "# X, y 데이터 셋 scatter plot으로 시각화\n",
    "plt.scatter(X, y)"
   ]
  },
  {
   "cell_type": "code",
   "execution_count": 2,
   "id": "1d65e7fb",
   "metadata": {},
   "outputs": [
    {
     "data": {
      "text/plain": [
       "((100, 1), (100, 1))"
      ]
     },
     "execution_count": 2,
     "metadata": {},
     "output_type": "execute_result"
    }
   ],
   "source": [
    "X.shape, y.shape"
   ]
  },
  {
   "cell_type": "markdown",
   "id": "a26219d6",
   "metadata": {},
   "source": [
    "#### w0과 w1값을 최소화 할 수 있도록 업데이트 수행하는 함수 생성\n",
    "\n",
    "* 예측 배열 y_pred는 np.dot(X, w1.T) + w0 임. 100개의 데이터 X(1,2,...,100)이 있다면 예측값은 w0 + X(1)w1 + X(2)w1 + ... + X(100)w1이며, 이는 입력 배열 X와 w1배열의 내적임\n",
    "* 새로운 w1과 w0을 update함\n",
    "    * 새로운 w_1 = 이전 w_1 $ - \\eta * \\frac{2}{N}\\sum_{i=1}^{N} x_i * (실제값_i * 예측값_i)$\n",
    "    * 새로운 w_0 = 이전 w_0 $ - \\eta * \\frac{2}{N}\\sum_{i=1}^{N} (실제값_i * 예측값_i)$\n",
    "        * $ \\eta =$ learning_rate"
   ]
  },
  {
   "cell_type": "code",
   "execution_count": 3,
   "id": "6aa2e9f2",
   "metadata": {},
   "outputs": [],
   "source": [
    "# w1과 w0를 업데이트할 w1_update w2_update를 반환\n",
    "def get_weight_updates(w1, w0, X, y, learning_rate=0.01):\n",
    "    N = len(y)\n",
    "    # 먼저 w1_update, w0_update를 각각 w1, w0의 shape와 동일한 크기를 가진 0 값으로 초기화\n",
    "    w1_update = np.zeros_like(w1)\n",
    "    w0_update = np.zeros_like(w0)\n",
    "    # 예측 배열 계산하고 예측과 실제 값의 차이 계산\n",
    "    y_pred = np.dot(X, w1.T) + w0\n",
    "    diff = y - y_pred\n",
    "    \n",
    "    # w0_update를 dot 행렬 연산으로 구하기 위해 모두 1값을 가진 행렬 생성\n",
    "    w0_factors = np.ones((N, 1))\n",
    "    \n",
    "    # w1과 w0을 업데이트할 w1_update와 w0_update 계산\n",
    "    w1_update = -(2/N) * learning_rate * (np.dot(X.T, diff))\n",
    "    w0_update = -(2/N) * learning_rate * (np.dot(w0_factors.T, diff))\n",
    "    \n",
    "    return w1_update, w0_update"
   ]
  },
  {
   "cell_type": "code",
   "execution_count": 4,
   "id": "354516d6",
   "metadata": {},
   "outputs": [
    {
     "name": "stdout",
     "output_type": "stream",
     "text": [
      "diff.shape :  (100, 1)\n",
      "(1, 1) (1, 1)\n"
     ]
    },
    {
     "data": {
      "text/plain": [
       "(array([[0.]]), array([[0.]]))"
      ]
     },
     "execution_count": 4,
     "metadata": {},
     "output_type": "execute_result"
    }
   ],
   "source": [
    "w0 = np.zeros((1, 1))\n",
    "w1 = np.zeros((1, 1))\n",
    "\n",
    "y_pred = np.dot(X, w1.T) + w0\n",
    "# print('y_pred : ', y_pred)\n",
    "\n",
    "diff = y - y_pred\n",
    "# print('diff : ', diff)\n",
    "print('diff.shape : ', diff.shape)\n",
    "\n",
    "w0_factors = np.ones((100, 1))\n",
    "w1_update = -(2/100)*0.01*(np.dot(X.T, diff))\n",
    "w0_update = -(2/100)*0.01*(np.dot(w0_factors.T, diff))\n",
    "print(w1_update.shape, w0_update.shape)\n",
    "\n",
    "w1, w0"
   ]
  },
  {
   "cell_type": "markdown",
   "id": "e4f9a26c",
   "metadata": {},
   "source": [
    "#### 반복적으로 경사하강법을 이용하여 get_weight_updates()를 호출하여 w1과 w0을 업데이트 하는 함수 생성"
   ]
  },
  {
   "cell_type": "code",
   "execution_count": 5,
   "id": "570c9733",
   "metadata": {},
   "outputs": [],
   "source": [
    "# 입력 인자 iters로 주어진 횟수만큼 반복적으로 w1과 w0을 업데이트 적용함\n",
    "def gradient_descent_steps(X, y, iters=10000):\n",
    "    # w0과 w1를 모두 0으로 초기화\n",
    "    w0 = np.zeros((1, 1))\n",
    "    w1 = np.zeros((1, 1))\n",
    "    \n",
    "    # 인자로 주어진 iters만큼 반복적으로 get_weight_updates() 호출하여 w1, w2 업데이트 수행\n",
    "    for ind in range(iters):\n",
    "        w1_update, w0_update = get_weight_updates(w1, w0, X, y, learning_rate=0.01)\n",
    "        w1 = w1 - w1_update\n",
    "        w0 = w0 - w0_update\n",
    "    \n",
    "    return w1, w0"
   ]
  },
  {
   "cell_type": "markdown",
   "id": "637653e3",
   "metadata": {},
   "source": [
    "#### 예측 오차 비용 계산을 수행하는 함수 생성 및 경사 하강법 수행"
   ]
  },
  {
   "cell_type": "code",
   "execution_count": 6,
   "id": "98a4d51c",
   "metadata": {},
   "outputs": [
    {
     "name": "stdout",
     "output_type": "stream",
     "text": [
      "w1:4.028 w0:6.490\n",
      "Gradient Descent Total Cost:0.0775\n"
     ]
    }
   ],
   "source": [
    "def get_cost(y, y_pred):\n",
    "    N = len(y)\n",
    "    cost = np.sum(np.square(y - y_pred))/N\n",
    "    return cost\n",
    "\n",
    "w1, w0 = gradient_descent_steps(X, y, iters=1000)\n",
    "print('w1:{0:.3f} w0:{1:.3f}'.format(w1[0, 0], w0[0, 0]))\n",
    "y_pred = w1[0, 0] * X + w0\n",
    "print('Gradient Descent Total Cost:{0:.4f}'.format(get_cost(y, y_pred)))"
   ]
  },
  {
   "cell_type": "code",
   "execution_count": 7,
   "id": "6e36388e",
   "metadata": {},
   "outputs": [
    {
     "data": {
      "text/plain": [
       "[<matplotlib.lines.Line2D at 0x191df345490>]"
      ]
     },
     "execution_count": 7,
     "metadata": {},
     "output_type": "execute_result"
    },
    {
     "data": {
      "image/png": "[encoded data removed]",
      "text/plain": [
       "<Figure size 432x288 with 1 Axes>"
      ]
     },
     "metadata": {
      "needs_background": "light"
     },
     "output_type": "display_data"
    }
   ],
   "source": [
    "plt.scatter(X, y)\n",
    "plt.plot(X, y_pred)"
   ]
  },
  {
   "cell_type": "markdown",
   "id": "21d0f6e6",
   "metadata": {},
   "source": [
    "#### 미니 배치 확률적 경사 하강법을 이용한 최적 비용함수 도출"
   ]
  },
  {
   "cell_type": "code",
   "execution_count": 8,
   "id": "8889e864",
   "metadata": {},
   "outputs": [],
   "source": [
    "def stochastic_gradient_descent_steps(X, y, batch_size=10, iters=1000):\n",
    "    w0 = np.zeros((1,1))\n",
    "    w1 = np.zeros((1,1))\n",
    "    prev_cost = 1000000\n",
    "    iter_index = 0\n",
    "    \n",
    "    for ind in range(iters):\n",
    "        np.random.seed(ind)\n",
    "        # 전체 X, y 데이터에서 랜덤하게 batch_size만큼 데이터 추출하여 sample_X, sample_y로 저장\n",
    "        stochastic_random_index = np.random.permutation(X.shape[0])\n",
    "        sample_X = X[stochastic_random_index[0:batch_size]]\n",
    "        sample_y = y[stochastic_random_index[0:batch_size]]\n",
    "        # 랜덤하게 batch_size만큼 추출된 데이터 기반으로 w1_update, w0_update 계산 후 업데이트\n",
    "        w1_update, w0_update = get_weight_updates(w1, w0, sample_X, sample_y, learning_rate=0.01)\n",
    "        w1 = w1 - w1_update\n",
    "        w0 = w0 - w0_update\n",
    "    \n",
    "    return w1, w0"
   ]
  },
  {
   "cell_type": "code",
   "execution_count": 9,
   "id": "349825dc",
   "metadata": {},
   "outputs": [
    {
     "data": {
      "text/plain": [
       "array([91, 29,  2, 50, 44, 78, 33, 65, 75, 45, 66, 62, 93, 80, 96, 59, 48,\n",
       "       53, 54, 31, 77, 12,  9, 38, 17,  3, 79, 95, 82, 90, 40,  6,  1, 23,\n",
       "       37, 30, 34, 69, 68, 27, 10, 26, 60, 39, 57, 11, 47, 15, 52, 84,  5,\n",
       "       99, 76,  7, 88, 35, 61,  4, 97, 20, 87, 22, 14, 42, 74, 25, 86, 64,\n",
       "       55, 85, 13, 98, 72, 19, 32, 56,  8, 51, 67, 94, 24, 36, 16, 63,  0,\n",
       "       58, 81, 28, 89, 73, 21, 46, 41, 49, 83, 43, 92, 18, 71, 70])"
      ]
     },
     "execution_count": 9,
     "metadata": {},
     "output_type": "execute_result"
    }
   ],
   "source": [
    "np.random.permutation(X.shape[0])"
   ]
  },
  {
   "cell_type": "code",
   "execution_count": 10,
   "id": "57659cf1",
   "metadata": {},
   "outputs": [
    {
     "name": "stdout",
     "output_type": "stream",
     "text": [
      "w1 :  4.031 w0 :  6.486\n",
      "Stochastic Gradient Descent Total Cost : 90.5195\n"
     ]
    }
   ],
   "source": [
    "w1, w0 = stochastic_gradient_descent_steps(X, y, iters=1000)\n",
    "print('w1 : ', round(w1[0, 0], 3), \"w0 : \", round(w0[0, 0], 3))\n",
    "y_pred = w1[0, 0] * X + w0\n",
    "print('Stochastic Gradient Descent Total Cost : {0:.4f}'.format(get_cost(X, y_pred)))"
   ]
  },
  {
   "cell_type": "markdown",
   "id": "21d0d1b4",
   "metadata": {},
   "source": [
    "---"
   ]
  },
  {
   "cell_type": "markdown",
   "id": "51ab78fb",
   "metadata": {},
   "source": [
    "## 사이킷런 LinearRegression 클래스\n",
    "\n",
    "* class sklearn.linear_model.LinearRegression(fit_intercept=True, normalize=False, copy_X=True, n_jobs=1)\n",
    "    * fit_intercept : intercept(절편)을 계산할 것인지\n",
    "    * normalize : True값이라면 회귀를 수행하기 전에 입력 데이터 세트르르 정규화합니다.\n",
    "    * coef_ : fit() 메서드를 수행했을 때 회귀 계수가 배열 형태로 저장하는 속성 Shape는 (Target값 계수, 피처 개수)\n",
    "    * intercept_ : 절편 값\n",
    "* LinearRegression 클래스는 예측값과 실제 값의 RSS(Residual Sum of Squares)를 최소화해 OLS(Ordinary Least Squares) 추정 방식으로 구현한 클래스입니다.\n",
    "* LinearRegression 클래스는 fit() 메서드로 X, y 배열을 입력 받으면 회귀 계수(Cofficients)인 W를 coef_ 속성에 저장합니다."
   ]
  },
  {
   "cell_type": "markdown",
   "id": "53839438",
   "metadata": {},
   "source": [
    "### 선형 회귀의 다중 공선성 문제\n",
    "\n",
    "* 일반적으로 선형 회귀는 입력 피처의 독립성에 많은 영향을 받습니다. 피처간의 상관관계가 매우 높은 경우, 분산이 매우 커져서 오류에 매우 민감해집니다.\n",
    "* 위와 같은 현상을 다중 공선성(multi-collinearity) 문제라고 합니다.\n",
    "* 일반적으로 상관관계가 높은 피처가 많은 경우 독립적인 중요한 피처만 남기고 제거하거나 규제를 적용합니다."
   ]
  },
  {
   "cell_type": "markdown",
   "id": "bd42520d",
   "metadata": {},
   "source": [
    "### 회귀 평가 지표\n",
    "\n",
    "|평가 지표|설명|\n",
    "|:-------------:|:-------|\n",
    "| MAE | Mean Absolute Error이며 실제값과 예측값의 차이를 절대값으로 변환해 평균한 것입니다. |\n",
    "| MSE | Mean Squared Error이며 실제값과 예측값의 차이를 제곱해 평균한 것입니다. |\n",
    "| MSLE | MSE에 로그를 적용한 것입니다. 결정값이 클수록 오류값도 커지기 때문에 일부 큰 오류값들로 인해 전체 오류값이 커지는 것을 막아줍니다. |\n",
    "| RMSE | MES 값은 오류의 제곱을 구하므로 실제 오류 평균보다 더 커지는 특성이 있으므로 MSE에 루트를 씌운것이 RMSE(Root Mean Squared Error)입니다. |\n",
    "| RMSLE | RMSE에 로그를 적용한 것입니다. 결정값이 클수록 오류값도 커지기 때문에 일부 큰 오류값들로 인해 전체 오류값이 커지는 것을 막아줍니다. |\n",
    "| $R^2$ | 분산 기반으로 예측 성능을 평가합니다. 실제 값의 분산 대비 예측값의 분산 비율을 지표로 하여, 1에 가까울수록 예측 정확도가 높습니다. |"
   ]
  },
  {
   "cell_type": "markdown",
   "id": "afc5f9ec",
   "metadata": {},
   "source": [
    "### 사이킷런 Scoring 함수에 회귀평가 적용 시 주의사항\n",
    "\n",
    "* cross_val_score, GridSearchCV와 같은 Scoring함수에 회귀 평가 지표를 적용 시 유의 사항\n",
    "* MAE의 사이킷런 scroing 파라미터 값은 'neg_mean_absolute_error'입니다. 이는 Negative(음수)값을 가진다는 의미인데, MAE는 절대값의 합이기 때문에 음수가 될 수 없습니다.\n",
    "* Scoring함수에 'neg_mean_absolute_error'를 적용해 음수값을 반환하는 이유는 사이킷런의 Scoring 함수가 score값이 클수록 좋은 평가 결과로 자동 평가하기 때문입니다. 따라서 -1을 원래의 평가 지표 값에 곱해서 음수(Negative)를 만들어 작은 오류 값이 더 큰 숫자로 인식하게 합니다.\n",
    "    * 예를 들어 10>1 이지만 음수를 곱하면 -1>-10이 됩니다.\n",
    "        * 성과지표는 일반적으로 큰수일수록 좋은 모델임을 나타내는데, 회귀 평가의 지표들은 반대로 숫자가 작을수록 좋은 모델임을 나타내기 때문에 -1값을 곱한다.\n",
    "* metrics.mean_absolute_error()와 같은 사이킷런 평가 지표API는 정상적으로 양수의 값을 반환합니다. 하지만 Scoring함수의 scoring파라미터 값 'neg_mean_absolute_error'가 의미하는 것은 -1 * metrics.mean_absolute_error()이니 주의가 필요합니다."
   ]
  },
  {
   "cell_type": "markdown",
   "id": "35e0abea",
   "metadata": {},
   "source": [
    "### 사이킷런 LinearRegression을 이용한 보스턴 주택 가격 예측"
   ]
  },
  {
   "cell_type": "code",
   "execution_count": 11,
   "id": "178d86de",
   "metadata": {},
   "outputs": [
    {
     "name": "stdout",
     "output_type": "stream",
     "text": [
      "Boston 데이터셋 크기 :  (506, 14)\n"
     ]
    },
    {
     "data": {
      "text/html": [
       "<div>\n",
       "<style scoped>\n",
       "    .dataframe tbody tr th:only-of-type {\n",
       "        vertical-align: middle;\n",
       "    }\n",
       "\n",
       "    .dataframe tbody tr th {\n",
       "        vertical-align: top;\n",
       "    }\n",
       "\n",
       "    .dataframe thead th {\n",
       "        text-align: right;\n",
       "    }\n",
       "</style>\n",
       "<table border=\"1\" class=\"dataframe\">\n",
       "  <thead>\n",
       "    <tr style=\"text-align: right;\">\n",
       "      <th></th>\n",
       "      <th>CRIM</th>\n",
       "      <th>ZN</th>\n",
       "      <th>INDUS</th>\n",
       "      <th>CHAS</th>\n",
       "      <th>NOX</th>\n",
       "      <th>RM</th>\n",
       "      <th>AGE</th>\n",
       "      <th>DIS</th>\n",
       "      <th>RAD</th>\n",
       "      <th>TAX</th>\n",
       "      <th>PTRATIO</th>\n",
       "      <th>B</th>\n",
       "      <th>LSTAT</th>\n",
       "      <th>PRICE</th>\n",
       "    </tr>\n",
       "  </thead>\n",
       "  <tbody>\n",
       "    <tr>\n",
       "      <th>0</th>\n",
       "      <td>0.00632</td>\n",
       "      <td>18.0</td>\n",
       "      <td>2.31</td>\n",
       "      <td>0.0</td>\n",
       "      <td>0.538</td>\n",
       "      <td>6.575</td>\n",
       "      <td>65.2</td>\n",
       "      <td>4.0900</td>\n",
       "      <td>1.0</td>\n",
       "      <td>296.0</td>\n",
       "      <td>15.3</td>\n",
       "      <td>396.90</td>\n",
       "      <td>4.98</td>\n",
       "      <td>24.0</td>\n",
       "    </tr>\n",
       "    <tr>\n",
       "      <th>1</th>\n",
       "      <td>0.02731</td>\n",
       "      <td>0.0</td>\n",
       "      <td>7.07</td>\n",
       "      <td>0.0</td>\n",
       "      <td>0.469</td>\n",
       "      <td>6.421</td>\n",
       "      <td>78.9</td>\n",
       "      <td>4.9671</td>\n",
       "      <td>2.0</td>\n",
       "      <td>242.0</td>\n",
       "      <td>17.8</td>\n",
       "      <td>396.90</td>\n",
       "      <td>9.14</td>\n",
       "      <td>21.6</td>\n",
       "    </tr>\n",
       "    <tr>\n",
       "      <th>2</th>\n",
       "      <td>0.02729</td>\n",
       "      <td>0.0</td>\n",
       "      <td>7.07</td>\n",
       "      <td>0.0</td>\n",
       "      <td>0.469</td>\n",
       "      <td>7.185</td>\n",
       "      <td>61.1</td>\n",
       "      <td>4.9671</td>\n",
       "      <td>2.0</td>\n",
       "      <td>242.0</td>\n",
       "      <td>17.8</td>\n",
       "      <td>392.83</td>\n",
       "      <td>4.03</td>\n",
       "      <td>34.7</td>\n",
       "    </tr>\n",
       "    <tr>\n",
       "      <th>3</th>\n",
       "      <td>0.03237</td>\n",
       "      <td>0.0</td>\n",
       "      <td>2.18</td>\n",
       "      <td>0.0</td>\n",
       "      <td>0.458</td>\n",
       "      <td>6.998</td>\n",
       "      <td>45.8</td>\n",
       "      <td>6.0622</td>\n",
       "      <td>3.0</td>\n",
       "      <td>222.0</td>\n",
       "      <td>18.7</td>\n",
       "      <td>394.63</td>\n",
       "      <td>2.94</td>\n",
       "      <td>33.4</td>\n",
       "    </tr>\n",
       "    <tr>\n",
       "      <th>4</th>\n",
       "      <td>0.06905</td>\n",
       "      <td>0.0</td>\n",
       "      <td>2.18</td>\n",
       "      <td>0.0</td>\n",
       "      <td>0.458</td>\n",
       "      <td>7.147</td>\n",
       "      <td>54.2</td>\n",
       "      <td>6.0622</td>\n",
       "      <td>3.0</td>\n",
       "      <td>222.0</td>\n",
       "      <td>18.7</td>\n",
       "      <td>396.90</td>\n",
       "      <td>5.33</td>\n",
       "      <td>36.2</td>\n",
       "    </tr>\n",
       "  </tbody>\n",
       "</table>\n",
       "</div>"
      ],
      "text/plain": [
       "      CRIM    ZN  INDUS  CHAS    NOX     RM   AGE     DIS  RAD    TAX  \\\n",
       "0  0.00632  18.0   2.31   0.0  0.538  6.575  65.2  4.0900  1.0  296.0   \n",
       "1  0.02731   0.0   7.07   0.0  0.469  6.421  78.9  4.9671  2.0  242.0   \n",
       "2  0.02729   0.0   7.07   0.0  0.469  7.185  61.1  4.9671  2.0  242.0   \n",
       "3  0.03237   0.0   2.18   0.0  0.458  6.998  45.8  6.0622  3.0  222.0   \n",
       "4  0.06905   0.0   2.18   0.0  0.458  7.147  54.2  6.0622  3.0  222.0   \n",
       "\n",
       "   PTRATIO       B  LSTAT  PRICE  \n",
       "0     15.3  396.90   4.98   24.0  \n",
       "1     17.8  396.90   9.14   21.6  \n",
       "2     17.8  392.83   4.03   34.7  \n",
       "3     18.7  394.63   2.94   33.4  \n",
       "4     18.7  396.90   5.33   36.2  "
      ]
     },
     "execution_count": 11,
     "metadata": {},
     "output_type": "execute_result"
    }
   ],
   "source": [
    "import numpy as np\n",
    "import matplotlib.pyplot as plt\n",
    "import pandas as pd\n",
    "import seaborn as sns\n",
    "from scipy import stats\n",
    "from sklearn.datasets import load_boston\n",
    "%matplotlib inline\n",
    "\n",
    "# boston 데이터셋 로드\n",
    "boston = load_boston()\n",
    "\n",
    "# boston 데이터셋 DataFrame 변환\n",
    "bostonDF = pd.DataFrame(boston.data, columns=boston.feature_names)\n",
    "\n",
    "# boston dataset의 target array는 주택 가격임. 이를 PRICE 컬럼으로 DataFrame에 추가함.\n",
    "bostonDF['PRICE'] = boston.target\n",
    "\n",
    "print('Boston 데이터셋 크기 : ', bostonDF.shape)\n",
    "\n",
    "bostonDF.head()"
   ]
  },
  {
   "cell_type": "markdown",
   "id": "315e0478",
   "metadata": {},
   "source": [
    "* CRIM: 지역별 범죄 발생율\n",
    "* ZN: 25,000평방피트를 초과하는 거주 지역의 비율\n",
    "* INDUS: 비상업 지역 넓이 비율\n",
    "* CHAS: 찰스강에 대한 더미 변수(강의 경계에 위치한 경우는 1, 아니면 0)\n",
    "* NOX: 일산화질소 농도\n",
    "* RM: 거주할 수 있는 방 개수\n",
    "* AGE: 1940년 이전에 건축된 소유 주택의 비율\n",
    "* DIS: 5개 주요 고용센터까지의 가중 거리\n",
    "* RAD: 고속도로 접근 용이도\n",
    "* TAX: 10,000달러당 재산세율\n",
    "* PTRATIO: 지역의 교사와 학생 수 비율\n",
    "* B: 지역의 흑인 거주 비율\n",
    "* LSTAT: 하위 계층의 비율\n",
    "* MEDV: 본인 소유의 주택 가격(중앙값)\n",
    "\n",
    "\n",
    "* **각 컬럼별로 주택가격에 미치는 영향도를 조사**"
   ]
  },
  {
   "cell_type": "code",
   "execution_count": 12,
   "id": "40e016e0",
   "metadata": {},
   "outputs": [
    {
     "data": {
      "image/png": "[encoded data removed]",
      "text/plain": [
       "<Figure size 1152x576 with 8 Axes>"
      ]
     },
     "metadata": {
      "needs_background": "light"
     },
     "output_type": "display_data"
    }
   ],
   "source": [
    "# 2개의 행과 4개의 열을 가진 subplots를 이용, axs는 4*2개의 ax를 가짐\n",
    "fig, axs = plt.subplots(figsize=(16, 8), ncols=4, nrows=2 )\n",
    "lm_features = ['RM', 'ZN', 'INDUS', 'NOX', 'AGE', 'PTRATIO', 'LSTAT', 'RAD']\n",
    "for i, feature in enumerate(lm_features):\n",
    "    row = int(i/4)\n",
    "    col = i%4\n",
    "    # 사본의 regplot을 이용해 산점도와 선형 회귀 직선을 함께 표현\n",
    "    sns.regplot(x=feature, y='PRICE', data=bostonDF, ax=axs[row][col])"
   ]
  },
  {
   "cell_type": "markdown",
   "id": "2e9ad5d5",
   "metadata": {},
   "source": [
    "#### 학습과 테스트 데이터 세트로 분리하고 학습/예측/평가 수행"
   ]
  },
  {
   "cell_type": "code",
   "execution_count": 13,
   "id": "f15c97a5",
   "metadata": {},
   "outputs": [
    {
     "name": "stdout",
     "output_type": "stream",
     "text": [
      "MSE : 17.297, RMSE : 4.159\n",
      "Variance score : 0.757\n"
     ]
    }
   ],
   "source": [
    "from sklearn.model_selection import train_test_split\n",
    "from sklearn.linear_model import LinearRegression\n",
    "from sklearn.metrics import mean_squared_error, r2_score\n",
    "\n",
    "y_target = bostonDF['PRICE']\n",
    "X_data = bostonDF.drop(['PRICE'], axis=1, inplace=False)\n",
    "\n",
    "X_train, X_test, y_train, y_test = train_test_split(X_data, y_target, test_size=0.3, random_state=156)\n",
    "\n",
    "# Linear Regression OLS로 학습/예측/평가 수행.\n",
    "lr = LinearRegression()\n",
    "lr.fit(X_train, y_train)\n",
    "\n",
    "y_preds = lr.predict(X_test)\n",
    "mse = mean_squared_error(y_test, y_preds)\n",
    "rmse = np.sqrt(mse)\n",
    "\n",
    "print('MSE : {0:.3f}, RMSE : {1:.3f}'.format(mse, rmse))\n",
    "print('Variance score : {0:.3f}'.format(r2_score(y_test, y_preds)))"
   ]
  },
  {
   "cell_type": "code",
   "execution_count": 14,
   "id": "76aacd39",
   "metadata": {},
   "outputs": [
    {
     "name": "stdout",
     "output_type": "stream",
     "text": [
      "절편 값 :  40.995595172164315\n",
      "회귀 계수값 :  [ -0.1   0.1   0.    3.  -19.8   3.4   0.   -1.7   0.4  -0.   -0.9   0.\n",
      "  -0.6]\n"
     ]
    }
   ],
   "source": [
    "print('절편 값 : ', lr.intercept_)\n",
    "print('회귀 계수값 : ', np.round(lr.coef_, 1))"
   ]
  },
  {
   "cell_type": "code",
   "execution_count": 15,
   "id": "5a523f21",
   "metadata": {},
   "outputs": [
    {
     "data": {
      "text/plain": [
       "RM          3.4\n",
       "CHAS        3.0\n",
       "RAD         0.4\n",
       "ZN          0.1\n",
       "INDUS       0.0\n",
       "AGE         0.0\n",
       "TAX        -0.0\n",
       "B           0.0\n",
       "CRIM       -0.1\n",
       "LSTAT      -0.6\n",
       "PTRATIO    -0.9\n",
       "DIS        -1.7\n",
       "NOX       -19.8\n",
       "dtype: float64"
      ]
     },
     "execution_count": 15,
     "metadata": {},
     "output_type": "execute_result"
    }
   ],
   "source": [
    "# 회귀 계수를 큰 값으로 정렬하기 위해 Series로 생성, index가 컬럼명에 유의\n",
    "coeff = pd.Series(data=np.round(lr.coef_, 1), index=X_data.columns)\n",
    "coeff.sort_values(ascending=False) # NOX값이 크기 때문에 예측결과가 NOX값의 영향을 많이 받음"
   ]
  },
  {
   "cell_type": "code",
   "execution_count": 16,
   "id": "8c27a244",
   "metadata": {},
   "outputs": [
    {
     "name": "stdout",
     "output_type": "stream",
     "text": [
      "5 folds의 개별 Negative MSE scores :  [-12.46 -26.05 -33.07 -80.76 -33.31]\n",
      "5 folds의 개별 RMSE scores :  [12.46 26.05 33.07 33.31 80.76]\n",
      "5 folds의 평균 RMSE : 37.132\n"
     ]
    }
   ],
   "source": [
    "from sklearn.model_selection import cross_val_score\n",
    "\n",
    "y_target = bostonDF['PRICE']\n",
    "X_data = bostonDF.drop(['PRICE'], axis=1, inplace=False)\n",
    "lr = LinearRegression()\n",
    "\n",
    "# cross_val_score()로 5Fold 셋으로 MSE를 구한 뒤, 이를 기반으로 다시 RMSE를 구함\n",
    "neg_mse_scores = cross_val_score(lr, X_data, y_target, scoring='neg_mean_squared_error', cv=5) # 음수 반환\n",
    "rmse_scores = np.sort(-1 * neg_mse_scores)\n",
    "avg_rmse = np.mean(rmse_scores)\n",
    "\n",
    "# cross_val_score(scoring='neg_mean_squared_error')로 반환된 값은 모두 음수\n",
    "print('5 folds의 개별 Negative MSE scores : ', np.round(neg_mse_scores, 2))\n",
    "print('5 folds의 개별 RMSE scores : ', np.round(rmse_scores, 2))\n",
    "print('5 folds의 평균 RMSE : {0:.3f}'.format(avg_rmse))\n"
   ]
  },
  {
   "cell_type": "markdown",
   "id": "00b16096",
   "metadata": {},
   "source": [
    "---"
   ]
  },
  {
   "cell_type": "markdown",
   "id": "ec8f8b97",
   "metadata": {},
   "source": [
    "## 다항회귀 개요(Polynomial Regression)\n",
    "\n",
    "* 다항회귀는 독립변수의 단항식이 아닌 2차, 3차 방정식과 같은 다항식으로 표현되는 것을 지칭합니다.\n",
    "* 데이터 세트에 대해서 피처 X에 대해 Target Y값의 관계를 단순 선형 회귀 직선형으로 표현한 것보다 다항 회귀 곡선형으로 표현한 것이 더 예측 성능이 높습니다."
   ]
  },
  {
   "cell_type": "markdown",
   "id": "9439b3b6",
   "metadata": {},
   "source": [
    "### 선형 회귀와 비선형 회귀의 구분\n",
    "\n",
    "* 선형 회귀\n",
    "    * $ Y = w0 + w1 * x1 + w2 * x2 + w3 * x1 * x2 + w4 * (x1)^2 + w5 * (x2)^2 $\n",
    "* 비선형 회귀\n",
    "    * $ Y = w1 * \\cos(X + w4) + w2 * \\cos(2*x + w4) + w3 $\n",
    "    * $ Y = w1 * X^(W2) $\n",
    "    \n",
    "<br>\n",
    "* 다항 회귀는 선형회귀입니다. 회귀에서 선형 회귀/비선형 회귀를 나누는 기준은 회귀 계수가 선형/비선형인지에 따른 것이지 독립변수의 선형/비선형 여부와는 무관합니다."
   ]
  },
  {
   "cell_type": "markdown",
   "id": "2dd1266e",
   "metadata": {},
   "source": [
    "### 사이킷런에서의 다항 회귀\n",
    "\n",
    "* 사이킷런은 다항회귀를 바로 API로 제공하지 않습니다.\n",
    "* 대신 PolynomialFeatures 클래스로 원본 단항 피처들을 다항 피처들로 변환한 데이터 세트에 LinearRegression 객체를 적용하여 다양회귀 기능을 제공합니다.\n",
    "* PolynomialFeatures : 원본 피처 데이터 세트를 기반으로 degree 차수에 따른 다항식을 적용하여 새로운 피처들을 생성하는 클래스 피처 엔지니어링의 기법중의 하나임."
   ]
  },
  {
   "cell_type": "markdown",
   "id": "1a219ab3",
   "metadata": {},
   "source": [
    "* 단항 피처 $[x_1, x_2]$를 Degree=2, 즉 2차 다항 피처로 변환한다면?\n",
    "    * $(x_1 + x_2)^2$  $[1, x_1, x_2, x_1x_2, x_1^2, x_2^2]$의 다항 피처들로 변환\n",
    "    * 1차 단항 피처들의 값이 $[x_1, x_2] = [0, 1]$일 경우\n",
    "    * 2차 다항 피처들의 값은 $[1, x_1=0, x_2=1, x_1x_2=0, x_1^2=0, x_2^2=1]$ 형태인 [1, 0, 1, 0, 0, 1]로 변환\n",
    "\n",
    "* 단항 피처 $[x_1, x_2]$를 Degree=3, 즉 3차 다항 피처로 변환한다면?\n",
    "    * $(x_1 + x_2)^3$의 식 전개에 대응되는 $[1, x_1, x_2, x_1x_2, x_1^2, x_2^2, x_1^3, x_1^2x_2, x_1x_2^2, x_2^3]$"
   ]
  },
  {
   "cell_type": "markdown",
   "id": "bd06ce1c",
   "metadata": {},
   "source": [
    "* PolynomialFeatures변환 -> LinearRegression 학습\n",
    "    1. 단항 피처 $[x_1, x_2]$를 $[1, x_1=0, x_2=1, x_1x_2=0, x_1^2=0, x_2^2=1]$로 변경(degree=2로 가정)\n",
    "    2. PolynomialFeatures로 변환된 x 피처들을 LinearRegression객체로 학습\n",
    "* 사이킷런에서는 일반적으로 Pipeline 클래스를 이용하여, PolynomialFeatures 변환과 LinearRegression 학습/예측을 결합하여 다항 회귀를 구현합니다."
   ]
  },
  {
   "cell_type": "markdown",
   "id": "846d4906",
   "metadata": {},
   "source": [
    "## Polynomial Regression과 오버피팅/언더피팅의 이해"
   ]
  },
  {
   "cell_type": "code",
   "execution_count": 17,
   "id": "0e4c7f84",
   "metadata": {},
   "outputs": [
    {
     "name": "stdout",
     "output_type": "stream",
     "text": [
      "일차 단항식 계수 feature:\n",
      " [[0 1]\n",
      " [2 3]]\n",
      "변환된 2차 다항식 계수 feature:\n",
      " [[1. 0. 1. 0. 0. 1.]\n",
      " [1. 2. 3. 4. 6. 9.]]\n"
     ]
    }
   ],
   "source": [
    "from sklearn.preprocessing import PolynomialFeatures\n",
    "import numpy as np\n",
    "\n",
    "# 다항식으로 변환한 단항식 생성, [[0,1], [2,3]]의 2*2 행렬 생성\n",
    "X = np.arange(4).reshape(2, 2)\n",
    "print('일차 단항식 계수 feature:\\n', X)\n",
    "\n",
    "# degree = 2인 2차 다항식으로 변환하기 위해 PolynomialFeatures를 이용하여 변환\n",
    "poly = PolynomialFeatures(degree=2)\n",
    "poly.fit(X)\n",
    "poly_ftr = poly.transform(X)\n",
    "print('변환된 2차 다항식 계수 feature:\\n', poly_ftr)"
   ]
  },
  {
   "cell_type": "markdown",
   "id": "f6d0121b",
   "metadata": {},
   "source": [
    "3차 다항식 결정값을 구하는 함수 polynomial_func(X) 생성. 즉 회귀식은 결정값 $ y = 1 + 2x_1 + 3x_1^2 + 4x_2^3 $"
   ]
  },
  {
   "cell_type": "code",
   "execution_count": 18,
   "id": "278abe19",
   "metadata": {},
   "outputs": [
    {
     "name": "stdout",
     "output_type": "stream",
     "text": [
      "일차 단항식 계수 feature :\n",
      " [[0 1]\n",
      " [2 3]]\n",
      "삼차 다항식 결정값 : \n",
      " [  5 125]\n",
      "3차 다항식 계수 feature : \n",
      " [[ 1.  0.  1.  0.  0.  1.  0.  0.  0.  1.]\n",
      " [ 1.  2.  3.  4.  6.  9.  8. 12. 18. 27.]]\n",
      "Polynomial 회귀 계수\n",
      " [0.   0.18 0.18 0.36 0.54 0.72 0.72 1.08 1.62 2.34]\n",
      "Polynomial 회귀 shape : (10,)\n"
     ]
    }
   ],
   "source": [
    "def polynomial_func(X):\n",
    "    y = 1 + 2*X[:, 0] + 3*X[:, 0]**2 + 4*X[:, 1]**3\n",
    "    return y\n",
    "\n",
    "X = np.arange(0, 4).reshape(2,2)\n",
    "\n",
    "print('일차 단항식 계수 feature :\\n', X)\n",
    "y = polynomial_func(X)\n",
    "print('삼차 다항식 결정값 : \\n', y)\n",
    "\n",
    "# 3차 다항식 변환\n",
    "poly_ftr = PolynomialFeatures(degree=3).fit_transform(X)\n",
    "print('3차 다항식 계수 feature : \\n', poly_ftr)\n",
    "\n",
    "# Linear Regression에 3차 다항식 계수 feature와 3차 다항식 결정값으로 학습 후 회귀 계수 확인\n",
    "model = LinearRegression()\n",
    "model.fit(poly_ftr, y)\n",
    "print('Polynomial 회귀 계수\\n', np.round(model.coef_, 2))\n",
    "print('Polynomial 회귀 shape :', model.coef_.shape)"
   ]
  },
  {
   "cell_type": "markdown",
   "id": "15fe2dda",
   "metadata": {},
   "source": [
    "#### 사이킷런 파이프라인(Pipeline)을 이용하여 3차 다항회귀 학습\n",
    "\n",
    "* 사이킷런의 Pipeline 객체는 Feature 엔지니어링 변환과 모델 학습/예측을 순차적으로 결합해줍니다."
   ]
  },
  {
   "cell_type": "code",
   "execution_count": 19,
   "id": "3f379174",
   "metadata": {
    "scrolled": true
   },
   "outputs": [
    {
     "name": "stdout",
     "output_type": "stream",
     "text": [
      "Polynomial 회귀 계수\n",
      " [0.   0.18 0.18 0.36 0.54 0.72 0.72 1.08 1.62 2.34]\n"
     ]
    }
   ],
   "source": [
    "from sklearn.preprocessing import PolynomialFeatures\n",
    "from sklearn.linear_model import LinearRegression\n",
    "from sklearn.pipeline import Pipeline\n",
    "import numpy as np\n",
    "\n",
    "def polynomial_func(X):\n",
    "    y = 1 + 2*X[:, 0] + 3*X[:, 0]**2 + 4*X[:, 1]**3\n",
    "    return y\n",
    "\n",
    "# Pipeline 객체로 Streamline 하게 Polynomial Feature 변환과 Linear Regression 연결\n",
    "model = Pipeline([ ('poly', PolynomialFeatures(degree=3)), ('linear', LinearRegression()) ])\n",
    "\n",
    "X = np.arange(4).reshape(2,2)\n",
    "y = polynomial_func(X)\n",
    "\n",
    "model = model.fit(X, y)\n",
    "\n",
    "print('Polynomial 회귀 계수\\n', np.round(model.named_steps['linear'].coef_, 2 )) # LinearRegression 객체의 coef_ "
   ]
  },
  {
   "cell_type": "markdown",
   "id": "074b4595",
   "metadata": {},
   "source": [
    "#### 다중 회귀를 이용한 보스턴 주택가격 예측"
   ]
  },
  {
   "cell_type": "code",
   "execution_count": 20,
   "id": "ff0d1a78",
   "metadata": {
    "scrolled": false
   },
   "outputs": [
    {
     "name": "stdout",
     "output_type": "stream",
     "text": [
      "Boston 데이터셋 크기 :  (506, 14)\n",
      "MSE : 15.556, RMSE : 3.944\n",
      "Variance score : 0.782\n"
     ]
    }
   ],
   "source": [
    "from sklearn.model_selection import train_test_split\n",
    "from sklearn.linear_model import LinearRegression\n",
    "from sklearn.metrics import mean_squared_error, r2_score\n",
    "from sklearn.preprocessing import PolynomialFeatures\n",
    "from sklearn.linear_model import LinearRegression\n",
    "from sklearn.pipeline import Pipeline\n",
    "import numpy as np\n",
    "\n",
    "# boston 데이터셋 로드\n",
    "boston = load_boston()\n",
    "\n",
    "# boston 데이터셋 DataFrame 변환\n",
    "bostonDF = pd.DataFrame(boston.data, columns=boston.feature_names)\n",
    "\n",
    "# boston dataset의 target array는 주택 가격임, 이를 PRICE 컬럼으로 DataFrame에 추가함.\n",
    "\n",
    "bostonDF['PRICE'] = boston.target\n",
    "\n",
    "print('Boston 데이터셋 크기 : ', bostonDF.shape)\n",
    "\n",
    "y_target = bostonDF['PRICE']\n",
    "X_data = bostonDF.drop(['PRICE'], axis=1, inplace=False)\n",
    "\n",
    "X_train, X_test, y_train, y_test = train_test_split(X_data, y_target, test_size=0.3, random_state=156)\n",
    "\n",
    "# Pipeline을 이용하여 PolynomialFeatures 변환과 LinearRegression 적용을 순차적으로 결합.\n",
    "p_model = Pipeline([ ('poly', PolynomialFeatures(degree=2, include_bias=False)),\n",
    "                     ('linear', LinearRegression()) ]) # degree=3으로 변경하면 심각한 오버피팅 발생\n",
    "\n",
    "p_model.fit(X_train, y_train)\n",
    "y_preds = p_model.predict(X_test)\n",
    "mse = mean_squared_error(y_test, y_preds)\n",
    "rmse = np.sqrt(mse)\n",
    "\n",
    "print('MSE : {0:.3f}, RMSE : {1:.3f}'.format(mse, rmse))\n",
    "print('Variance score : {0:.3f}'.format(r2_score(y_test, y_preds)))"
   ]
  },
  {
   "cell_type": "code",
   "execution_count": 21,
   "id": "8a079198",
   "metadata": {},
   "outputs": [
    {
     "data": {
      "text/plain": [
       "((354, 104), (354, 13))"
      ]
     },
     "execution_count": 21,
     "metadata": {},
     "output_type": "execute_result"
    }
   ],
   "source": [
    "X_train_poly = PolynomialFeatures(degree=2, include_bias=False).fit_transform(X_train, y_train)\n",
    "X_train_poly.shape, X_train.shape # 피처 개수 13 -> 104"
   ]
  },
  {
   "cell_type": "markdown",
   "id": "5036553c",
   "metadata": {},
   "source": [
    "### Polynomial Regression을 이용한 Underfitting, Overfitting 이해\n",
    "\n",
    "#### cosine 곡선에 약간의 Noise 변동값을 더하여 실제값 곡선을 만듬"
   ]
  },
  {
   "cell_type": "code",
   "execution_count": 22,
   "id": "a6e51ed4",
   "metadata": {},
   "outputs": [],
   "source": [
    "import numpy as np\n",
    "import matplotlib.pyplot as plt\n",
    "from sklearn.pipeline import Pipeline\n",
    "from sklearn.preprocessing import PolynomialFeatures\n",
    "from sklearn.linear_model import LinearRegression\n",
    "from sklearn.model_selection import cross_val_score\n",
    "%matplotlib inline\n",
    "\n",
    "# random() 값으로 구성된 X값에 대해 Cosine 변환값을 반환\n",
    "def true_fun(X):\n",
    "    return np.cos(1.5 * np.pi * X)\n",
    "\n",
    "# X는 0부터 1까지 30개의 random값을 순서대로 sampling한 데이터입니다.\n",
    "np.random.seed(0)\n",
    "n_samples = 30\n",
    "X = np.sort(np.random.rand(n_samples))\n",
    "\n",
    "# y 값은 cosine 기반의 true_fun)_에서 약간의 Noise 변동값을 더한 값입니다.\n",
    "y = true_fun(X) + np.random.randn(n_samples) * 0.1"
   ]
  },
  {
   "cell_type": "code",
   "execution_count": 23,
   "id": "c924d252",
   "metadata": {},
   "outputs": [
    {
     "data": {
      "text/plain": [
       "<matplotlib.collections.PathCollection at 0x191e35266d0>"
      ]
     },
     "execution_count": 23,
     "metadata": {},
     "output_type": "execute_result"
    },
    {
     "data": {
      "image/png": "[encoded data removed]",
      "text/plain": [
       "<Figure size 432x288 with 1 Axes>"
      ]
     },
     "metadata": {
      "needs_background": "light"
     },
     "output_type": "display_data"
    }
   ],
   "source": [
    "plt.scatter(X, y)"
   ]
  },
  {
   "cell_type": "code",
   "execution_count": 24,
   "id": "75d57ccd",
   "metadata": {},
   "outputs": [
    {
     "name": "stdout",
     "output_type": "stream",
     "text": [
      "Degree 1, 회귀계수는 [-2.]입니다.\n",
      "Degree 1, 회귀계수는 0.41입니다.\n",
      "Degree 4, 회귀계수는 [  0. -18.  24.  -7.]입니다.\n",
      "Degree 4, 회귀계수는 0.04입니다.\n",
      "Degree 15, 회귀계수는 [-2.98300000e+03  1.03900000e+05 -1.87417000e+06  2.03717200e+07\n",
      " -1.44874017e+08  7.09319141e+08 -2.47067172e+09  6.24564702e+09\n",
      " -1.15677216e+10  1.56895933e+10 -1.54007040e+10  1.06457993e+10\n",
      " -4.91381016e+09  1.35920642e+09 -1.70382078e+08]입니다.\n",
      "Degree 15, 회귀계수는 182581084.83입니다.\n"
     ]
    },
    {
     "data": {
      "image/png": "[encoded data removed]",
      "text/plain": [
       "<Figure size 1008x360 with 3 Axes>"
      ]
     },
     "metadata": {},
     "output_type": "display_data"
    }
   ],
   "source": [
    "plt.figure(figsize=(14, 5))\n",
    "degrees = [1, 4, 15]\n",
    "\n",
    "# 다항 회귀의 차수(degree)를 1, 4, 15로 각각 변화시키면서 비교합니다.\n",
    "for i in range(len(degrees)):\n",
    "    ax = plt.subplot(1, len(degrees), i+1)\n",
    "    plt.setp(ax, xticks=(), yticks=())\n",
    "    \n",
    "    # 개별 degree별로 Polynomial 변환합니다.\n",
    "    polynomial_features = PolynomialFeatures(degree=degrees[i], include_bias=False)\n",
    "    linear_regression = LinearRegression()\n",
    "    pipeline = Pipeline([ ('polynomial_features', polynomial_features), \n",
    "                            ('linear_regression', linear_regression)\n",
    "                        ])\n",
    "    pipeline.fit(X.reshape(-1, 1), y)\n",
    "    \n",
    "    # 교차 검증으로 다항 회귀를 평가합니다.\n",
    "    scores = cross_val_score(pipeline, X.reshape(-1, 1), y, scoring=\"neg_mean_squared_error\", cv=10)\n",
    "    coefficients = pipeline.named_steps['linear_regression'].coef_\n",
    "    \n",
    "    print('Degree {0}, 회귀계수는 {1}입니다.'.format(degrees[i], np.round(coefficients), 2))\n",
    "    print('Degree {0}, 회귀계수는 {1:.2f}입니다.'.format(degrees[i], -1*np.mean(scores)))\n",
    "    \n",
    "    # 0부터 1까지 테스트 데이터 세트를 100개로 나눠 예측을 수행합니다.\n",
    "    # 테스트 데이터 세트에 회귀 예측을 수행하고 예측 곡선과 실제 곡선을 그려서 비교합니다.\n",
    "    X_test = np.linspace(0, 1, 100)\n",
    "    # 예측값 곡선\n",
    "    plt.plot(X_test, pipeline.predict(X_test[:, np.newaxis]), label=\"Model\")\n",
    "    # 실제값 곡선\n",
    "    plt.plot(X_test, true_fun(X_test), '--', label=\"True function\")\n",
    "    plt.scatter(X, y, edgecolor='b', s=20, label='Samples')\n",
    "    \n",
    "    plt.xlabel('x')\n",
    "    plt.ylabel('y')\n",
    "    plt.xlim((0, 1))\n",
    "    plt.ylim((-2, 2))\n",
    "    plt.legend(loc=\"best\")\n",
    "    plt.title(\"Degree \\nMSE = {:.2e}(+/- {:.2e})\".format(degrees[i], -scores.mean(), scores.std()))\n",
    "    \n",
    "plt.show()\n",
    "    \n",
    "# degree 15 -> 회귀계수가 크게 나옴 -> 조금만 벗어나도 값이 크게 달라짐"
   ]
  },
  {
   "cell_type": "markdown",
   "id": "050c18bf",
   "metadata": {},
   "source": [
    "#### 편향-분산 트레이드 오프(Bias-Variance Trade off)\n",
    "\n",
    "* Bias(편향) : 예측이 정답에서 얼마나 떨어져 있는지\n",
    "* Variance(분산) : 예측의 변동폭이 얼마나 큰지\n",
    "<br>\n",
    "\n",
    "* Underfitting(과소적합) : 편향이 높고 분산이 낮은 경우\n",
    "* Overfitting(과대적합) : 편향이 낮고 분산이 높은 경우"
   ]
  },
  {
   "cell_type": "markdown",
   "id": "5f7abcc4",
   "metadata": {},
   "source": [
    "---\n",
    "\n",
    "## 규제 선형 회귀의 개요\n",
    "\n",
    "* 앞의 예제에서 Degree=15의 다항회귀는 지나치게 모든 데이터에 적합한 회귀식을 만들기 위해서 다항식이 복잡해지고 회귀 계수가 매우 크게 설정이 되면서 과대적합이 되었고, 평가 데이터 세트에 대해서는 형편없는 예측 성능을 보였습니다. 따라서 회귀 모델은 적절히 데이터에 적합하면서도 회귀 계수가 기하급수적으로 커지는 것을 제어할 수 있어야 합니다.\n",
    "\n",
    "* 최적 모델을 위한 Cost 함수 구성요소 = 학습데이터 잔차 오류 최소화 + 회귀계수 크기 제어\n",
    "    * 비용 함수 목표 = $ Min( RSS(W) + alpha *  \\lvert\\lvert W \\rvert\\rvert^2_2  $\n",
    "    * alpha는 학습 데이터 적합 정도와 휘귀 계수 값의 크기 제어를 수행하는 튜닝 파라미터"
   ]
  },
  {
   "cell_type": "markdown",
   "id": "df515873",
   "metadata": {},
   "source": [
    "### 규제 선형 모델에서 alpha의 역할\n",
    "\n",
    "* alpha가 0(또는 매우 작은 값)이라면 비용 함수 식은 기존과 동일한 Min(RSS(W) + 0)이 될 것입니다.\n",
    "* 반면에 alpha가 무한대(또는 매우 큰 값)이라면 비용 함수 식은 RSS(W)에 비해 $ alpha *  \\lvert\\lvert W \\rvert\\rvert^2_2  $값이 너무 커지게 되므로 W 값을 0(또는 매우 작게)으로 만들어야 Cost가 최소화되는 비용 함수 목표를 달성할 수 있습니다.\n"
   ]
  },
  {
   "cell_type": "markdown",
   "id": "88ced1b3",
   "metadata": {},
   "source": [
    "### 규제 선형 회귀의 유형\n",
    "\n",
    "* 이처럼 비용 함수에 alpha값으로 패널티를 부여해 회귀 계수 값의 크기를 감소시켜 과적합을 개선하는 방식을 규제(Regularization)이라 부릅니다.\n",
    "* 규제는 크게 L2 방식과 L1 방식으로 구분됩니다. L2 규제는 위에서 설명한 바와 같이 $ alpha *  \\lvert\\lvert W \\rvert\\rvert^2_2  $와 같이 w의 제곱에 대해 패널티를 부여하는 방식을 말합니다. L2 규제를 적용한 회귀를 릿지(Ridge) 회귀라고 합니다.\n",
    "* 라쏘(Lasso)회귀는 L1규제를 적용한 회귀입니다. L1 규제는 $ alpha *  \\lvert\\lvert W \\rvert\\rvert_1 $ 와 같이 W의 절대값에 대해 패널티를 부여합니다. L1 규제를 적용하면 영향력이 크지 않은 회귀 계수 값을 0으로 변환합니다.\n",
    "* ElasticNet은 L1, L2 규제를 함께 결합한 모델입니다. 주로 피처가 많은 데이터 세트에서 적용되며, L1 규제로 피처의 개수를 줄임과 동시에 L2 규제로 계수 값의 크기를 조정합니다."
   ]
  },
  {
   "cell_type": "markdown",
   "id": "07fdae31",
   "metadata": {},
   "source": [
    "---\n",
    "\n",
    "## Regularized Linear Model - Ridge, Lasso\n",
    "\n",
    "\n",
    "### Regularized Linear Model - Ridge Regression\n",
    "\n",
    "* Ridge Regression : L2 규제를 적용한 회귀"
   ]
  },
  {
   "cell_type": "code",
   "execution_count": 26,
   "id": "1f20f9d3",
   "metadata": {},
   "outputs": [
    {
     "name": "stdout",
     "output_type": "stream",
     "text": [
      "Boston 데이터셋 크기 :  (506, 14)\n",
      "5 folds의 개별 Negative MSE scores :  [-11.422 -24.294 -28.144 -74.599 -28.517]\n",
      "5 folds의 개별 RMSE scores :  [3.38  4.929 5.305 8.637 5.34 ]\n",
      "5 folds의 평균 RMSE : 5.518\n"
     ]
    }
   ],
   "source": [
    "# 앞의 LinearRegression예제에서 분할한 feature 데이터 셋인 X_data와 Target 데이터셋을 그대로 이용\n",
    "from sklearn.linear_model import Ridge\n",
    "from sklearn.model_selection import cross_val_score\n",
    "\n",
    "# boston 데이터셋 로드\n",
    "boston = load_boston()\n",
    "\n",
    "# boston 데이터셋 DataFrame 변환\n",
    "bostonDF = pd.DataFrame(boston.data, columns=boston.feature_names)\n",
    "\n",
    "# boston dataset의 target array는 주택 가격임. 이를 PRICE 컬럼으로 DataFrame에 추가함.\n",
    "bostonDF['PRICE'] = boston.target\n",
    "print('Boston 데이터셋 크기 : ', bostonDF.shape)\n",
    "\n",
    "y_target = bostonDF['PRICE']\n",
    "X_data = bostonDF.drop(['PRICE'], axis=1, inplace=False)\n",
    "\n",
    "ridge = Ridge(alpha=10)\n",
    "neg_mse_scores = cross_val_score(ridge, X_data, y_target, scoring=\"neg_mean_squared_error\", cv=5)\n",
    "rmse_scores = np.sqrt(-1 * neg_mse_scores)\n",
    "avg_rmse = np.mean(rmse_scores)\n",
    "\n",
    "print('5 folds의 개별 Negative MSE scores : ', np.round(neg_mse_scores, 3))\n",
    "print('5 folds의 개별 RMSE scores : ', np.round(rmse_scores, 3))\n",
    "print('5 folds의 평균 RMSE : {0:.3f}'.format(avg_rmse))"
   ]
  },
  {
   "cell_type": "markdown",
   "id": "fda19941",
   "metadata": {},
   "source": [
    "#### alpha값을 0, 0.1, 1, 10, 100 으로 변경하면서 RMSE 측정"
   ]
  },
  {
   "cell_type": "code",
   "execution_count": 28,
   "id": "984f66f7",
   "metadata": {},
   "outputs": [
    {
     "name": "stdout",
     "output_type": "stream",
     "text": [
      "alpha 0 일 때 5 folds의 평균 RMSE : 5.829\n",
      "alpha 0.1 일 때 5 folds의 평균 RMSE : 5.788\n",
      "alpha 1 일 때 5 folds의 평균 RMSE : 5.653\n",
      "alpha 10 일 때 5 folds의 평균 RMSE : 5.518\n",
      "alpha 100 일 때 5 folds의 평균 RMSE : 5.330\n"
     ]
    }
   ],
   "source": [
    "# Ridge에 사용될 alpha 파라미터의 값들을 정의\n",
    "alphas = [0, 0.1, 1, 10, 100]\n",
    "\n",
    "# alphas list 값을 iteration하면서 alpha에 따른 평균 rmse를 구함.\n",
    "for alpha in alphas:\n",
    "    ridge = Ridge(alpha = alpha)\n",
    "    \n",
    "    # cross_val_score를 이용하여 5 fold의 평균 RMSE 계산\n",
    "    neg_mse_scores = cross_val_score(ridge, X_data, y_target, scoring=\"neg_mean_squared_error\", cv=5)\n",
    "    avg_rmse = np.mean(np.sqrt(-1 * neg_mse_scores))\n",
    "    \n",
    "    print('alpha {0} 일 때 5 folds의 평균 RMSE : {1:.3f}'.format(alpha, avg_rmse))\n",
    "    \n",
    "# alpha값이 늘어날수록 RMSE가 줄어듬"
   ]
  },
  {
   "cell_type": "markdown",
   "id": "56d8885c",
   "metadata": {},
   "source": [
    "#### 각 alpha에 따른 회귀 계수 값을 시각화, 각 alpha값 별로 plt.subplots로 맷플롯립 측 생성"
   ]
  },
  {
   "cell_type": "code",
   "execution_count": 30,
   "id": "09694d78",
   "metadata": {},
   "outputs": [
    {
     "data": {
      "image/png": "[encoded data removed]",
      "text/plain": [
       "<Figure size 1296x432 with 5 Axes>"
      ]
     },
     "metadata": {
      "needs_background": "light"
     },
     "output_type": "display_data"
    }
   ],
   "source": [
    "# 각 alpha에 따른 회귀 계수 값을 시각화하기 위해 5개의 열로 된 맷플롯립 축 생성\n",
    "fix, axs = plt.subplots(figsize=(18, 6), nrows=1, ncols=5)\n",
    "\n",
    "# 각 alpha에 따른 회귀 계수 값을 데이터로 저장하기 위한 DataFrame 생성\n",
    "coeff_df = pd.DataFrame()\n",
    "\n",
    "# alphas 리스트 값을 차례로 입력해 회귀 계수 값 시각화 및 데이터 저장, pos는 axis의 위치 지정\n",
    "for pos, alpha in enumerate(alphas):\n",
    "    ridge = Ridge(alpha=alpha)\n",
    "    ridge.fit(X_data, y_target)\n",
    "    \n",
    "    # alpha에 따른 피처별 회귀 계수를 Series로 변환하고 이를 DataFrame의 컬럼으로 추가.\n",
    "    coeff = pd.Series(data=ridge.coef_, index=X_data.columns) #coef_ : 계수\n",
    "    colname = 'alpha:'+str(alpha)\n",
    "    coeff_df[colname] = coeff\n",
    "    \n",
    "    # 막대 그래프로 각 alpha 값에서의 회귀 계수를 시각화, 회귀 계수값이 높은 순으로 표현\n",
    "    coeff = coeff.sort_values(ascending=False)\n",
    "    axs[pos].set_title(colname)\n",
    "    axs[pos].set_xlim(-3, 6)\n",
    "    sns.barplot(x=coeff.values, y=coeff.index, ax=axs[pos])\n",
    "    \n",
    "# for문 바깥에서 show 호출 및 alpha에 따른 피처별 회귀 계수를 DataFrame으로 표시\n",
    "plt.show()"
   ]
  },
  {
   "cell_type": "markdown",
   "id": "02194166",
   "metadata": {},
   "source": [
    "#### alpha값에 따른 컬럼별 회귀계수 출력"
   ]
  },
  {
   "cell_type": "code",
   "execution_count": 32,
   "id": "e2726b91",
   "metadata": {},
   "outputs": [
    {
     "data": {
      "text/html": [
       "<div>\n",
       "<style scoped>\n",
       "    .dataframe tbody tr th:only-of-type {\n",
       "        vertical-align: middle;\n",
       "    }\n",
       "\n",
       "    .dataframe tbody tr th {\n",
       "        vertical-align: top;\n",
       "    }\n",
       "\n",
       "    .dataframe thead th {\n",
       "        text-align: right;\n",
       "    }\n",
       "</style>\n",
       "<table border=\"1\" class=\"dataframe\">\n",
       "  <thead>\n",
       "    <tr style=\"text-align: right;\">\n",
       "      <th></th>\n",
       "      <th>alpha:0</th>\n",
       "      <th>alpha:0.1</th>\n",
       "      <th>alpha:1</th>\n",
       "      <th>alpha:10</th>\n",
       "      <th>alpha:100</th>\n",
       "    </tr>\n",
       "  </thead>\n",
       "  <tbody>\n",
       "    <tr>\n",
       "      <th>RM</th>\n",
       "      <td>3.809865</td>\n",
       "      <td>3.818233</td>\n",
       "      <td>3.854000</td>\n",
       "      <td>3.702272</td>\n",
       "      <td>2.334536</td>\n",
       "    </tr>\n",
       "    <tr>\n",
       "      <th>CHAS</th>\n",
       "      <td>2.686734</td>\n",
       "      <td>2.670019</td>\n",
       "      <td>2.552393</td>\n",
       "      <td>1.952021</td>\n",
       "      <td>0.638335</td>\n",
       "    </tr>\n",
       "    <tr>\n",
       "      <th>RAD</th>\n",
       "      <td>0.306049</td>\n",
       "      <td>0.303515</td>\n",
       "      <td>0.290142</td>\n",
       "      <td>0.279596</td>\n",
       "      <td>0.315358</td>\n",
       "    </tr>\n",
       "    <tr>\n",
       "      <th>ZN</th>\n",
       "      <td>0.046420</td>\n",
       "      <td>0.046572</td>\n",
       "      <td>0.047443</td>\n",
       "      <td>0.049579</td>\n",
       "      <td>0.054496</td>\n",
       "    </tr>\n",
       "    <tr>\n",
       "      <th>INDUS</th>\n",
       "      <td>0.020559</td>\n",
       "      <td>0.015999</td>\n",
       "      <td>-0.008805</td>\n",
       "      <td>-0.042962</td>\n",
       "      <td>-0.052826</td>\n",
       "    </tr>\n",
       "    <tr>\n",
       "      <th>B</th>\n",
       "      <td>0.009312</td>\n",
       "      <td>0.009368</td>\n",
       "      <td>0.009673</td>\n",
       "      <td>0.010037</td>\n",
       "      <td>0.009393</td>\n",
       "    </tr>\n",
       "    <tr>\n",
       "      <th>AGE</th>\n",
       "      <td>0.000692</td>\n",
       "      <td>-0.000269</td>\n",
       "      <td>-0.005415</td>\n",
       "      <td>-0.010707</td>\n",
       "      <td>0.001212</td>\n",
       "    </tr>\n",
       "    <tr>\n",
       "      <th>TAX</th>\n",
       "      <td>-0.012335</td>\n",
       "      <td>-0.012421</td>\n",
       "      <td>-0.012912</td>\n",
       "      <td>-0.013993</td>\n",
       "      <td>-0.015856</td>\n",
       "    </tr>\n",
       "    <tr>\n",
       "      <th>CRIM</th>\n",
       "      <td>-0.108011</td>\n",
       "      <td>-0.107474</td>\n",
       "      <td>-0.104595</td>\n",
       "      <td>-0.101435</td>\n",
       "      <td>-0.102202</td>\n",
       "    </tr>\n",
       "    <tr>\n",
       "      <th>LSTAT</th>\n",
       "      <td>-0.524758</td>\n",
       "      <td>-0.525966</td>\n",
       "      <td>-0.533343</td>\n",
       "      <td>-0.559366</td>\n",
       "      <td>-0.660764</td>\n",
       "    </tr>\n",
       "    <tr>\n",
       "      <th>PTRATIO</th>\n",
       "      <td>-0.952747</td>\n",
       "      <td>-0.940759</td>\n",
       "      <td>-0.876074</td>\n",
       "      <td>-0.797945</td>\n",
       "      <td>-0.829218</td>\n",
       "    </tr>\n",
       "    <tr>\n",
       "      <th>DIS</th>\n",
       "      <td>-1.475567</td>\n",
       "      <td>-1.459626</td>\n",
       "      <td>-1.372654</td>\n",
       "      <td>-1.248808</td>\n",
       "      <td>-1.153390</td>\n",
       "    </tr>\n",
       "    <tr>\n",
       "      <th>NOX</th>\n",
       "      <td>-17.766611</td>\n",
       "      <td>-16.684645</td>\n",
       "      <td>-10.777015</td>\n",
       "      <td>-2.371619</td>\n",
       "      <td>-0.262847</td>\n",
       "    </tr>\n",
       "  </tbody>\n",
       "</table>\n",
       "</div>"
      ],
      "text/plain": [
       "           alpha:0  alpha:0.1    alpha:1  alpha:10  alpha:100\n",
       "RM        3.809865   3.818233   3.854000  3.702272   2.334536\n",
       "CHAS      2.686734   2.670019   2.552393  1.952021   0.638335\n",
       "RAD       0.306049   0.303515   0.290142  0.279596   0.315358\n",
       "ZN        0.046420   0.046572   0.047443  0.049579   0.054496\n",
       "INDUS     0.020559   0.015999  -0.008805 -0.042962  -0.052826\n",
       "B         0.009312   0.009368   0.009673  0.010037   0.009393\n",
       "AGE       0.000692  -0.000269  -0.005415 -0.010707   0.001212\n",
       "TAX      -0.012335  -0.012421  -0.012912 -0.013993  -0.015856\n",
       "CRIM     -0.108011  -0.107474  -0.104595 -0.101435  -0.102202\n",
       "LSTAT    -0.524758  -0.525966  -0.533343 -0.559366  -0.660764\n",
       "PTRATIO  -0.952747  -0.940759  -0.876074 -0.797945  -0.829218\n",
       "DIS      -1.475567  -1.459626  -1.372654 -1.248808  -1.153390\n",
       "NOX     -17.766611 -16.684645 -10.777015 -2.371619  -0.262847"
      ]
     },
     "execution_count": 32,
     "metadata": {},
     "output_type": "execute_result"
    }
   ],
   "source": [
    "ridge_alphas = [0, 0.1, 1, 10, 100]\n",
    "sort_column = 'alpha:'+str(ridge_alphas[0])\n",
    "coeff_df.sort_values(by=sort_column, ascending=False)"
   ]
  },
  {
   "cell_type": "code",
   "execution_count": null,
   "id": "5670d4ed",
   "metadata": {},
   "outputs": [],
   "source": []
  }
 ],
 "metadata": {
  "kernelspec": {
   "display_name": "Python 3 (ipykernel)",
   "language": "python",
   "name": "python3"
  },
  "language_info": {
   "codemirror_mode": {
    "name": "ipython",
    "version": 3
   },
   "file_extension": ".py",
   "mimetype": "text/x-python",
   "name": "python",
   "nbconvert_exporter": "python",
   "pygments_lexer": "ipython3",
   "version": "3.9.7"
  }
 },
 "nbformat": 4,
 "nbformat_minor": 5
}
