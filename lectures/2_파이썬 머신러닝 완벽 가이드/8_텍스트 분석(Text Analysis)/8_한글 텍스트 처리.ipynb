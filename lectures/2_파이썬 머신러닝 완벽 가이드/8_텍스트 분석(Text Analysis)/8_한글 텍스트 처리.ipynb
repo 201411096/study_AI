{
 "cells": [
  {
   "cell_type": "markdown",
   "id": "258ca79b",
   "metadata": {},
   "source": [
    "### 한글 NLP - 한글 NLP 처리의 어려움"
   ]
  },
  {
   "cell_type": "markdown",
   "id": "9662efed",
   "metadata": {},
   "source": [
    "* 한글 NLP를 어렵게 만드는 요인들\n",
    "    * 띄워쓰기\n",
    "    * 다양한 조사\n",
    "    * 주어/목적어가 생략되어도 의미 전달 가능\n",
    "    * 의성어/의태어, 높임말 등"
   ]
  },
  {
   "cell_type": "markdown",
   "id": "df2f8573",
   "metadata": {},
   "source": [
    "### 한글 형태소 분석\n",
    "\n",
    "* 형태소의 사전적인 의미는 '단어로서 의미를 가지는 최소 단위'로 정의할 수 있습니다.\n",
    "* 형태소 분석(Morphologicalanalysis)이란 말뭉치를 이러한 형태소 어근 단위로 쪼개고, 각 형태소에 품사 태깅(POS tagging)을 부착하는 작업을 일반적으로 지칭합니다."
   ]
  },
  {
   "cell_type": "markdown",
   "id": "6bdb5230",
   "metadata": {},
   "source": [
    "### KoNLPy\n",
    "\n",
    "* KoNLPy는 기존의 C/C++, Java로 잘 만들어진 한글 형태소 엔진을 파이썬 래퍼(Wrapper) 기반으로 재작성한 패키지입니다.\n",
    "    * 꼬꼬마(Kkma)\n",
    "    * 한나눔(Hannanum)\n",
    "    * Komoran\n",
    "    * 은전한닢 프로젝트(Mecab)\n",
    "    * Twitter"
   ]
  },
  {
   "cell_type": "markdown",
   "id": "d2ec377c",
   "metadata": {},
   "source": [
    "### 윈도우 환경에서 KoNLPy 설치하기\n",
    "\n",
    "1. Jpype 설치하기\n",
    "    * conda install -c conda-forge jpype1\n",
    "2. Java 설치하고 JAVA_HOME 환경 변수 수정\n",
    "3. KoNLPy 설치하기\n",
    "    * pip install konlpy"
   ]
  },
  {
   "cell_type": "code",
   "execution_count": null,
   "id": "2be70a15",
   "metadata": {},
   "outputs": [],
   "source": []
  }
 ],
 "metadata": {
  "kernelspec": {
   "display_name": "Python 3 (ipykernel)",
   "language": "python",
   "name": "python3"
  },
  "language_info": {
   "codemirror_mode": {
    "name": "ipython",
    "version": 3
   },
   "file_extension": ".py",
   "mimetype": "text/x-python",
   "name": "python",
   "nbconvert_exporter": "python",
   "pygments_lexer": "ipython3",
   "version": "3.9.7"
  }
 },
 "nbformat": 4,
 "nbformat_minor": 5
}
