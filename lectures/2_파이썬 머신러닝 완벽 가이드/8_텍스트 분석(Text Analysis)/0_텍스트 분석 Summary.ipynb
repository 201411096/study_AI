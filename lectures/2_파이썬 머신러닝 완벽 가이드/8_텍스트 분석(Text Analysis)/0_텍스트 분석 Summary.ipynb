{
 "cells": [
  {
   "cell_type": "markdown",
   "id": "708da2d4",
   "metadata": {},
   "source": [
    "### 텍스트 분석 머신러닝 프로세스\n",
    "\n",
    "* 텍스트 전처리 -> 피처 벡터화 -> ML 학습/예측 평가"
   ]
  },
  {
   "cell_type": "markdown",
   "id": "a8d85b01",
   "metadata": {},
   "source": [
    "### 텍스트 전처리\n",
    "\n",
    "* 클린징, 토큰화, 필터링/스톱워드 제거, 어근화(Stemming, Lemmatization)"
   ]
  },
  {
   "cell_type": "markdown",
   "id": "d31fe1ec",
   "metadata": {},
   "source": [
    "### 피처 벡터화\n",
    "\n",
    "* Bag of Words : 단순 카운트 기반 벡터화, TF-IDF 벡터화"
   ]
  },
  {
   "cell_type": "markdown",
   "id": "995b9a73",
   "metadata": {},
   "source": [
    "### 텍스트 분석 주요 영역\n",
    "\n",
    "* 텍스트 분류 : 지도 학습 기반의 텍스트 카테고리 분류\n",
    "* 감성 분석 : 지도학습 기반, 감성 사전 기반\n",
    "* 텍스트 요약 : 토픽 모델링\n",
    "* 텍스트 군집화와 유사도 측정"
   ]
  },
  {
   "cell_type": "markdown",
   "id": "8b727b70",
   "metadata": {},
   "source": [
    "### 한글 NLP"
   ]
  },
  {
   "cell_type": "markdown",
   "id": "85da6cc8",
   "metadata": {},
   "source": [
    "### 비정형 데이터와 정형 데이터 결합을 통한 예측 분석"
   ]
  }
 ],
 "metadata": {
  "kernelspec": {
   "display_name": "Python 3 (ipykernel)",
   "language": "python",
   "name": "python3"
  },
  "language_info": {
   "codemirror_mode": {
    "name": "ipython",
    "version": 3
   },
   "file_extension": ".py",
   "mimetype": "text/x-python",
   "name": "python",
   "nbconvert_exporter": "python",
   "pygments_lexer": "ipython3",
   "version": "3.9.7"
  }
 },
 "nbformat": 4,
 "nbformat_minor": 5
}
