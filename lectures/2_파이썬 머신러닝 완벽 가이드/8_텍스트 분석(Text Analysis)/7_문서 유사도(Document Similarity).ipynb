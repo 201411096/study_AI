{
 "cells": [
  {
   "cell_type": "markdown",
   "id": "f3565a94",
   "metadata": {},
   "source": [
    "### 문서 유사도 측정 지표\n",
    "\n",
    "* Cosine Similarity\n",
    "* Jaccard Similarity\n",
    "* Manhattan Distance\n",
    "* Euclidean Distance"
   ]
  },
  {
   "cell_type": "markdown",
   "id": "098a9baa",
   "metadata": {},
   "source": [
    "### 코사인 유사도\n",
    "\n",
    "* cos 0 = 1\n",
    "    * 유사 벡터들\n",
    "* cos 90 = 0\n",
    "    * 관련성이 없는 벡터들\n",
    "* cos 180 = -1\n",
    "    * 반대 관계익 벡터들\n",
    "\n",
    "* 피처 벡터 행렬은 음수값이 없으므로 코사인 유사도의 -값이 나타나지 않음\n",
    "* 따라서 코사인 유사도는 0~1사이. 1로 갈수록 유사함\n",
    "\n"
   ]
  },
  {
   "cell_type": "markdown",
   "id": "aefcd8c3",
   "metadata": {},
   "source": [
    "* $ A * B = \\vert \\vert A \\vert \\vert \\vert\\vert B\\vert\\vert cos\\theta $\n",
    "* similarity = $ cos\\theta = \\frac{A*B}{\\vert \\vert A \\vert \\vert \\vert\\vert B\\vert\\vert} = \\frac{\\sum_{i=1}^nA_iB_i}{ \\sqrt{\\sum_{i=1}^nA_i^2} \\sqrt{\\sum_{i=1}^nB_i^2} }  $\n",
    "* 코사인 유사도는 벡터 크기의 비교가 아닌 벡터 방향성의 비교에 중점"
   ]
  },
  {
   "cell_type": "markdown",
   "id": "256f33dd",
   "metadata": {},
   "source": [
    "### 사이킷런 cosine_similarity()\n",
    "\n",
    "* sklearn.metrics.pairwise.cosine_similarity(X, Y=None, dense_output=True)\n",
    "* Pairwise(쌍) 형태로 각 문서와 문서끼리의 코사인 유사도를 행렬로 변환"
   ]
  },
  {
   "cell_type": "code",
   "execution_count": null,
   "id": "fb609d18",
   "metadata": {},
   "outputs": [],
   "source": []
  }
 ],
 "metadata": {
  "kernelspec": {
   "display_name": "Python 3 (ipykernel)",
   "language": "python",
   "name": "python3"
  },
  "language_info": {
   "codemirror_mode": {
    "name": "ipython",
    "version": 3
   },
   "file_extension": ".py",
   "mimetype": "text/x-python",
   "name": "python",
   "nbconvert_exporter": "python",
   "pygments_lexer": "ipython3",
   "version": "3.9.7"
  }
 },
 "nbformat": 4,
 "nbformat_minor": 5
}
